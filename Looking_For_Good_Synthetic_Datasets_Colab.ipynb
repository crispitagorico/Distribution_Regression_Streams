{
  "nbformat": 4,
  "nbformat_minor": 0,
  "metadata": {
    "kernelspec": {
      "name": "python3",
      "display_name": "Python 3"
    },
    "language_info": {
      "codemirror_mode": {
        "name": "ipython",
        "version": 3
      },
      "file_extension": ".py",
      "mimetype": "text/x-python",
      "name": "python",
      "nbconvert_exporter": "python",
      "pygments_lexer": "ipython3",
      "version": "3.7.4"
    },
    "latex_envs": {
      "LaTeX_envs_menu_present": true,
      "autoclose": false,
      "autocomplete": true,
      "bibliofile": "biblio.bib",
      "cite_by": "apalike",
      "current_citInitial": 1,
      "eqLabelWithNumbers": true,
      "eqNumInitial": 1,
      "hotkeys": {
        "equation": "Ctrl-E",
        "itemize": "Ctrl-I"
      },
      "labels_anchors": false,
      "latex_user_defs": false,
      "report_style_numbering": false,
      "user_envs_cfg": false
    },
    "toc": {
      "nav_menu": {},
      "number_sections": true,
      "sideBar": true,
      "skip_h1_title": false,
      "title_cell": "Table of Contents",
      "title_sidebar": "Contents",
      "toc_cell": true,
      "toc_position": {},
      "toc_section_display": true,
      "toc_window_display": true
    },
    "colab": {
      "name": "Looking_For_Good_Synthetic_Datasets_Colab.ipynb",
      "provenance": [],
      "include_colab_link": true
    },
    "accelerator": "GPU",
    "widgets": {
      "application/vnd.jupyter.widget-state+json": {
        "1cb537fb6815492ba5d99026f6832775": {
          "model_module": "@jupyter-widgets/controls",
          "model_name": "HBoxModel",
          "state": {
            "_view_name": "HBoxView",
            "_dom_classes": [],
            "_model_name": "HBoxModel",
            "_view_module": "@jupyter-widgets/controls",
            "_model_module_version": "1.5.0",
            "_view_count": null,
            "_view_module_version": "1.5.0",
            "box_style": "",
            "layout": "IPY_MODEL_8bd9266de8de4d858ddcef1dcacb59e4",
            "_model_module": "@jupyter-widgets/controls",
            "children": [
              "IPY_MODEL_ffcee022ac724c129d8ed92571f8410a",
              "IPY_MODEL_7b77cc82e3574494a45cbe65fdc5af0b"
            ]
          }
        },
        "8bd9266de8de4d858ddcef1dcacb59e4": {
          "model_module": "@jupyter-widgets/base",
          "model_name": "LayoutModel",
          "state": {
            "_view_name": "LayoutView",
            "grid_template_rows": null,
            "right": null,
            "justify_content": null,
            "_view_module": "@jupyter-widgets/base",
            "overflow": null,
            "_model_module_version": "1.2.0",
            "_view_count": null,
            "flex_flow": null,
            "width": null,
            "min_width": null,
            "border": null,
            "align_items": null,
            "bottom": null,
            "_model_module": "@jupyter-widgets/base",
            "top": null,
            "grid_column": null,
            "overflow_y": null,
            "overflow_x": null,
            "grid_auto_flow": null,
            "grid_area": null,
            "grid_template_columns": null,
            "flex": null,
            "_model_name": "LayoutModel",
            "justify_items": null,
            "grid_row": null,
            "max_height": null,
            "align_content": null,
            "visibility": null,
            "align_self": null,
            "height": null,
            "min_height": null,
            "padding": null,
            "grid_auto_rows": null,
            "grid_gap": null,
            "max_width": null,
            "order": null,
            "_view_module_version": "1.2.0",
            "grid_template_areas": null,
            "object_position": null,
            "object_fit": null,
            "grid_auto_columns": null,
            "margin": null,
            "display": null,
            "left": null
          }
        },
        "ffcee022ac724c129d8ed92571f8410a": {
          "model_module": "@jupyter-widgets/controls",
          "model_name": "IntProgressModel",
          "state": {
            "_view_name": "ProgressView",
            "style": "IPY_MODEL_1fe66ca59bfd400d8c60ef3c595f6310",
            "_dom_classes": [],
            "description": "",
            "_model_name": "IntProgressModel",
            "bar_style": "danger",
            "max": 2000,
            "_view_module": "@jupyter-widgets/controls",
            "_model_module_version": "1.5.0",
            "value": 472,
            "_view_count": null,
            "_view_module_version": "1.5.0",
            "orientation": "horizontal",
            "min": 0,
            "description_tooltip": null,
            "_model_module": "@jupyter-widgets/controls",
            "layout": "IPY_MODEL_339272288bac4a6ba71cd0c9eeb94d01"
          }
        },
        "7b77cc82e3574494a45cbe65fdc5af0b": {
          "model_module": "@jupyter-widgets/controls",
          "model_name": "HTMLModel",
          "state": {
            "_view_name": "HTMLView",
            "style": "IPY_MODEL_e38b48b9b7aa41c183f87089a4290534",
            "_dom_classes": [],
            "description": "",
            "_model_name": "HTMLModel",
            "placeholder": "​",
            "_view_module": "@jupyter-widgets/controls",
            "_model_module_version": "1.5.0",
            "value": " 24% 472/2000 [00:24&lt;00:35, 43.63it/s]",
            "_view_count": null,
            "_view_module_version": "1.5.0",
            "description_tooltip": null,
            "_model_module": "@jupyter-widgets/controls",
            "layout": "IPY_MODEL_cc5402a13ac04b47a073a1a6ef0b0475"
          }
        },
        "1fe66ca59bfd400d8c60ef3c595f6310": {
          "model_module": "@jupyter-widgets/controls",
          "model_name": "ProgressStyleModel",
          "state": {
            "_view_name": "StyleView",
            "_model_name": "ProgressStyleModel",
            "description_width": "",
            "_view_module": "@jupyter-widgets/base",
            "_model_module_version": "1.5.0",
            "_view_count": null,
            "_view_module_version": "1.2.0",
            "bar_color": null,
            "_model_module": "@jupyter-widgets/controls"
          }
        },
        "339272288bac4a6ba71cd0c9eeb94d01": {
          "model_module": "@jupyter-widgets/base",
          "model_name": "LayoutModel",
          "state": {
            "_view_name": "LayoutView",
            "grid_template_rows": null,
            "right": null,
            "justify_content": null,
            "_view_module": "@jupyter-widgets/base",
            "overflow": null,
            "_model_module_version": "1.2.0",
            "_view_count": null,
            "flex_flow": null,
            "width": null,
            "min_width": null,
            "border": null,
            "align_items": null,
            "bottom": null,
            "_model_module": "@jupyter-widgets/base",
            "top": null,
            "grid_column": null,
            "overflow_y": null,
            "overflow_x": null,
            "grid_auto_flow": null,
            "grid_area": null,
            "grid_template_columns": null,
            "flex": null,
            "_model_name": "LayoutModel",
            "justify_items": null,
            "grid_row": null,
            "max_height": null,
            "align_content": null,
            "visibility": null,
            "align_self": null,
            "height": null,
            "min_height": null,
            "padding": null,
            "grid_auto_rows": null,
            "grid_gap": null,
            "max_width": null,
            "order": null,
            "_view_module_version": "1.2.0",
            "grid_template_areas": null,
            "object_position": null,
            "object_fit": null,
            "grid_auto_columns": null,
            "margin": null,
            "display": null,
            "left": null
          }
        },
        "e38b48b9b7aa41c183f87089a4290534": {
          "model_module": "@jupyter-widgets/controls",
          "model_name": "DescriptionStyleModel",
          "state": {
            "_view_name": "StyleView",
            "_model_name": "DescriptionStyleModel",
            "description_width": "",
            "_view_module": "@jupyter-widgets/base",
            "_model_module_version": "1.5.0",
            "_view_count": null,
            "_view_module_version": "1.2.0",
            "_model_module": "@jupyter-widgets/controls"
          }
        },
        "cc5402a13ac04b47a073a1a6ef0b0475": {
          "model_module": "@jupyter-widgets/base",
          "model_name": "LayoutModel",
          "state": {
            "_view_name": "LayoutView",
            "grid_template_rows": null,
            "right": null,
            "justify_content": null,
            "_view_module": "@jupyter-widgets/base",
            "overflow": null,
            "_model_module_version": "1.2.0",
            "_view_count": null,
            "flex_flow": null,
            "width": null,
            "min_width": null,
            "border": null,
            "align_items": null,
            "bottom": null,
            "_model_module": "@jupyter-widgets/base",
            "top": null,
            "grid_column": null,
            "overflow_y": null,
            "overflow_x": null,
            "grid_auto_flow": null,
            "grid_area": null,
            "grid_template_columns": null,
            "flex": null,
            "_model_name": "LayoutModel",
            "justify_items": null,
            "grid_row": null,
            "max_height": null,
            "align_content": null,
            "visibility": null,
            "align_self": null,
            "height": null,
            "min_height": null,
            "padding": null,
            "grid_auto_rows": null,
            "grid_gap": null,
            "max_width": null,
            "order": null,
            "_view_module_version": "1.2.0",
            "grid_template_areas": null,
            "object_position": null,
            "object_fit": null,
            "grid_auto_columns": null,
            "margin": null,
            "display": null,
            "left": null
          }
        }
      }
    }
  },
  "cells": [
    {
      "cell_type": "markdown",
      "metadata": {
        "id": "view-in-github",
        "colab_type": "text"
      },
      "source": [
        "<a href=\"https://colab.research.google.com/github/maudl3116/Distribution_Regression_Streams/blob/master/Looking_For_Good_Synthetic_Datasets_Colab.ipynb\" target=\"_parent\"><img src=\"https://colab.research.google.com/assets/colab-badge.svg\" alt=\"Open In Colab\"/></a>"
      ]
    },
    {
      "cell_type": "markdown",
      "metadata": {
        "toc": true,
        "id": "gNfsK_kAztMX",
        "colab_type": "text"
      },
      "source": [
        "<h1>Table of Contents<span class=\"tocSkip\"></span></h1>\n",
        "<div class=\"toc\"><ul class=\"toc-item\"><li><span><a href=\"#Description\" data-toc-modified-id=\"Description-1\"><span class=\"toc-item-num\">1&nbsp;&nbsp;</span>Description</a></span></li><li><span><a href=\"#Testing-pipeline\" data-toc-modified-id=\"Testing-pipeline-2\"><span class=\"toc-item-num\">2&nbsp;&nbsp;</span>Testing pipeline</a></span></li><li><span><a href=\"#Comparison-Sig-Kernel-and-RBF-Kernel\" data-toc-modified-id=\"Comparison-Sig-Kernel-and-RBF-Kernel-3\"><span class=\"toc-item-num\">3&nbsp;&nbsp;</span>Comparison Sig-Kernel and RBF-Kernel</a></span></li></ul></div>"
      ]
    },
    {
      "cell_type": "code",
      "metadata": {
        "id": "Sapw4w_g-TKJ",
        "colab_type": "code",
        "colab": {}
      },
      "source": [
        "from google.colab import drive\n",
        "from os.path import join\n",
        "\n",
        "ROOT = '/content/drive'     \n",
        "PROJ = 'My Drive/Distribution_Regression_Proj'       \n",
        "\n",
        "drive.mount(ROOT)           # we mount the drive at /content/drive\n",
        "\n",
        "PROJECT_PATH = join(ROOT, PROJ)\n",
        "\n",
        "GIT_PATH = \"https://d1f5fb17f9201eeb70248ecea10d65a859c2fffe@github.com/maudl3116/Distribution_Regression_Streams.git\"\n",
        "\n",
        "!git clone \"{GIT_PATH}\"\n"
      ],
      "execution_count": 0,
      "outputs": []
    },
    {
      "cell_type": "code",
      "metadata": {
        "id": "5vgs7Fbh4kvV",
        "colab_type": "code",
        "colab": {
          "base_uri": "https://localhost:8080/",
          "height": 224
        },
        "outputId": "cd85d8a6-43d4-4c0b-a2ba-20c51dd6e1b9"
      },
      "source": [
        "!pip install iisignature"
      ],
      "execution_count": 3,
      "outputs": [
        {
          "output_type": "stream",
          "text": [
            "Collecting iisignature\n",
            "\u001b[?25l  Downloading https://files.pythonhosted.org/packages/5e/ee/f94dd13bfec5c6f2871f40a0eda9102a3e03fe914140e0ce204ad2d75c38/iisignature-0.24.tar.gz (1.3MB)\n",
            "\r\u001b[K     |▎                               | 10kB 17.2MB/s eta 0:00:01\r\u001b[K     |▌                               | 20kB 4.8MB/s eta 0:00:01\r\u001b[K     |▉                               | 30kB 6.7MB/s eta 0:00:01\r\u001b[K     |█                               | 40kB 8.5MB/s eta 0:00:01\r\u001b[K     |█▎                              | 51kB 5.7MB/s eta 0:00:01\r\u001b[K     |█▋                              | 61kB 6.6MB/s eta 0:00:01\r\u001b[K     |█▉                              | 71kB 7.5MB/s eta 0:00:01\r\u001b[K     |██                              | 81kB 8.3MB/s eta 0:00:01\r\u001b[K     |██▍                             | 92kB 9.1MB/s eta 0:00:01\r\u001b[K     |██▋                             | 102kB 7.4MB/s eta 0:00:01\r\u001b[K     |██▉                             | 112kB 7.4MB/s eta 0:00:01\r\u001b[K     |███▏                            | 122kB 7.4MB/s eta 0:00:01\r\u001b[K     |███▍                            | 133kB 7.4MB/s eta 0:00:01\r\u001b[K     |███▋                            | 143kB 7.4MB/s eta 0:00:01\r\u001b[K     |████                            | 153kB 7.4MB/s eta 0:00:01\r\u001b[K     |████▏                           | 163kB 7.4MB/s eta 0:00:01\r\u001b[K     |████▍                           | 174kB 7.4MB/s eta 0:00:01\r\u001b[K     |████▊                           | 184kB 7.4MB/s eta 0:00:01\r\u001b[K     |█████                           | 194kB 7.4MB/s eta 0:00:01\r\u001b[K     |█████▎                          | 204kB 7.4MB/s eta 0:00:01\r\u001b[K     |█████▌                          | 215kB 7.4MB/s eta 0:00:01\r\u001b[K     |█████▊                          | 225kB 7.4MB/s eta 0:00:01\r\u001b[K     |██████                          | 235kB 7.4MB/s eta 0:00:01\r\u001b[K     |██████▎                         | 245kB 7.4MB/s eta 0:00:01\r\u001b[K     |██████▌                         | 256kB 7.4MB/s eta 0:00:01\r\u001b[K     |██████▉                         | 266kB 7.4MB/s eta 0:00:01\r\u001b[K     |███████                         | 276kB 7.4MB/s eta 0:00:01\r\u001b[K     |███████▎                        | 286kB 7.4MB/s eta 0:00:01\r\u001b[K     |███████▋                        | 296kB 7.4MB/s eta 0:00:01\r\u001b[K     |███████▉                        | 307kB 7.4MB/s eta 0:00:01\r\u001b[K     |████████                        | 317kB 7.4MB/s eta 0:00:01\r\u001b[K     |████████▍                       | 327kB 7.4MB/s eta 0:00:01\r\u001b[K     |████████▋                       | 337kB 7.4MB/s eta 0:00:01\r\u001b[K     |████████▉                       | 348kB 7.4MB/s eta 0:00:01\r\u001b[K     |█████████▏                      | 358kB 7.4MB/s eta 0:00:01\r\u001b[K     |█████████▍                      | 368kB 7.4MB/s eta 0:00:01\r\u001b[K     |█████████▊                      | 378kB 7.4MB/s eta 0:00:01\r\u001b[K     |██████████                      | 389kB 7.4MB/s eta 0:00:01\r\u001b[K     |██████████▏                     | 399kB 7.4MB/s eta 0:00:01\r\u001b[K     |██████████▌                     | 409kB 7.4MB/s eta 0:00:01\r\u001b[K     |██████████▊                     | 419kB 7.4MB/s eta 0:00:01\r\u001b[K     |███████████                     | 430kB 7.4MB/s eta 0:00:01\r\u001b[K     |███████████▎                    | 440kB 7.4MB/s eta 0:00:01\r\u001b[K     |███████████▌                    | 450kB 7.4MB/s eta 0:00:01\r\u001b[K     |███████████▊                    | 460kB 7.4MB/s eta 0:00:01\r\u001b[K     |████████████                    | 471kB 7.4MB/s eta 0:00:01\r\u001b[K     |████████████▎                   | 481kB 7.4MB/s eta 0:00:01\r\u001b[K     |████████████▌                   | 491kB 7.4MB/s eta 0:00:01\r\u001b[K     |████████████▉                   | 501kB 7.4MB/s eta 0:00:01\r\u001b[K     |█████████████                   | 512kB 7.4MB/s eta 0:00:01\r\u001b[K     |█████████████▎                  | 522kB 7.4MB/s eta 0:00:01\r\u001b[K     |█████████████▋                  | 532kB 7.4MB/s eta 0:00:01\r\u001b[K     |█████████████▉                  | 542kB 7.4MB/s eta 0:00:01\r\u001b[K     |██████████████                  | 552kB 7.4MB/s eta 0:00:01\r\u001b[K     |██████████████▍                 | 563kB 7.4MB/s eta 0:00:01\r\u001b[K     |██████████████▋                 | 573kB 7.4MB/s eta 0:00:01\r\u001b[K     |███████████████                 | 583kB 7.4MB/s eta 0:00:01\r\u001b[K     |███████████████▏                | 593kB 7.4MB/s eta 0:00:01\r\u001b[K     |███████████████▍                | 604kB 7.4MB/s eta 0:00:01\r\u001b[K     |███████████████▊                | 614kB 7.4MB/s eta 0:00:01\r\u001b[K     |████████████████                | 624kB 7.4MB/s eta 0:00:01\r\u001b[K     |████████████████▏               | 634kB 7.4MB/s eta 0:00:01\r\u001b[K     |████████████████▌               | 645kB 7.4MB/s eta 0:00:01\r\u001b[K     |████████████████▊               | 655kB 7.4MB/s eta 0:00:01\r\u001b[K     |█████████████████               | 665kB 7.4MB/s eta 0:00:01\r\u001b[K     |█████████████████▎              | 675kB 7.4MB/s eta 0:00:01\r\u001b[K     |█████████████████▌              | 686kB 7.4MB/s eta 0:00:01\r\u001b[K     |█████████████████▊              | 696kB 7.4MB/s eta 0:00:01\r\u001b[K     |██████████████████              | 706kB 7.4MB/s eta 0:00:01\r\u001b[K     |██████████████████▎             | 716kB 7.4MB/s eta 0:00:01\r\u001b[K     |██████████████████▌             | 727kB 7.4MB/s eta 0:00:01\r\u001b[K     |██████████████████▉             | 737kB 7.4MB/s eta 0:00:01\r\u001b[K     |███████████████████             | 747kB 7.4MB/s eta 0:00:01\r\u001b[K     |███████████████████▍            | 757kB 7.4MB/s eta 0:00:01\r\u001b[K     |███████████████████▋            | 768kB 7.4MB/s eta 0:00:01\r\u001b[K     |███████████████████▉            | 778kB 7.4MB/s eta 0:00:01\r\u001b[K     |████████████████████▏           | 788kB 7.4MB/s eta 0:00:01\r\u001b[K     |████████████████████▍           | 798kB 7.4MB/s eta 0:00:01\r\u001b[K     |████████████████████▋           | 808kB 7.4MB/s eta 0:00:01\r\u001b[K     |█████████████████████           | 819kB 7.4MB/s eta 0:00:01\r\u001b[K     |█████████████████████▏          | 829kB 7.4MB/s eta 0:00:01\r\u001b[K     |█████████████████████▍          | 839kB 7.4MB/s eta 0:00:01\r\u001b[K     |█████████████████████▊          | 849kB 7.4MB/s eta 0:00:01\r\u001b[K     |██████████████████████          | 860kB 7.4MB/s eta 0:00:01\r\u001b[K     |██████████████████████▏         | 870kB 7.4MB/s eta 0:00:01\r\u001b[K     |██████████████████████▌         | 880kB 7.4MB/s eta 0:00:01\r\u001b[K     |██████████████████████▊         | 890kB 7.4MB/s eta 0:00:01\r\u001b[K     |███████████████████████         | 901kB 7.4MB/s eta 0:00:01\r\u001b[K     |███████████████████████▎        | 911kB 7.4MB/s eta 0:00:01\r\u001b[K     |███████████████████████▌        | 921kB 7.4MB/s eta 0:00:01\r\u001b[K     |███████████████████████▉        | 931kB 7.4MB/s eta 0:00:01\r\u001b[K     |████████████████████████        | 942kB 7.4MB/s eta 0:00:01\r\u001b[K     |████████████████████████▎       | 952kB 7.4MB/s eta 0:00:01\r\u001b[K     |████████████████████████▋       | 962kB 7.4MB/s eta 0:00:01\r\u001b[K     |████████████████████████▉       | 972kB 7.4MB/s eta 0:00:01\r\u001b[K     |█████████████████████████       | 983kB 7.4MB/s eta 0:00:01\r\u001b[K     |█████████████████████████▍      | 993kB 7.4MB/s eta 0:00:01\r\u001b[K     |█████████████████████████▋      | 1.0MB 7.4MB/s eta 0:00:01\r\u001b[K     |█████████████████████████▉      | 1.0MB 7.4MB/s eta 0:00:01\r\u001b[K     |██████████████████████████▏     | 1.0MB 7.4MB/s eta 0:00:01\r\u001b[K     |██████████████████████████▍     | 1.0MB 7.4MB/s eta 0:00:01\r\u001b[K     |██████████████████████████▋     | 1.0MB 7.4MB/s eta 0:00:01\r\u001b[K     |███████████████████████████     | 1.1MB 7.4MB/s eta 0:00:01\r\u001b[K     |███████████████████████████▏    | 1.1MB 7.4MB/s eta 0:00:01\r\u001b[K     |███████████████████████████▍    | 1.1MB 7.4MB/s eta 0:00:01\r\u001b[K     |███████████████████████████▊    | 1.1MB 7.4MB/s eta 0:00:01\r\u001b[K     |████████████████████████████    | 1.1MB 7.4MB/s eta 0:00:01\r\u001b[K     |████████████████████████████▏   | 1.1MB 7.4MB/s eta 0:00:01\r\u001b[K     |████████████████████████████▌   | 1.1MB 7.4MB/s eta 0:00:01\r\u001b[K     |████████████████████████████▊   | 1.1MB 7.4MB/s eta 0:00:01\r\u001b[K     |█████████████████████████████   | 1.1MB 7.4MB/s eta 0:00:01\r\u001b[K     |█████████████████████████████▎  | 1.1MB 7.4MB/s eta 0:00:01\r\u001b[K     |█████████████████████████████▌  | 1.2MB 7.4MB/s eta 0:00:01\r\u001b[K     |█████████████████████████████▉  | 1.2MB 7.4MB/s eta 0:00:01\r\u001b[K     |██████████████████████████████  | 1.2MB 7.4MB/s eta 0:00:01\r\u001b[K     |██████████████████████████████▎ | 1.2MB 7.4MB/s eta 0:00:01\r\u001b[K     |██████████████████████████████▋ | 1.2MB 7.4MB/s eta 0:00:01\r\u001b[K     |██████████████████████████████▉ | 1.2MB 7.4MB/s eta 0:00:01\r\u001b[K     |███████████████████████████████ | 1.2MB 7.4MB/s eta 0:00:01\r\u001b[K     |███████████████████████████████▍| 1.2MB 7.4MB/s eta 0:00:01\r\u001b[K     |███████████████████████████████▋| 1.2MB 7.4MB/s eta 0:00:01\r\u001b[K     |███████████████████████████████▉| 1.2MB 7.4MB/s eta 0:00:01\r\u001b[K     |████████████████████████████████| 1.3MB 7.4MB/s \n",
            "\u001b[?25hRequirement already satisfied: numpy>1.7 in /usr/local/lib/python3.6/dist-packages (from iisignature) (1.17.5)\n",
            "Building wheels for collected packages: iisignature\n",
            "  Building wheel for iisignature (setup.py) ... \u001b[?25l\u001b[?25hdone\n",
            "  Created wheel for iisignature: filename=iisignature-0.24-cp36-cp36m-linux_x86_64.whl size=2528029 sha256=46ce38e3c7822823f1819b4786ef8a2c5cef97aea0e1e0b58b7c2599699bd8c5\n",
            "  Stored in directory: /root/.cache/pip/wheels/57/33/98/2b03151aa0378df847a71a66ab6ed8f7594d310e11dcd60ed7\n",
            "Successfully built iisignature\n",
            "Installing collected packages: iisignature\n",
            "Successfully installed iisignature-0.24\n"
          ],
          "name": "stdout"
        }
      ]
    },
    {
      "cell_type": "code",
      "metadata": {
        "id": "XTriSr3BHYys",
        "colab_type": "code",
        "colab": {
          "base_uri": "https://localhost:8080/",
          "height": 255
        },
        "outputId": "135e5a91-d985-4fc3-f6d0-d439cbddfebe"
      },
      "source": [
        "%cd Distribution_Regression_Streams\n",
        "!git pull"
      ],
      "execution_count": 12,
      "outputs": [
        {
          "output_type": "stream",
          "text": [
            "[Errno 2] No such file or directory: 'Distribution_Regression_Streams'\n",
            "/content/Distribution_Regression_Streams\n",
            "remote: Enumerating objects: 7, done.\u001b[K\n",
            "remote: Counting objects: 100% (7/7), done.\u001b[K\n",
            "remote: Compressing objects: 100% (1/1), done.\u001b[K\n",
            "remote: Total 4 (delta 3), reused 4 (delta 3), pack-reused 0\u001b[K\n",
            "Unpacking objects: 100% (4/4), done.\n",
            "From https://github.com/maudl3116/Distribution_Regression_Streams\n",
            "   e4ae73c..b50a2ed  master     -> origin/master\n",
            "Updating e4ae73c..b50a2ed\n",
            "Fast-forward\n",
            " Looking_For_Good_Synthetic_Datasets.ipynb | 20 \u001b[32m++++++++++\u001b[m\u001b[31m----------\u001b[m\n",
            " experiment_script.py                      |  6 \u001b[32m+++\u001b[m\u001b[31m---\u001b[m\n",
            " 2 files changed, 13 insertions(+), 13 deletions(-)\n"
          ],
          "name": "stdout"
        }
      ]
    },
    {
      "cell_type": "code",
      "metadata": {
        "id": "0F-dW2l-ztMd",
        "colab_type": "code",
        "colab": {}
      },
      "source": [
        "import sys\n",
        "sys.path.append(\"Distribution_Regression_Streams/\")\n",
        "from importlib import reload\n",
        "import numpy as np\n",
        "import data_generators.ellipsis\n",
        "from data_generators import ellipsis\n",
        "import utils\n",
        "from utils import *\n",
        "import GP_models as GP_models\n",
        "from GP_models import GP_classic as GP_naive\n",
        "from GP_models import GP_sig_precomputed as GP_sig\n",
        "import experiments\n",
        "from experiments import * \n",
        "import signature_features\n",
        "from signature_features import *\n",
        "from experiment_script import exp1"
      ],
      "execution_count": 0,
      "outputs": []
    },
    {
      "cell_type": "code",
      "metadata": {
        "id": "thyPM-V3HJeq",
        "colab_type": "code",
        "colab": {}
      },
      "source": [
        "reload(ellipsis)\n",
        "\n",
        "N_bags = 100\n",
        "N_items = 10\n",
        "tspan = np.linspace(0.0, 10*np.pi, 500)\n",
        "spec_param = {'a':[1.,3.], 'b':[1.,3.]} #,'stdv_noise':[None]}\n",
        "\n",
        "example = ellipsis.Ellipsis()\n",
        "example.generate_data(N_bags=N_bags,N_items=N_items, t_span = tspan,spec_param=spec_param, stdv_pos=0., stdv_noise=0.01)\n",
        "example.get_e_ang()"
      ],
      "execution_count": 0,
      "outputs": []
    },
    {
      "cell_type": "code",
      "metadata": {
        "id": "MwyE5C__aO44",
        "colab_type": "code",
        "colab": {}
      },
      "source": [
        "example.subsample_paths(N=100,same_grid_items=False)\n"
      ],
      "execution_count": 0,
      "outputs": []
    },
    {
      "cell_type": "code",
      "metadata": {
        "id": "Knr_WJjgaRbK",
        "colab_type": "code",
        "colab": {}
      },
      "source": [
        "reload(utils)\n",
        "data_scaled, y_scaled, train_indices, test_indices = utils.split_standardize(example.labels,example.paths,standardized=True,method='stratify')"
      ],
      "execution_count": 0,
      "outputs": []
    },
    {
      "cell_type": "code",
      "metadata": {
        "id": "qYXWMc5VaUAi",
        "colab_type": "code",
        "colab": {
          "base_uri": "https://localhost:8080/",
          "height": 778,
          "referenced_widgets": [
            "1cb537fb6815492ba5d99026f6832775",
            "8bd9266de8de4d858ddcef1dcacb59e4",
            "ffcee022ac724c129d8ed92571f8410a",
            "7b77cc82e3574494a45cbe65fdc5af0b",
            "1fe66ca59bfd400d8c60ef3c595f6310",
            "339272288bac4a6ba71cd0c9eeb94d01",
            "e38b48b9b7aa41c183f87089a4290534",
            "cc5402a13ac04b47a073a1a6ef0b0475"
          ]
        },
        "outputId": "1bab6aad-51f5-447c-e10f-cdf87dd671d1"
      },
      "source": [
        "reload(GP_naive)\n",
        "reload(experiments)\n",
        "res = []\n",
        "\n",
        "\n",
        "# stack dimensions\n",
        "dim_1 = np.array(np.array(data_scaled)[:,:,:,0])\n",
        "dim_2 = np.array(np.array(data_scaled)[:,:,:,1])\n",
        "input_ = np.concatenate([dim_1,dim_2],axis=2)\n",
        "\n",
        "\n",
        "RMSE_train, R2_train, RMSE_test, R2_test = experiments.naive_experiment(input_, y_scaled ,train_indices,test_indices,param_init=[5,1,0],plot=True,device=torch.device('cuda'))\n",
        "res.append(R2_test)\n",
        "\n",
        "print(np.mean(res))"
      ],
      "execution_count": 25,
      "outputs": [
        {
          "output_type": "display_data",
          "data": {
            "application/vnd.jupyter.widget-view+json": {
              "model_id": "1cb537fb6815492ba5d99026f6832775",
              "version_minor": 0,
              "version_major": 2
            },
            "text/plain": [
              "HBox(children=(IntProgress(value=0, max=2000), HTML(value='')))"
            ]
          },
          "metadata": {
            "tags": []
          }
        },
        {
          "output_type": "display_data",
          "data": {
            "image/png": "[encoded data removed]",
            "text/plain": [
              "<Figure size 432x288 with 1 Axes>"
            ]
          },
          "metadata": {
            "tags": []
          }
        },
        {
          "output_type": "display_data",
          "data": {
            "image/png": "[encoded data removed]",
            "text/plain": [
              "<Figure size 1800x504 with 2 Axes>"
            ]
          },
          "metadata": {
            "tags": []
          }
        },
        {
          "output_type": "stream",
          "text": [
            "0.9945432176662264\n"
          ],
          "name": "stdout"
        }
      ]
    },
    {
      "cell_type": "code",
      "metadata": {
        "id": "3V6A9QVEaWSI",
        "colab_type": "code",
        "colab": {}
      },
      "source": [
        ""
      ],
      "execution_count": 0,
      "outputs": []
    }
  ]
}