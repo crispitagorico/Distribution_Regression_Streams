{
 "cells": [
  {
   "cell_type": "markdown",
   "metadata": {
    "toc": true
   },
   "source": [
    "<h1>Table of Contents<span class=\"tocSkip\"></span></h1>\n",
    "<div class=\"toc\"><ul class=\"toc-item\"></ul></div>"
   ]
  },
  {
   "cell_type": "code",
   "execution_count": 2,
   "metadata": {},
   "outputs": [],
   "source": [
    "from importlib import reload\n",
    "import pandas as pd\n",
    "import numpy as np\n",
    "from matplotlib import pyplot as plt\n",
    "from sklearn.model_selection import train_test_split\n",
    "import utils_covid\n",
    "from utils_covid import *\n",
    "from GP_models import GP_classic as GP_naive\n",
    "from GP_models import GP_sig_precomputed as GP_sig\n",
    "import experiments\n",
    "from experiments import * \n",
    "import signature_features_covid\n",
    "from signature_features_covid import *"
   ]
  },
  {
   "cell_type": "code",
   "execution_count": 3,
   "metadata": {},
   "outputs": [],
   "source": [
    "data_covid = pd.read_csv('covid_data/us-counties.csv')\n",
    "pop_state = pd.read_csv('covid_data/SCPRC-EST2019-18+POP-RES.csv')\n",
    "pop_county = pd.read_csv('covid_data/co-est2019-alldata.csv',encoding = \"ISO-8859-1\")"
   ]
  },
  {
   "cell_type": "code",
   "execution_count": 4,
   "metadata": {},
   "outputs": [],
   "source": [
    "pop_county['CTYNAME'] = pop_county['CTYNAME'].apply(lambda x: x.split(' County')[0])\n",
    "pop_county['CTYNAME'] = pop_county['CTYNAME'].apply(lambda x: x.split(' Parish')[0])\n",
    "pop_county['CTYNAME'] = pop_county['CTYNAME'].apply(lambda x: x.split(' Municipality')[0])\n",
    "pop_county['CTYNAME'] = pop_county['CTYNAME'].apply(lambda x: x.split(' City')[0])"
   ]
  },
  {
   "cell_type": "code",
   "execution_count": 5,
   "metadata": {},
   "outputs": [],
   "source": [
    "data_covid['county'] = data_covid['county'].apply(lambda x: x.split(' City')[0])\n",
    "data_covid['county'] = data_covid['county'].apply(lambda x: x.split(' City')[0])"
   ]
  },
  {
   "cell_type": "markdown",
   "metadata": {},
   "source": [
    "Change the data into the format compatible with our code.\\\\\n",
    "\n",
    "N_bags x N_items x time x dim <-> N_states x N_counties x time x 2\n",
    "\n",
    "However, we won't have the same number of counties per state, hence need to adapt the code base\n",
    "\n",
    "Also, the times are not the same for each county"
   ]
  },
  {
   "cell_type": "code",
   "execution_count": 6,
   "metadata": {},
   "outputs": [
    {
     "name": "stdout",
     "output_type": "stream",
     "text": [
      "Puerto Rico\n",
      "Northern Mariana Islands\n",
      "Guam\n",
      "Virgin Islands\n"
     ]
    }
   ],
   "source": [
    "data_covid['county']\n",
    "states = list(set(data_covid.state.values))\n",
    "states_pop = list(set(pop_state.NAME.values))\n",
    "N_states = len(states)\n",
    "\n",
    "for state in states:\n",
    "    if not state in states_pop:\n",
    "        print(state)\n",
    "        "
   ]
  },
  {
   "cell_type": "code",
   "execution_count": 478,
   "metadata": {},
   "outputs": [
    {
     "name": "stdout",
     "output_type": "stream",
     "text": [
      "1416\n"
     ]
    }
   ],
   "source": [
    "bags = []\n",
    "labels = []\n",
    "weigthed_labels = []\n",
    "count=0\n",
    "last_day = []\n",
    "pop = []\n",
    "weights = []\n",
    "list_df = {}\n",
    "\n",
    "for state in states_pop:\n",
    "\n",
    "    bag = []\n",
    "    label = []\n",
    "    weight = []\n",
    "    \n",
    "    state_data = data_covid[data_covid['state']==state]\n",
    "    counties_state = list(set(state_data.county.values))\n",
    "    \n",
    "    df = pd.DataFrame(columns=['date','county','cases','death'])\n",
    "    \n",
    "    for county in counties_state:\n",
    "        \n",
    "        \n",
    "        \n",
    "        item = state_data[state_data['county']==county]\n",
    "        \n",
    "        item = item[item['date']<'2020-03-31']\n",
    "        np_item = item[['cases','deaths']].to_numpy()\n",
    "        \n",
    "        if len(np_item)<10 or county=='Unknown':\n",
    "            count+=1\n",
    "        else:\n",
    "          \n",
    "            #tot_pop = pop_state[pop_state['NAME']==state]['POPESTIMATE2019'].values[0]\n",
    "            county_pop = pop_county[pop_county['CTYNAME']==county]['POPESTIMATE2019'].values[0]\n",
    "       \n",
    "            bag.append(np.diff(np_item[:-1,:-1],axis=0))\n",
    "            label.append(np_item[-1,-1]-np_item[-2,-1])\n",
    "            #bag.append(100*np_item[:-1,:]/population)\n",
    "            #label.append(100.*np_item[-1,-1]/population)\n",
    "            last_day.append(item['date'].values[-1])\n",
    "            weight.append(county_pop)\n",
    "    if len(bag)>=1:\n",
    "        list_df[state]=df\n",
    "        name_states.append(state)\n",
    "        if sum(label)<80:\n",
    "            bags.append(bag)\n",
    "            labels.append(label)\n",
    "            #pop.append(population)\n",
    "            weights.append(weight)\n",
    "\n",
    "print(count)"
   ]
  },
  {
   "cell_type": "code",
   "execution_count": 479,
   "metadata": {},
   "outputs": [
    {
     "name": "stdout",
     "output_type": "stream",
     "text": [
      "50\n",
      "49\n",
      "63\n"
     ]
    }
   ],
   "source": [
    "print(len(list_df))\n",
    "print(len(labels))\n",
    "print(max([sum(e) for e in labels]))"
   ]
  },
  {
   "cell_type": "code",
   "execution_count": 480,
   "metadata": {},
   "outputs": [
    {
     "data": {
      "text/plain": [
       "array([2, 7])"
      ]
     },
     "execution_count": 480,
     "metadata": {},
     "output_type": "execute_result"
    }
   ],
   "source": [
    "np.diff([1,3,10])"
   ]
  },
  {
   "cell_type": "code",
   "execution_count": 481,
   "metadata": {},
   "outputs": [],
   "source": [
    "weights_ = [[np.float64(county)/np.float64(sum(state)) for county in state] for state in weights]"
   ]
  },
  {
   "cell_type": "markdown",
   "metadata": {},
   "source": [
    "Train test split"
   ]
  },
  {
   "cell_type": "code",
   "execution_count": 482,
   "metadata": {},
   "outputs": [],
   "source": [
    "#y_weighted = [np.sum([np.array(weights_[i])*np.array(labels[i])]) for i,e in enumerate(labels)]\n",
    "#y_weighted = [1000*np.sum(np.array(labels[i]))/np.sum(np.array(weights[i])) for i,e in enumerate(labels)]\n",
    "y_weighted = [np.sum(labels[i]) for i in range(len(labels))]\n",
    "y_weighted = np.array(y_weighted)[:,None]\n",
    "y = [np.mean(e) for i,e in enumerate(labels)]\n",
    "y = np.array(y)[:,None]"
   ]
  },
  {
   "cell_type": "code",
   "execution_count": 485,
   "metadata": {},
   "outputs": [
    {
     "data": {
      "text/plain": [
       "(11, 1)"
      ]
     },
     "execution_count": 485,
     "metadata": {},
     "output_type": "execute_result"
    }
   ],
   "source": [
    "reload(utils_covid)\n",
    "data_aug = []\n",
    "for i in range(len(bags)):\n",
    "    data_aug.append(utils_covid.add_dimension2(bags[i],add_time=True,lead_lag=[1]))\n",
    "bags[0][0].shape\n",
    "#data_aug = [e.copy() for e in bags]"
   ]
  },
  {
   "cell_type": "code",
   "execution_count": 486,
   "metadata": {},
   "outputs": [
    {
     "name": "stdout",
     "output_type": "stream",
     "text": [
      "32\n",
      "17\n"
     ]
    },
    {
     "data": {
      "image/png": "[encoded data removed]",
      "text/plain": [
       "<Figure size 432x288 with 1 Axes>"
      ]
     },
     "metadata": {
      "needs_background": "light"
     },
     "output_type": "display_data"
    },
    {
     "name": "stdout",
     "output_type": "stream",
     "text": [
      "(21, 3)\n"
     ]
    },
    {
     "data": {
      "image/png": "[encoded data removed]",
      "text/plain": [
       "<Figure size 432x288 with 1 Axes>"
      ]
     },
     "metadata": {
      "needs_background": "light"
     },
     "output_type": "display_data"
    }
   ],
   "source": [
    "reload(utils_covid)\n",
    "data_scaled, y_scaled, train_index, test_index = utils_covid.split_standardize(y_weighted,data_aug,standardized_input=True, standardized_label=False,method='stratify',random_state=1)\n",
    "\n",
    "print(len(train_index))\n",
    "print(len(test_index))\n",
    "plt.hist(y_scaled[train_index,:])\n",
    "plt.show()\n",
    "print(data_scaled[0][0].shape)\n",
    "plt.plot(data_scaled[5][0])\n",
    "plt.show()\n"
   ]
  },
  {
   "cell_type": "code",
   "execution_count": 491,
   "metadata": {},
   "outputs": [
    {
     "name": "stdout",
     "output_type": "stream",
     "text": [
      "maxi 40000.0\n"
     ]
    }
   ],
   "source": [
    "# # specs for expected sig \n",
    "reload(signature_features_covid)\n",
    "reload(experiments)\n",
    "reload(GP_sig)\n",
    "sig_level1 = 2\n",
    "M = 20000\n",
    "\n",
    "results = []\n",
    "\n",
    "\n",
    "\n",
    "# pathwise expected sig  \n",
    "#expected_pathwise_sig,bags_before,bags_after = signature_features_covid.scaled_expected_sig([e.copy() for e in data_scaled],sig_level1,M=M,a=1,ilya_rescale=True,return_norms=True)\n",
    "expected_pathwise_sig = signature_features_covid.scaled_expected_sig([e.copy() for e in data_scaled],sig_level1,M=M,a=1,ilya_rescale=False,return_norms=False)#,weights=weights_)\n"
   ]
  },
  {
   "cell_type": "code",
   "execution_count": 492,
   "metadata": {},
   "outputs": [],
   "source": [
    "# fig,ax = plt.subplots(1,2,figsize=(15,5))\n",
    "# ax[0].hist(bags_before)\n",
    "# ax[1].hist(bags_after)\n",
    "# plt.show()"
   ]
  },
  {
   "cell_type": "code",
   "execution_count": 493,
   "metadata": {},
   "outputs": [
    {
     "name": "stdout",
     "output_type": "stream",
     "text": [
      "(49, 12)\n"
     ]
    }
   ],
   "source": [
    "pop_scaled=pop\n",
    "#print(pop_scaled)\n",
    "#features = []\n",
    "#for i in range(len(expected_pathwise_sig)):\n",
    " #   features.append(np.insert(expected_pathwise_sig[i],0,pop_scaled[i]))\n",
    "#features = np.array(features)\n",
    "#print(features.shape)\n",
    "features = expected_pathwise_sig\n",
    "\n",
    "scaler = StandardScaler()\n",
    "to_fit = [features[i] for i in train_index]\n",
    "scaler.fit(to_fit)\n",
    "features = scaler.transform(features)\n",
    "print(features.shape)"
   ]
  },
  {
   "cell_type": "code",
   "execution_count": 495,
   "metadata": {},
   "outputs": [
    {
     "data": {
      "application/vnd.jupyter.widget-view+json": {
       "model_id": "7f26f93f30b443749df170e49ee170d4",
       "version_major": 2,
       "version_minor": 0
      },
      "text/plain": [
       "HBox(children=(FloatProgress(value=0.0, max=20000.0), HTML(value='')))"
      ]
     },
     "metadata": {},
     "output_type": "display_data"
    },
    {
     "data": {
      "image/png": "[encoded data removed]",
      "text/plain": [
       "<Figure size 432x288 with 1 Axes>"
      ]
     },
     "metadata": {
      "needs_background": "light"
     },
     "output_type": "display_data"
    },
    {
     "data": {
      "image/png": "[encoded data removed]",
      "text/plain": [
       "<Figure size 1800x504 with 2 Axes>"
      ]
     },
     "metadata": {
      "needs_background": "light"
     },
     "output_type": "display_data"
    }
   ],
   "source": [
    "\n",
    "K_precomputed = experiments.precompute_K(features)\n",
    "RMSE_train, R2_train, RMSE_test, R2_test = experiments.experiment_precomputed(K_precomputed, y_scaled,train_index,test_index,param_init=[0,0,0],RBF=False,plot=True)\n"
   ]
  },
  {
   "cell_type": "code",
   "execution_count": 1042,
   "metadata": {},
   "outputs": [],
   "source": [
    "# # specs for pathwise expected sig\n",
    "# reload(signature_features_covid)\n",
    "# reload(experiments)\n",
    "# reload(GP_sig)\n",
    "# sig_level1 = 2\n",
    "# M1 = 10\n",
    "# M2 = 10\n",
    "# window = 0\n",
    "\n",
    "# # specs for signature\n",
    "# sig_level2 = 2\n",
    "\n",
    "\n",
    "# results = []\n",
    "\n",
    "\n",
    "# # pathwise expected sig  \n",
    "# expected_pathwise_sig = signature_features_covid.scaled_pathwise_expected_iisignature([e.copy() for e in data_scaled],sig_level1,M=M1,a=1,ilya_rescale=True,return_norms=False)\n",
    "# # final features \n",
    "# #signatures = signatory.signature(torch.tensor(expected_pathwise_sig),sig_level2)\n",
    "# signatures = signature_features_covid.scale_path_ilya(expected_pathwise_sig,sig_level2,M=M2,a=1, return_norms=False)\n",
    "# K_precomputed = experiments.precompute_K(signatures)\n",
    "# RMSE_train, R2_train, RMSE_test, R2_test = experiments.experiment_precomputed(K_precomputed, y_scaled,train_index,test_index, param_init=[0,5,0],RBF=False,plot=True)\n",
    "# results.append(R2_test)\n",
    "\n",
    "# print(np.mean(results))\n",
    "      "
   ]
  },
  {
   "cell_type": "code",
   "execution_count": 541,
   "metadata": {},
   "outputs": [],
   "source": [
    "df=pd.read_csv('https://raw.githubusercontent.com/opencovid19-fr/data/master/dist/chiffres-cles.csv')"
   ]
  },
  {
   "cell_type": "code",
   "execution_count": 542,
   "metadata": {},
   "outputs": [],
   "source": [
    "df.fillna(0., inplace=True)"
   ]
  },
  {
   "cell_type": "code",
   "execution_count": 543,
   "metadata": {},
   "outputs": [
    {
     "data": {
      "text/plain": [
       "Index(['date', 'granularite', 'maille_code', 'maille_nom', 'cas_confirmes',\n",
       "       'deces', 'deces_ehpad', 'reanimation', 'hospitalises', 'gueris',\n",
       "       'depistes', 'source_nom', 'source_url', 'source_archive',\n",
       "       'source_type'],\n",
       "      dtype='object')"
      ]
     },
     "execution_count": 543,
     "metadata": {},
     "output_type": "execute_result"
    }
   ],
   "source": [
    "df.columns.unique()"
   ]
  },
  {
   "cell_type": "code",
   "execution_count": 544,
   "metadata": {},
   "outputs": [
    {
     "data": {
      "text/plain": [
       "array(['departement', 'pays', 'region', 'monde', 'collectivite-outremer'],\n",
       "      dtype=object)"
      ]
     },
     "execution_count": 544,
     "metadata": {},
     "output_type": "execute_result"
    }
   ],
   "source": [
    "df.granularite.unique()"
   ]
  },
  {
   "cell_type": "code",
   "execution_count": 605,
   "metadata": {},
   "outputs": [
    {
     "data": {
      "text/html": [
       "<div>\n",
       "<style scoped>\n",
       "    .dataframe tbody tr th:only-of-type {\n",
       "        vertical-align: middle;\n",
       "    }\n",
       "\n",
       "    .dataframe tbody tr th {\n",
       "        vertical-align: top;\n",
       "    }\n",
       "\n",
       "    .dataframe thead th {\n",
       "        text-align: right;\n",
       "    }\n",
       "</style>\n",
       "<table border=\"1\" class=\"dataframe\">\n",
       "  <thead>\n",
       "    <tr style=\"text-align: right;\">\n",
       "      <th></th>\n",
       "      <th>date</th>\n",
       "      <th>granularite</th>\n",
       "      <th>maille_code</th>\n",
       "      <th>maille_nom</th>\n",
       "      <th>cas_confirmes</th>\n",
       "      <th>deces</th>\n",
       "      <th>deces_ehpad</th>\n",
       "      <th>reanimation</th>\n",
       "      <th>hospitalises</th>\n",
       "      <th>gueris</th>\n",
       "      <th>depistes</th>\n",
       "      <th>source_nom</th>\n",
       "      <th>source_url</th>\n",
       "      <th>source_archive</th>\n",
       "      <th>source_type</th>\n",
       "    </tr>\n",
       "  </thead>\n",
       "  <tbody>\n",
       "    <tr>\n",
       "      <th>15</th>\n",
       "      <td>2020-01-24</td>\n",
       "      <td>region</td>\n",
       "      <td>REG-11</td>\n",
       "      <td>Île-de-France</td>\n",
       "      <td>2.0</td>\n",
       "      <td>0.0</td>\n",
       "      <td>0.0</td>\n",
       "      <td>0.0</td>\n",
       "      <td>2.0</td>\n",
       "      <td>0.0</td>\n",
       "      <td>0.0</td>\n",
       "      <td>Santé publique France</td>\n",
       "      <td>https://www.santepubliquefrance.fr/maladies-et...</td>\n",
       "      <td>https://web.archive.org/web/20200124202351/htt...</td>\n",
       "      <td>sante-publique-france</td>\n",
       "    </tr>\n",
       "    <tr>\n",
       "      <th>16</th>\n",
       "      <td>2020-01-24</td>\n",
       "      <td>region</td>\n",
       "      <td>REG-11</td>\n",
       "      <td>Île-de-France</td>\n",
       "      <td>2.0</td>\n",
       "      <td>0.0</td>\n",
       "      <td>0.0</td>\n",
       "      <td>0.0</td>\n",
       "      <td>2.0</td>\n",
       "      <td>0.0</td>\n",
       "      <td>0.0</td>\n",
       "      <td>Ministère des Solidarités et de la Santé</td>\n",
       "      <td>https://solidarites-sante.gouv.fr/IMG/pdf/2001...</td>\n",
       "      <td>https://web.archive.org/web/20200322183046/htt...</td>\n",
       "      <td>ministere-sante</td>\n",
       "    </tr>\n",
       "    <tr>\n",
       "      <th>17</th>\n",
       "      <td>2020-01-24</td>\n",
       "      <td>region</td>\n",
       "      <td>REG-75</td>\n",
       "      <td>Nouvelle-Aquitaine</td>\n",
       "      <td>1.0</td>\n",
       "      <td>0.0</td>\n",
       "      <td>0.0</td>\n",
       "      <td>0.0</td>\n",
       "      <td>0.0</td>\n",
       "      <td>0.0</td>\n",
       "      <td>0.0</td>\n",
       "      <td>ARS Nouvelle-Aquitaine</td>\n",
       "      <td>https://www.nouvelle-aquitaine.ars.sante.fr/co...</td>\n",
       "      <td>0</td>\n",
       "      <td>agences-regionales-sante</td>\n",
       "    </tr>\n",
       "    <tr>\n",
       "      <th>18</th>\n",
       "      <td>2020-01-24</td>\n",
       "      <td>region</td>\n",
       "      <td>REG-75</td>\n",
       "      <td>Nouvelle-Aquitaine</td>\n",
       "      <td>1.0</td>\n",
       "      <td>0.0</td>\n",
       "      <td>0.0</td>\n",
       "      <td>0.0</td>\n",
       "      <td>1.0</td>\n",
       "      <td>0.0</td>\n",
       "      <td>0.0</td>\n",
       "      <td>Santé publique France</td>\n",
       "      <td>https://www.santepubliquefrance.fr/maladies-et...</td>\n",
       "      <td>https://web.archive.org/web/20200124202351/htt...</td>\n",
       "      <td>sante-publique-france</td>\n",
       "    </tr>\n",
       "    <tr>\n",
       "      <th>19</th>\n",
       "      <td>2020-01-24</td>\n",
       "      <td>region</td>\n",
       "      <td>REG-75</td>\n",
       "      <td>Nouvelle-Aquitaine</td>\n",
       "      <td>1.0</td>\n",
       "      <td>0.0</td>\n",
       "      <td>0.0</td>\n",
       "      <td>0.0</td>\n",
       "      <td>1.0</td>\n",
       "      <td>0.0</td>\n",
       "      <td>0.0</td>\n",
       "      <td>Ministère des Solidarités et de la Santé</td>\n",
       "      <td>https://solidarites-sante.gouv.fr/IMG/pdf/2001...</td>\n",
       "      <td>https://web.archive.org/web/20200322183046/htt...</td>\n",
       "      <td>ministere-sante</td>\n",
       "    </tr>\n",
       "  </tbody>\n",
       "</table>\n",
       "</div>"
      ],
      "text/plain": [
       "          date granularite maille_code          maille_nom  cas_confirmes  \\\n",
       "15  2020-01-24      region      REG-11       Île-de-France            2.0   \n",
       "16  2020-01-24      region      REG-11       Île-de-France            2.0   \n",
       "17  2020-01-24      region      REG-75  Nouvelle-Aquitaine            1.0   \n",
       "18  2020-01-24      region      REG-75  Nouvelle-Aquitaine            1.0   \n",
       "19  2020-01-24      region      REG-75  Nouvelle-Aquitaine            1.0   \n",
       "\n",
       "    deces  deces_ehpad  reanimation  hospitalises  gueris  depistes  \\\n",
       "15    0.0          0.0          0.0           2.0     0.0       0.0   \n",
       "16    0.0          0.0          0.0           2.0     0.0       0.0   \n",
       "17    0.0          0.0          0.0           0.0     0.0       0.0   \n",
       "18    0.0          0.0          0.0           1.0     0.0       0.0   \n",
       "19    0.0          0.0          0.0           1.0     0.0       0.0   \n",
       "\n",
       "                                  source_nom  \\\n",
       "15                     Santé publique France   \n",
       "16  Ministère des Solidarités et de la Santé   \n",
       "17                    ARS Nouvelle-Aquitaine   \n",
       "18                     Santé publique France   \n",
       "19  Ministère des Solidarités et de la Santé   \n",
       "\n",
       "                                           source_url  \\\n",
       "15  https://www.santepubliquefrance.fr/maladies-et...   \n",
       "16  https://solidarites-sante.gouv.fr/IMG/pdf/2001...   \n",
       "17  https://www.nouvelle-aquitaine.ars.sante.fr/co...   \n",
       "18  https://www.santepubliquefrance.fr/maladies-et...   \n",
       "19  https://solidarites-sante.gouv.fr/IMG/pdf/2001...   \n",
       "\n",
       "                                       source_archive  \\\n",
       "15  https://web.archive.org/web/20200124202351/htt...   \n",
       "16  https://web.archive.org/web/20200322183046/htt...   \n",
       "17                                                  0   \n",
       "18  https://web.archive.org/web/20200124202351/htt...   \n",
       "19  https://web.archive.org/web/20200322183046/htt...   \n",
       "\n",
       "                 source_type  \n",
       "15     sante-publique-france  \n",
       "16           ministere-sante  \n",
       "17  agences-regionales-sante  \n",
       "18     sante-publique-france  \n",
       "19           ministere-sante  "
      ]
     },
     "execution_count": 605,
     "metadata": {},
     "output_type": "execute_result"
    }
   ],
   "source": [
    "df[df.granularite=='region'].head()"
   ]
  },
  {
   "cell_type": "code",
   "execution_count": 610,
   "metadata": {},
   "outputs": [
    {
     "name": "stderr",
     "output_type": "stream",
     "text": [
      "/Users/maudlemercier/opt/anaconda3/lib/python3.7/site-packages/ipykernel_launcher.py:1: UserWarning: Boolean Series key will be reindexed to match DataFrame index.\n",
      "  \"\"\"Entry point for launching an IPython kernel.\n"
     ]
    },
    {
     "data": {
      "text/html": [
       "<div>\n",
       "<style scoped>\n",
       "    .dataframe tbody tr th:only-of-type {\n",
       "        vertical-align: middle;\n",
       "    }\n",
       "\n",
       "    .dataframe tbody tr th {\n",
       "        vertical-align: top;\n",
       "    }\n",
       "\n",
       "    .dataframe thead th {\n",
       "        text-align: right;\n",
       "    }\n",
       "</style>\n",
       "<table border=\"1\" class=\"dataframe\">\n",
       "  <thead>\n",
       "    <tr style=\"text-align: right;\">\n",
       "      <th></th>\n",
       "      <th>date</th>\n",
       "      <th>granularite</th>\n",
       "      <th>maille_code</th>\n",
       "      <th>maille_nom</th>\n",
       "      <th>cas_confirmes</th>\n",
       "      <th>deces</th>\n",
       "      <th>deces_ehpad</th>\n",
       "      <th>reanimation</th>\n",
       "      <th>hospitalises</th>\n",
       "      <th>gueris</th>\n",
       "      <th>depistes</th>\n",
       "      <th>source_nom</th>\n",
       "      <th>source_url</th>\n",
       "      <th>source_archive</th>\n",
       "      <th>source_type</th>\n",
       "    </tr>\n",
       "  </thead>\n",
       "  <tbody>\n",
       "    <tr>\n",
       "      <th>250</th>\n",
       "      <td>2020-03-02</td>\n",
       "      <td>departement</td>\n",
       "      <td>DEP-01</td>\n",
       "      <td>Ain</td>\n",
       "      <td>3.0</td>\n",
       "      <td>0.0</td>\n",
       "      <td>0.0</td>\n",
       "      <td>0.0</td>\n",
       "      <td>0.0</td>\n",
       "      <td>0.0</td>\n",
       "      <td>0.0</td>\n",
       "      <td>ARS Auvergne-Rhône-Alpes</td>\n",
       "      <td>https://www.auvergne-rhone-alpes.ars.sante.fr/...</td>\n",
       "      <td>https://web.archive.org/web/20200321171945/htt...</td>\n",
       "      <td>agences-regionales-sante</td>\n",
       "    </tr>\n",
       "    <tr>\n",
       "      <th>295</th>\n",
       "      <td>2020-03-03</td>\n",
       "      <td>departement</td>\n",
       "      <td>DEP-01</td>\n",
       "      <td>Ain</td>\n",
       "      <td>3.0</td>\n",
       "      <td>0.0</td>\n",
       "      <td>0.0</td>\n",
       "      <td>0.0</td>\n",
       "      <td>0.0</td>\n",
       "      <td>0.0</td>\n",
       "      <td>0.0</td>\n",
       "      <td>ARS Auvergne-Rhône-Alpes</td>\n",
       "      <td>https://www.auvergne-rhone-alpes.ars.sante.fr/...</td>\n",
       "      <td>https://web.archive.org/web/20200321171859/htt...</td>\n",
       "      <td>agences-regionales-sante</td>\n",
       "    </tr>\n",
       "    <tr>\n",
       "      <th>353</th>\n",
       "      <td>2020-03-04</td>\n",
       "      <td>departement</td>\n",
       "      <td>DEP-01</td>\n",
       "      <td>Ain</td>\n",
       "      <td>4.0</td>\n",
       "      <td>0.0</td>\n",
       "      <td>0.0</td>\n",
       "      <td>0.0</td>\n",
       "      <td>0.0</td>\n",
       "      <td>0.0</td>\n",
       "      <td>0.0</td>\n",
       "      <td>ARS Auvergne-Rhône-Alpes</td>\n",
       "      <td>https://www.auvergne-rhone-alpes.ars.sante.fr/...</td>\n",
       "      <td>https://web.archive.org/web/20200321171826/htt...</td>\n",
       "      <td>agences-regionales-sante</td>\n",
       "    </tr>\n",
       "    <tr>\n",
       "      <th>441</th>\n",
       "      <td>2020-03-05</td>\n",
       "      <td>departement</td>\n",
       "      <td>DEP-01</td>\n",
       "      <td>Ain</td>\n",
       "      <td>4.0</td>\n",
       "      <td>0.0</td>\n",
       "      <td>0.0</td>\n",
       "      <td>0.0</td>\n",
       "      <td>0.0</td>\n",
       "      <td>0.0</td>\n",
       "      <td>0.0</td>\n",
       "      <td>ARS Auvergne-Rhône-Alpes</td>\n",
       "      <td>https://www.auvergne-rhone-alpes.ars.sante.fr/...</td>\n",
       "      <td>https://web.archive.org/web/20200321171638/htt...</td>\n",
       "      <td>agences-regionales-sante</td>\n",
       "    </tr>\n",
       "    <tr>\n",
       "      <th>542</th>\n",
       "      <td>2020-03-06</td>\n",
       "      <td>departement</td>\n",
       "      <td>DEP-01</td>\n",
       "      <td>Ain</td>\n",
       "      <td>4.0</td>\n",
       "      <td>0.0</td>\n",
       "      <td>0.0</td>\n",
       "      <td>0.0</td>\n",
       "      <td>0.0</td>\n",
       "      <td>0.0</td>\n",
       "      <td>0.0</td>\n",
       "      <td>ARS Auvergne-Rhône-Alpes</td>\n",
       "      <td>https://www.auvergne-rhone-alpes.ars.sante.fr/...</td>\n",
       "      <td>https://web.archive.org/web/20200321171716/htt...</td>\n",
       "      <td>agences-regionales-sante</td>\n",
       "    </tr>\n",
       "  </tbody>\n",
       "</table>\n",
       "</div>"
      ],
      "text/plain": [
       "           date  granularite maille_code maille_nom  cas_confirmes  deces  \\\n",
       "250  2020-03-02  departement      DEP-01        Ain            3.0    0.0   \n",
       "295  2020-03-03  departement      DEP-01        Ain            3.0    0.0   \n",
       "353  2020-03-04  departement      DEP-01        Ain            4.0    0.0   \n",
       "441  2020-03-05  departement      DEP-01        Ain            4.0    0.0   \n",
       "542  2020-03-06  departement      DEP-01        Ain            4.0    0.0   \n",
       "\n",
       "     deces_ehpad  reanimation  hospitalises  gueris  depistes  \\\n",
       "250          0.0          0.0           0.0     0.0       0.0   \n",
       "295          0.0          0.0           0.0     0.0       0.0   \n",
       "353          0.0          0.0           0.0     0.0       0.0   \n",
       "441          0.0          0.0           0.0     0.0       0.0   \n",
       "542          0.0          0.0           0.0     0.0       0.0   \n",
       "\n",
       "                   source_nom  \\\n",
       "250  ARS Auvergne-Rhône-Alpes   \n",
       "295  ARS Auvergne-Rhône-Alpes   \n",
       "353  ARS Auvergne-Rhône-Alpes   \n",
       "441  ARS Auvergne-Rhône-Alpes   \n",
       "542  ARS Auvergne-Rhône-Alpes   \n",
       "\n",
       "                                            source_url  \\\n",
       "250  https://www.auvergne-rhone-alpes.ars.sante.fr/...   \n",
       "295  https://www.auvergne-rhone-alpes.ars.sante.fr/...   \n",
       "353  https://www.auvergne-rhone-alpes.ars.sante.fr/...   \n",
       "441  https://www.auvergne-rhone-alpes.ars.sante.fr/...   \n",
       "542  https://www.auvergne-rhone-alpes.ars.sante.fr/...   \n",
       "\n",
       "                                        source_archive  \\\n",
       "250  https://web.archive.org/web/20200321171945/htt...   \n",
       "295  https://web.archive.org/web/20200321171859/htt...   \n",
       "353  https://web.archive.org/web/20200321171826/htt...   \n",
       "441  https://web.archive.org/web/20200321171638/htt...   \n",
       "542  https://web.archive.org/web/20200321171716/htt...   \n",
       "\n",
       "                  source_type  \n",
       "250  agences-regionales-sante  \n",
       "295  agences-regionales-sante  \n",
       "353  agences-regionales-sante  \n",
       "441  agences-regionales-sante  \n",
       "542  agences-regionales-sante  "
      ]
     },
     "execution_count": 610,
     "metadata": {},
     "output_type": "execute_result"
    }
   ],
   "source": [
    "df[df.granularite=='departement'][df.maille_code=='DEP-01'].head()"
   ]
  },
  {
   "cell_type": "code",
   "execution_count": 599,
   "metadata": {},
   "outputs": [
    {
     "data": {
      "image/png": "[encoded data removed]",
      "text/plain": [
       "<Figure size 432x288 with 1 Axes>"
      ]
     },
     "metadata": {
      "needs_background": "light"
     },
     "output_type": "display_data"
    }
   ],
   "source": [
    "df[df.granularite=='departement'].groupby('date').sum()[['reanimation','gueris','deces','hospitalises']].plot(rot=45)\n",
    "\n",
    "plt.show()"
   ]
  },
  {
   "cell_type": "code",
   "execution_count": 532,
   "metadata": {},
   "outputs": [
    {
     "data": {
      "text/html": [
       "<div>\n",
       "<style scoped>\n",
       "    .dataframe tbody tr th:only-of-type {\n",
       "        vertical-align: middle;\n",
       "    }\n",
       "\n",
       "    .dataframe tbody tr th {\n",
       "        vertical-align: top;\n",
       "    }\n",
       "\n",
       "    .dataframe thead th {\n",
       "        text-align: right;\n",
       "    }\n",
       "</style>\n",
       "<table border=\"1\" class=\"dataframe\">\n",
       "  <thead>\n",
       "    <tr style=\"text-align: right;\">\n",
       "      <th></th>\n",
       "      <th></th>\n",
       "      <th>cas_confirmes</th>\n",
       "      <th>deces</th>\n",
       "      <th>deces_ehpad</th>\n",
       "      <th>reanimation</th>\n",
       "      <th>hospitalises</th>\n",
       "      <th>gueris</th>\n",
       "      <th>depistes</th>\n",
       "    </tr>\n",
       "    <tr>\n",
       "      <th>maille_nom</th>\n",
       "      <th>date</th>\n",
       "      <th></th>\n",
       "      <th></th>\n",
       "      <th></th>\n",
       "      <th></th>\n",
       "      <th></th>\n",
       "      <th></th>\n",
       "      <th></th>\n",
       "    </tr>\n",
       "  </thead>\n",
       "  <tbody>\n",
       "    <tr>\n",
       "      <th rowspan=\"5\" valign=\"top\">Auvergne-Rhône-Alpes</th>\n",
       "      <th>2020-02-07</th>\n",
       "      <td>5.0</td>\n",
       "      <td>0.0</td>\n",
       "      <td>0.0</td>\n",
       "      <td>0.0</td>\n",
       "      <td>5.0</td>\n",
       "      <td>0.0</td>\n",
       "      <td>0.0</td>\n",
       "    </tr>\n",
       "    <tr>\n",
       "      <th>2020-02-08</th>\n",
       "      <td>10.0</td>\n",
       "      <td>0.0</td>\n",
       "      <td>0.0</td>\n",
       "      <td>0.0</td>\n",
       "      <td>10.0</td>\n",
       "      <td>0.0</td>\n",
       "      <td>0.0</td>\n",
       "    </tr>\n",
       "    <tr>\n",
       "      <th>2020-02-10</th>\n",
       "      <td>5.0</td>\n",
       "      <td>0.0</td>\n",
       "      <td>0.0</td>\n",
       "      <td>0.0</td>\n",
       "      <td>5.0</td>\n",
       "      <td>0.0</td>\n",
       "      <td>0.0</td>\n",
       "    </tr>\n",
       "    <tr>\n",
       "      <th>2020-02-11</th>\n",
       "      <td>5.0</td>\n",
       "      <td>0.0</td>\n",
       "      <td>0.0</td>\n",
       "      <td>0.0</td>\n",
       "      <td>5.0</td>\n",
       "      <td>0.0</td>\n",
       "      <td>0.0</td>\n",
       "    </tr>\n",
       "    <tr>\n",
       "      <th>2020-02-12</th>\n",
       "      <td>5.0</td>\n",
       "      <td>0.0</td>\n",
       "      <td>0.0</td>\n",
       "      <td>0.0</td>\n",
       "      <td>5.0</td>\n",
       "      <td>0.0</td>\n",
       "      <td>0.0</td>\n",
       "    </tr>\n",
       "    <tr>\n",
       "      <th>...</th>\n",
       "      <th>...</th>\n",
       "      <td>...</td>\n",
       "      <td>...</td>\n",
       "      <td>...</td>\n",
       "      <td>...</td>\n",
       "      <td>...</td>\n",
       "      <td>...</td>\n",
       "      <td>...</td>\n",
       "    </tr>\n",
       "    <tr>\n",
       "      <th rowspan=\"5\" valign=\"top\">Île-de-France</th>\n",
       "      <th>2020-04-01</th>\n",
       "      <td>0.0</td>\n",
       "      <td>1369.0</td>\n",
       "      <td>0.0</td>\n",
       "      <td>2204.0</td>\n",
       "      <td>9609.0</td>\n",
       "      <td>3432.0</td>\n",
       "      <td>0.0</td>\n",
       "    </tr>\n",
       "    <tr>\n",
       "      <th>2020-04-02</th>\n",
       "      <td>0.0</td>\n",
       "      <td>1571.0</td>\n",
       "      <td>0.0</td>\n",
       "      <td>2301.0</td>\n",
       "      <td>10273.0</td>\n",
       "      <td>3887.0</td>\n",
       "      <td>0.0</td>\n",
       "    </tr>\n",
       "    <tr>\n",
       "      <th>2020-04-03</th>\n",
       "      <td>0.0</td>\n",
       "      <td>1791.0</td>\n",
       "      <td>0.0</td>\n",
       "      <td>2375.0</td>\n",
       "      <td>10824.0</td>\n",
       "      <td>4417.0</td>\n",
       "      <td>0.0</td>\n",
       "    </tr>\n",
       "    <tr>\n",
       "      <th>2020-04-04</th>\n",
       "      <td>0.0</td>\n",
       "      <td>1967.0</td>\n",
       "      <td>0.0</td>\n",
       "      <td>2436.0</td>\n",
       "      <td>11214.0</td>\n",
       "      <td>4881.0</td>\n",
       "      <td>0.0</td>\n",
       "    </tr>\n",
       "    <tr>\n",
       "      <th>2020-04-05</th>\n",
       "      <td>0.0</td>\n",
       "      <td>2107.0</td>\n",
       "      <td>0.0</td>\n",
       "      <td>2506.0</td>\n",
       "      <td>11474.0</td>\n",
       "      <td>5166.0</td>\n",
       "      <td>0.0</td>\n",
       "    </tr>\n",
       "  </tbody>\n",
       "</table>\n",
       "<p>679 rows × 7 columns</p>\n",
       "</div>"
      ],
      "text/plain": [
       "                                 cas_confirmes   deces  deces_ehpad  \\\n",
       "maille_nom           date                                             \n",
       "Auvergne-Rhône-Alpes 2020-02-07            5.0     0.0          0.0   \n",
       "                     2020-02-08           10.0     0.0          0.0   \n",
       "                     2020-02-10            5.0     0.0          0.0   \n",
       "                     2020-02-11            5.0     0.0          0.0   \n",
       "                     2020-02-12            5.0     0.0          0.0   \n",
       "...                                        ...     ...          ...   \n",
       "Île-de-France        2020-04-01            0.0  1369.0          0.0   \n",
       "                     2020-04-02            0.0  1571.0          0.0   \n",
       "                     2020-04-03            0.0  1791.0          0.0   \n",
       "                     2020-04-04            0.0  1967.0          0.0   \n",
       "                     2020-04-05            0.0  2107.0          0.0   \n",
       "\n",
       "                                 reanimation  hospitalises  gueris  depistes  \n",
       "maille_nom           date                                                     \n",
       "Auvergne-Rhône-Alpes 2020-02-07          0.0           5.0     0.0       0.0  \n",
       "                     2020-02-08          0.0          10.0     0.0       0.0  \n",
       "                     2020-02-10          0.0           5.0     0.0       0.0  \n",
       "                     2020-02-11          0.0           5.0     0.0       0.0  \n",
       "                     2020-02-12          0.0           5.0     0.0       0.0  \n",
       "...                                      ...           ...     ...       ...  \n",
       "Île-de-France        2020-04-01       2204.0        9609.0  3432.0       0.0  \n",
       "                     2020-04-02       2301.0       10273.0  3887.0       0.0  \n",
       "                     2020-04-03       2375.0       10824.0  4417.0       0.0  \n",
       "                     2020-04-04       2436.0       11214.0  4881.0       0.0  \n",
       "                     2020-04-05       2506.0       11474.0  5166.0       0.0  \n",
       "\n",
       "[679 rows x 7 columns]"
      ]
     },
     "execution_count": 532,
     "metadata": {},
     "output_type": "execute_result"
    }
   ],
   "source": [
    "df[df.granularite=='region'].groupby(['maille_nom', 'date']).sum()"
   ]
  },
  {
   "cell_type": "code",
   "execution_count": 533,
   "metadata": {},
   "outputs": [
    {
     "data": {
      "text/html": [
       "<div>\n",
       "<style scoped>\n",
       "    .dataframe tbody tr th:only-of-type {\n",
       "        vertical-align: middle;\n",
       "    }\n",
       "\n",
       "    .dataframe tbody tr th {\n",
       "        vertical-align: top;\n",
       "    }\n",
       "\n",
       "    .dataframe thead th {\n",
       "        text-align: right;\n",
       "    }\n",
       "</style>\n",
       "<table border=\"1\" class=\"dataframe\">\n",
       "  <thead>\n",
       "    <tr style=\"text-align: right;\">\n",
       "      <th></th>\n",
       "      <th></th>\n",
       "      <th>cas_confirmes</th>\n",
       "      <th>deces</th>\n",
       "      <th>deces_ehpad</th>\n",
       "      <th>reanimation</th>\n",
       "      <th>hospitalises</th>\n",
       "      <th>gueris</th>\n",
       "      <th>depistes</th>\n",
       "    </tr>\n",
       "    <tr>\n",
       "      <th>maille_nom</th>\n",
       "      <th>date</th>\n",
       "      <th></th>\n",
       "      <th></th>\n",
       "      <th></th>\n",
       "      <th></th>\n",
       "      <th></th>\n",
       "      <th></th>\n",
       "      <th></th>\n",
       "    </tr>\n",
       "  </thead>\n",
       "  <tbody>\n",
       "    <tr>\n",
       "      <th rowspan=\"5\" valign=\"top\">Ain</th>\n",
       "      <th>2020-03-02</th>\n",
       "      <td>3.0</td>\n",
       "      <td>0.0</td>\n",
       "      <td>0.0</td>\n",
       "      <td>0.0</td>\n",
       "      <td>0.0</td>\n",
       "      <td>0.0</td>\n",
       "      <td>0.0</td>\n",
       "    </tr>\n",
       "    <tr>\n",
       "      <th>2020-03-03</th>\n",
       "      <td>3.0</td>\n",
       "      <td>0.0</td>\n",
       "      <td>0.0</td>\n",
       "      <td>0.0</td>\n",
       "      <td>0.0</td>\n",
       "      <td>0.0</td>\n",
       "      <td>0.0</td>\n",
       "    </tr>\n",
       "    <tr>\n",
       "      <th>2020-03-04</th>\n",
       "      <td>4.0</td>\n",
       "      <td>0.0</td>\n",
       "      <td>0.0</td>\n",
       "      <td>0.0</td>\n",
       "      <td>0.0</td>\n",
       "      <td>0.0</td>\n",
       "      <td>0.0</td>\n",
       "    </tr>\n",
       "    <tr>\n",
       "      <th>2020-03-05</th>\n",
       "      <td>4.0</td>\n",
       "      <td>0.0</td>\n",
       "      <td>0.0</td>\n",
       "      <td>0.0</td>\n",
       "      <td>0.0</td>\n",
       "      <td>0.0</td>\n",
       "      <td>0.0</td>\n",
       "    </tr>\n",
       "    <tr>\n",
       "      <th>2020-03-06</th>\n",
       "      <td>4.0</td>\n",
       "      <td>0.0</td>\n",
       "      <td>0.0</td>\n",
       "      <td>0.0</td>\n",
       "      <td>0.0</td>\n",
       "      <td>0.0</td>\n",
       "      <td>0.0</td>\n",
       "    </tr>\n",
       "    <tr>\n",
       "      <th>...</th>\n",
       "      <th>...</th>\n",
       "      <td>...</td>\n",
       "      <td>...</td>\n",
       "      <td>...</td>\n",
       "      <td>...</td>\n",
       "      <td>...</td>\n",
       "      <td>...</td>\n",
       "      <td>...</td>\n",
       "    </tr>\n",
       "    <tr>\n",
       "      <th rowspan=\"5\" valign=\"top\">Yvelines</th>\n",
       "      <th>2020-04-01</th>\n",
       "      <td>0.0</td>\n",
       "      <td>119.0</td>\n",
       "      <td>0.0</td>\n",
       "      <td>178.0</td>\n",
       "      <td>815.0</td>\n",
       "      <td>347.0</td>\n",
       "      <td>0.0</td>\n",
       "    </tr>\n",
       "    <tr>\n",
       "      <th>2020-04-02</th>\n",
       "      <td>0.0</td>\n",
       "      <td>137.0</td>\n",
       "      <td>0.0</td>\n",
       "      <td>180.0</td>\n",
       "      <td>837.0</td>\n",
       "      <td>394.0</td>\n",
       "      <td>0.0</td>\n",
       "    </tr>\n",
       "    <tr>\n",
       "      <th>2020-04-03</th>\n",
       "      <td>0.0</td>\n",
       "      <td>155.0</td>\n",
       "      <td>0.0</td>\n",
       "      <td>185.0</td>\n",
       "      <td>858.0</td>\n",
       "      <td>436.0</td>\n",
       "      <td>0.0</td>\n",
       "    </tr>\n",
       "    <tr>\n",
       "      <th>2020-04-04</th>\n",
       "      <td>0.0</td>\n",
       "      <td>168.0</td>\n",
       "      <td>0.0</td>\n",
       "      <td>189.0</td>\n",
       "      <td>913.0</td>\n",
       "      <td>454.0</td>\n",
       "      <td>0.0</td>\n",
       "    </tr>\n",
       "    <tr>\n",
       "      <th>2020-04-05</th>\n",
       "      <td>0.0</td>\n",
       "      <td>175.0</td>\n",
       "      <td>0.0</td>\n",
       "      <td>185.0</td>\n",
       "      <td>909.0</td>\n",
       "      <td>470.0</td>\n",
       "      <td>0.0</td>\n",
       "    </tr>\n",
       "  </tbody>\n",
       "</table>\n",
       "<p>3084 rows × 7 columns</p>\n",
       "</div>"
      ],
      "text/plain": [
       "                       cas_confirmes  deces  deces_ehpad  reanimation  \\\n",
       "maille_nom date                                                         \n",
       "Ain        2020-03-02            3.0    0.0          0.0          0.0   \n",
       "           2020-03-03            3.0    0.0          0.0          0.0   \n",
       "           2020-03-04            4.0    0.0          0.0          0.0   \n",
       "           2020-03-05            4.0    0.0          0.0          0.0   \n",
       "           2020-03-06            4.0    0.0          0.0          0.0   \n",
       "...                              ...    ...          ...          ...   \n",
       "Yvelines   2020-04-01            0.0  119.0          0.0        178.0   \n",
       "           2020-04-02            0.0  137.0          0.0        180.0   \n",
       "           2020-04-03            0.0  155.0          0.0        185.0   \n",
       "           2020-04-04            0.0  168.0          0.0        189.0   \n",
       "           2020-04-05            0.0  175.0          0.0        185.0   \n",
       "\n",
       "                       hospitalises  gueris  depistes  \n",
       "maille_nom date                                        \n",
       "Ain        2020-03-02           0.0     0.0       0.0  \n",
       "           2020-03-03           0.0     0.0       0.0  \n",
       "           2020-03-04           0.0     0.0       0.0  \n",
       "           2020-03-05           0.0     0.0       0.0  \n",
       "           2020-03-06           0.0     0.0       0.0  \n",
       "...                             ...     ...       ...  \n",
       "Yvelines   2020-04-01         815.0   347.0       0.0  \n",
       "           2020-04-02         837.0   394.0       0.0  \n",
       "           2020-04-03         858.0   436.0       0.0  \n",
       "           2020-04-04         913.0   454.0       0.0  \n",
       "           2020-04-05         909.0   470.0       0.0  \n",
       "\n",
       "[3084 rows x 7 columns]"
      ]
     },
     "execution_count": 533,
     "metadata": {},
     "output_type": "execute_result"
    }
   ],
   "source": [
    "df[df.granularite=='departement'].groupby(['maille_nom', 'date']).sum()"
   ]
  },
  {
   "cell_type": "code",
   "execution_count": null,
   "metadata": {},
   "outputs": [],
   "source": []
  }
 ],
 "metadata": {
  "kernelspec": {
   "display_name": "Python 3",
   "language": "python",
   "name": "python3"
  },
  "language_info": {
   "codemirror_mode": {
    "name": "ipython",
    "version": 3
   },
   "file_extension": ".py",
   "mimetype": "text/x-python",
   "name": "python",
   "nbconvert_exporter": "python",
   "pygments_lexer": "ipython3",
   "version": "3.7.4"
  },
  "latex_envs": {
   "LaTeX_envs_menu_present": true,
   "autoclose": false,
   "autocomplete": true,
   "bibliofile": "biblio.bib",
   "cite_by": "apalike",
   "current_citInitial": 1,
   "eqLabelWithNumbers": true,
   "eqNumInitial": 1,
   "hotkeys": {
    "equation": "Ctrl-E",
    "itemize": "Ctrl-I"
   },
   "labels_anchors": false,
   "latex_user_defs": false,
   "report_style_numbering": false,
   "user_envs_cfg": false
  },
  "toc": {
   "nav_menu": {},
   "number_sections": true,
   "sideBar": true,
   "skip_h1_title": false,
   "title_cell": "Table of Contents",
   "title_sidebar": "Contents",
   "toc_cell": true,
   "toc_position": {},
   "toc_section_display": true,
   "toc_window_display": true
  }
 },
 "nbformat": 4,
 "nbformat_minor": 2
}
