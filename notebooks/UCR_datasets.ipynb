{
 "cells": [
  {
   "cell_type": "markdown",
   "metadata": {
    "toc": true
   },
   "source": [
    "<h1>Table of Contents<span class=\"tocSkip\"></span></h1>\n",
    "<div class=\"toc\"><ul class=\"toc-item\"></ul></div>"
   ]
  },
  {
   "cell_type": "code",
   "execution_count": 2,
   "metadata": {},
   "outputs": [],
   "source": [
    "import pandas as pd\n",
    "from importlib import reload\n",
    "import matplotlib.pyplot as plt\n",
    "from tslearn.datasets import UCR_UEA_datasets\n",
    "from sklearn import svm\n",
    "import signature_features\n",
    "from signature_features import *\n",
    "import utils\n",
    "from utils import *\n",
    "import experiments\n",
    "from experiments import * \n",
    "from sklearn.metrics import accuracy_score\n",
    "# import gpflow\n",
    "from sklearn.gaussian_process import GaussianProcessClassifier\n",
    "from sklearn.gaussian_process.kernels import RBF, DotProduct, WhiteKernel"
   ]
  },
  {
   "cell_type": "code",
   "execution_count": 105,
   "metadata": {},
   "outputs": [
    {
     "data": {
      "text/plain": [
       "{}"
      ]
     },
     "execution_count": 105,
     "metadata": {},
     "output_type": "execute_result"
    }
   ],
   "source": [
    "data_loader = UCR_UEA_datasets()\n",
    "dict_acc = data_loader.baseline_accuracy(list_datasets=[\"ACSF1\"])\n",
    "dict_acc"
   ]
  },
  {
   "cell_type": "code",
   "execution_count": 58,
   "metadata": {},
   "outputs": [],
   "source": [
    "data_loader = UCR_UEA_datasets()\n",
    "X_train, y_train, X_test, y_test = data_loader.load_dataset(\"InlineSkate\")"
   ]
  },
  {
   "cell_type": "code",
   "execution_count": 104,
   "metadata": {},
   "outputs": [
    {
     "name": "stdout",
     "output_type": "stream",
     "text": [
      "(100, 1882, 1)\n"
     ]
    },
    {
     "data": {
      "image/png": "[encoded data removed]",
      "text/plain": [
       "<Figure size 432x288 with 1 Axes>"
      ]
     },
     "metadata": {
      "needs_background": "light"
     },
     "output_type": "display_data"
    }
   ],
   "source": [
    "print(X_train.shape)\n",
    "plt.plot(X_train[0])\n",
    "plt.show()\n"
   ]
  },
  {
   "cell_type": "code",
   "execution_count": 93,
   "metadata": {},
   "outputs": [
    {
     "name": "stdout",
     "output_type": "stream",
     "text": [
      "(100, 20, 187, 3)\n",
      "number of classes: 7\n"
     ]
    }
   ],
   "source": [
    "# rescale\n",
    "# scaler = StandardScaler()\n",
    "# scaler.fit(np.concatenate(X_train, axis=0))\n",
    "# X_train = [scaler.transform(x) for x in X_train]\n",
    "# X_test = [scaler.transform(x) for x in X_test]\n",
    "X_aug_train =  np.concatenate([np.concatenate(np.array_split(e[None,:-2,:],20,axis=1))[None,:,:,:] for e in X_train])\n",
    "X_aug_test =  np.concatenate([np.concatenate(np.array_split(e[None,:-2,:], 20,axis=1))[None,:,:,:] for e in X_test])\n",
    "\n",
    "# X_aug_train = X_train[:,None,:,:]\n",
    "# X_aug_test = X_test[:,None,:,:]\n",
    "\n",
    "# X_aug_train, X_aug_test = random_subsampling(X_train,X_test,300,50)\n",
    "#X_aug_train, X_aug_test = random_subseries(X_train,X_test,50,300)\n",
    "\n",
    "\n",
    "X_aug_train = utils.add_dimension(X_aug_train,add_time=True,lead_lag=None)\n",
    "X_aug_test = utils.add_dimension(X_aug_test,add_time=True,lead_lag=None)\n",
    "\n",
    "X_aug_train = utils.add_dimension(X_aug_train,add_time=False,lead_lag=1)\n",
    "X_aug_test = utils.add_dimension(X_aug_test,add_time=False,lead_lag=1)\n",
    "\n",
    "print(X_aug_train.shape)\n",
    "\n",
    "C = len(np.unique(y_train))\n",
    "print('number of classes:', C)"
   ]
  },
  {
   "cell_type": "markdown",
   "metadata": {},
   "source": [
    "**Sig KME**"
   ]
  },
  {
   "cell_type": "code",
   "execution_count": 99,
   "metadata": {},
   "outputs": [],
   "source": [
    "reload(experiments)\n",
    "reload(signature_features)\n",
    "\n",
    "sig_level = 6\n",
    "\n",
    "# Compute the expected signature\n",
    "X_feat_train = signature_features.scaled_expected_sig([e.copy() for e in X_aug_train],sig_level)\n",
    "X_feat_test = signature_features.scaled_expected_sig([e.copy() for e in X_aug_test],sig_level)\n",
    "\n",
    "# scale the features\n",
    "scaler = StandardScaler()\n",
    "to_fit = [X_feat_train[i] for i in range(len(X_feat_train))]\n",
    "scaler.fit(to_fit)\n",
    "X_feat_train = scaler.transform(X_feat_train)\n",
    "X_feat_test = scaler.transform(X_feat_test)\n"
   ]
  },
  {
   "cell_type": "code",
   "execution_count": 85,
   "metadata": {},
   "outputs": [],
   "source": [
    "# kernel = 10*RBF(1) + WhiteKernel(noise_level=0.01)\n",
    "# gpc = GaussianProcessClassifier(kernel=kernel,random_state=0).fit(X_feat_train, y_train)\n",
    "# gpc.score(X_feat_test, y_test)"
   ]
  },
  {
   "cell_type": "code",
   "execution_count": 103,
   "metadata": {},
   "outputs": [
    {
     "data": {
      "text/plain": [
       "0.2818181818181818"
      ]
     },
     "execution_count": 103,
     "metadata": {},
     "output_type": "execute_result"
    }
   ],
   "source": [
    "clf = svm.SVC(kernel='linear',gamma=0.0001,C=1000,decision_function_shape='ovr')\n",
    "clf = clf.fit(X_feat_train,y_train)\n",
    "clf.score(X_feat_test, y_test)"
   ]
  },
  {
   "cell_type": "markdown",
   "metadata": {},
   "source": [
    "**Pathwise E-Sig**"
   ]
  },
  {
   "cell_type": "code",
   "execution_count": 151,
   "metadata": {},
   "outputs": [],
   "source": [
    "# specs for pathwise expected sig\n",
    "sig_level1 = 9\n",
    "\n",
    "# specs for signature\n",
    "sig_level2 = 2\n",
    "\n",
    "# pathwise expected sig  \n",
    "X_feat_train = signature_features.scaled_pathwise_expected_iisignature([e.copy() for e in X_aug_train],sig_level1)\n",
    "X_feat_train = iisignature.sig(X_feat_train,sig_level2)\n",
    "\n",
    "X_feat_test = signature_features.scaled_pathwise_expected_iisignature([e.copy() for e in X_aug_test],sig_level1)\n",
    "X_feat_test = iisignature.sig(X_feat_test,sig_level2)\n",
    "\n",
    "# scaler = StandardScaler()\n",
    "# to_fit = [X_feat_train[i] for i in range(len(X_feat_train))]\n",
    "# scaler.fit(to_fit)\n",
    "# X_feat_train = scaler.transform(X_feat_train)\n",
    "# X_feat_test = scaler.transform(X_feat_test)\n"
   ]
  },
  {
   "cell_type": "code",
   "execution_count": 169,
   "metadata": {},
   "outputs": [
    {
     "name": "stdout",
     "output_type": "stream",
     "text": [
      "0.75\n",
      "[4.53923371e-03 2.17501309e-05]\n"
     ]
    }
   ],
   "source": [
    "# kernel = DotProduct() #+ WhiteKernel(0.1)\n",
    "# #kernel = 1.0 * RBF(10)\n",
    "# gpc = GaussianProcessClassifier(kernel=kernel,random_state=0,multi_class='one_vs_one').fit(X_feat_train, y_train)\n",
    "# print(gpc.score(X_feat_test, y_test))\n",
    "# print(gpc.kernel.theta)\n",
    "\n",
    "kernel = DotProduct()+ WhiteKernel(0.1)\n",
    "gpc = GaussianProcessClassifier(kernel=kernel,random_state=0)\n",
    "gpc = gpc.fit(X_feat_train, y_train)\n",
    "print(gpc.score(X_feat_test, y_test))\n",
    "print(np.exp(gpc.kernel_.theta))"
   ]
  },
  {
   "cell_type": "code",
   "execution_count": 156,
   "metadata": {},
   "outputs": [
    {
     "data": {
      "text/plain": [
       "0.75"
      ]
     },
     "execution_count": 156,
     "metadata": {},
     "output_type": "execute_result"
    }
   ],
   "source": [
    "clf = svm.SVC(kernel='linear',gamma=0.01,C=1000,decision_function_shape='ovo')\n",
    "clf = clf.fit(X_feat_train,y_train)\n",
    "clf.score(X_feat_test, y_test)"
   ]
  },
  {
   "cell_type": "code",
   "execution_count": 590,
   "metadata": {},
   "outputs": [],
   "source": [
    "def random_subsampling(X_train,X_test,N_obs,N_samples):\n",
    "    subsampling = []\n",
    "    for i in range(N_samples):\n",
    "        choice_obs = np.random.choice(np.arange(X_train.shape[1]), size=N_obs, replace=False)\n",
    "        choice_obs = np.sort(choice_obs)\n",
    "        subsampling.append(choice_obs)\n",
    "    \n",
    "    X_aug_train = np.concatenate([np.concatenate([e[subsampling[i],:][None,:,:] for i in range(N_samples)])[None,:,:,:] for e in X_train])   \n",
    "    X_aug_test = np.concatenate([np.concatenate([e[subsampling[i],:][None,:,:] for i in range(N_samples)])[None,:,:,:] for e in X_test])\n",
    "    return X_aug_train, X_aug_test\n",
    "\n",
    "def random_subseries(X_train,X_test,N_sub,L):\n",
    "    subsampling = []\n",
    "    for i in range(len(X_train)+len(X_test)):\n",
    "        choice_obs = np.random.choice(np.arange(X_train.shape[1]-L), size=N_sub, replace=False)\n",
    "        choice_obs = np.sort(choice_obs)\n",
    "        subsampling.append(choice_obs)\n",
    "    \n",
    "    X_aug_train = np.concatenate([np.concatenate([e[subsampling[j][i]:subsampling[j][i]+L,:][None,:,:] for i in range(N_sub)])[None,:,:,:] for j,e in enumerate(X_train)])   \n",
    "    X_aug_test = np.concatenate([np.concatenate([e[subsampling[j][i]:subsampling[j][i]+L,:][None,:,:] for i in range(N_sub)])[None,:,:,:] for j,e in enumerate(X_test)]) \n",
    "    return X_aug_train, X_aug_test\n"
   ]
  },
  {
   "cell_type": "code",
   "execution_count": null,
   "metadata": {},
   "outputs": [],
   "source": []
  }
 ],
 "metadata": {
  "kernelspec": {
   "display_name": "Python 3",
   "language": "python",
   "name": "python3"
  },
  "language_info": {
   "codemirror_mode": {
    "name": "ipython",
    "version": 3
   },
   "file_extension": ".py",
   "mimetype": "text/x-python",
   "name": "python",
   "nbconvert_exporter": "python",
   "pygments_lexer": "ipython3",
   "version": "3.7.4"
  },
  "latex_envs": {
   "LaTeX_envs_menu_present": true,
   "autoclose": false,
   "autocomplete": true,
   "bibliofile": "biblio.bib",
   "cite_by": "apalike",
   "current_citInitial": 1,
   "eqLabelWithNumbers": true,
   "eqNumInitial": 1,
   "hotkeys": {
    "equation": "Ctrl-E",
    "itemize": "Ctrl-I"
   },
   "labels_anchors": false,
   "latex_user_defs": false,
   "report_style_numbering": false,
   "user_envs_cfg": false
  },
  "toc": {
   "nav_menu": {},
   "number_sections": true,
   "sideBar": true,
   "skip_h1_title": false,
   "title_cell": "Table of Contents",
   "title_sidebar": "Contents",
   "toc_cell": true,
   "toc_position": {},
   "toc_section_display": true,
   "toc_window_display": true
  }
 },
 "nbformat": 4,
 "nbformat_minor": 2
}
