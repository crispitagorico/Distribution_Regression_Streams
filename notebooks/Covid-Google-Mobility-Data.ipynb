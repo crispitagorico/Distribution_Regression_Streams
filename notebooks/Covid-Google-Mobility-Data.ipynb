{
 "cells": [
  {
   "cell_type": "code",
   "execution_count": 1,
   "metadata": {},
   "outputs": [],
   "source": [
    "import sys\n",
    "sys.path.append('../')\n",
    "\n",
    "import numpy as np\n",
    "import torch\n",
    "import pandas as pd\n",
    "import importlib\n",
    "from tqdm import tqdm_notebook as tqdm\n",
    "from sklearn.model_selection import train_test_split, GridSearchCV, cross_val_score\n",
    "from sklearn.preprocessing import StandardScaler\n",
    "\n",
    "import functionalities\n",
    "import iisignature\n",
    "from esig import tosig\n",
    "# import deep_sets\n",
    "from utils.addtime import AddTime, LeadLag\n",
    "\n",
    "import seaborn as sns\n",
    "import matplotlib.pyplot as plt\n",
    "from matplotlib.lines import Line2D\n",
    "import matplotlib.pylab as pylab\n",
    "params = {'legend.fontsize': 'x-large',\n",
    "          'figure.figsize': (7, 5),\n",
    "          'axes.labelsize': 'x-large',\n",
    "          'axes.titlesize':'x-large',\n",
    "          'xtick.labelsize':'x-large',\n",
    "          'ytick.labelsize':'x-large'}\n",
    "pylab.rcParams.update(params)"
   ]
  },
  {
   "cell_type": "code",
   "execution_count": 2,
   "metadata": {},
   "outputs": [],
   "source": [
    "df_mob = pd.read_csv('Global_Mobility_Report.csv')\n",
    "df_cov = pd.read_excel('COVID-19-geographic-disbtribution-worldwide-2020-05-23.xlsx')"
   ]
  },
  {
   "cell_type": "code",
   "execution_count": 3,
   "metadata": {},
   "outputs": [],
   "source": [
    "df_cov.countriesAndTerritories.replace({'United_States_of_America':'United_States'}, inplace=True)"
   ]
  },
  {
   "cell_type": "code",
   "execution_count": 4,
   "metadata": {},
   "outputs": [],
   "source": [
    "df_mob.country_region.replace({'United Kingdom':'United_Kingdom', \n",
    "                               'New Zealand':'New_Zealand',\n",
    "                               'United States':'United_States',\n",
    "                               'South Africa': 'South_Africa'}, inplace=True)"
   ]
  },
  {
   "cell_type": "code",
   "execution_count": 5,
   "metadata": {},
   "outputs": [],
   "source": [
    "df_cov.dateRep = pd.DatetimeIndex(df_cov.dateRep)\n",
    "df_mob.date = pd.DatetimeIndex(df_mob.date)"
   ]
  },
  {
   "cell_type": "code",
   "execution_count": 6,
   "metadata": {},
   "outputs": [],
   "source": [
    "coordinates = ['retail_and_recreation_percent_change_from_baseline',\n",
    "               'grocery_and_pharmacy_percent_change_from_baseline',\n",
    "               'parks_percent_change_from_baseline',\n",
    "               'transit_stations_percent_change_from_baseline',\n",
    "               'workplaces_percent_change_from_baseline',\n",
    "               'residential_percent_change_from_baseline']"
   ]
  },
  {
   "cell_type": "code",
   "execution_count": 52,
   "metadata": {},
   "outputs": [],
   "source": [
    "countries = ['Argentina', 'Austria', 'Australia', 'Belgium', 'Bulgaria', 'Brazil', 'Canada',\n",
    "             'Switzerland', 'Chile','Colombia', 'Czechia', 'Germany', 'Denmark', 'Estonia', \n",
    "             'Egypt', 'Spain', 'Finland', 'France', 'United_Kingdom', 'Greece', 'Croatia',  \n",
    "             'Hungary', 'Indonesia', 'Ireland', 'Israel', 'India', 'Italy', 'Japan', \n",
    "             'Kuwait', 'Lithuania', 'Latvia', 'Mexico', 'Netherlands', 'Norway',\n",
    "             'New_Zealand', 'Peru', 'Poland', 'Portugal', 'Romania', 'Sweden', \n",
    "             'Slovenia', 'Slovakia', 'United_States', 'Uruguay', 'South_Africa']"
   ]
  },
  {
   "cell_type": "code",
   "execution_count": 53,
   "metadata": {},
   "outputs": [],
   "source": [
    "start_date_control = '2020-02-15'\n",
    "end_date_control = '2020-05-15'"
   ]
  },
  {
   "cell_type": "code",
   "execution_count": 167,
   "metadata": {
    "scrolled": false
   },
   "outputs": [
    {
     "data": {
      "application/vnd.jupyter.widget-view+json": {
       "model_id": "63675684bf20464fa9278ef0b45464a8",
       "version_major": 2,
       "version_minor": 0
      },
      "text/plain": [
       "HBox(children=(IntProgress(value=0, max=45), HTML(value='')))"
      ]
     },
     "metadata": {},
     "output_type": "display_data"
    },
    {
     "name": "stdout",
     "output_type": "stream",
     "text": [
      "\n"
     ]
    }
   ],
   "source": [
    "X = []\n",
    "y = []\n",
    "# loop through countries\n",
    "for c in tqdm(countries): \n",
    "    \n",
    "    # select relevant country data (mobility)\n",
    "    dg = df_mob[df_mob.country_region == c] \n",
    "    dg = dg.groupby(['sub_region_1', 'date']).mean()[coordinates].fillna(method='ffill').fillna(0.)\n",
    "    \n",
    "    # select relevant country data (covid)\n",
    "    df = df_cov[df_cov.countriesAndTerritories == c]\n",
    "    denom = df.popData2018.values[0]\n",
    "    df = df.set_index('dateRep').sort_index().cases.fillna(0.).cumsum().loc[end_date_control:]\n",
    "\n",
    "    # compute areas\n",
    "    path = AddTime().fit_transform([df.values])[0]\n",
    "    y.append(tosig.stream2logsig(path, 2)[-1])\n",
    "    # form ensembles of time-series (support of measure)\n",
    "    \n",
    "    intermediate_X = []\n",
    "    for r in dg.index.get_level_values(level=0).unique():\n",
    "        dgg = dg.loc[r,:].loc[start_date_control:end_date_control]\n",
    "        for col in dgg.columns:\n",
    "            dgg[col] = pd.to_numeric(dgg[col], errors='coerce')\n",
    "        if len(dgg)>0:\n",
    "            intermediate_X.append(dgg.to_numpy(dtype='float64'))\n",
    "#             intermediate_X.append(StandardScaler().fit_transform(dgg.to_numpy(dtype='float64')))\n",
    "    \n",
    "    X.append(intermediate_X)\n",
    "    \n",
    "# y = StandardScaler().fit_transform(np.array(y).reshape(-1,1))"
   ]
  },
  {
   "cell_type": "code",
   "execution_count": 138,
   "metadata": {},
   "outputs": [],
   "source": [
    "# y"
   ]
  },
  {
   "cell_type": "code",
   "execution_count": 176,
   "metadata": {},
   "outputs": [
    {
     "data": {
      "text/plain": [
       "<module 'functionalities' from 'C:\\\\Users\\\\Cristopher\\\\source\\\\repos\\\\maudl3116\\\\Distribution_Regression_Streams\\\\notebooks\\\\functionalities.py'>"
      ]
     },
     "execution_count": 176,
     "metadata": {},
     "output_type": "execute_result"
    }
   ],
   "source": [
    "importlib.reload(functionalities)"
   ]
  },
  {
   "cell_type": "markdown",
   "metadata": {},
   "source": [
    "# Polynomial"
   ]
  },
  {
   "cell_type": "code",
   "execution_count": 168,
   "metadata": {
    "scrolled": false
   },
   "outputs": [],
   "source": [
    "X_new = []\n",
    "for x in X:\n",
    "    intermediate = []\n",
    "    max_len = len(x[0])\n",
    "    for xx in x:\n",
    "        if xx.shape[0]==max_len:\n",
    "            intermediate.append(xx)\n",
    "    X_new.append(intermediate)"
   ]
  },
  {
   "cell_type": "code",
   "execution_count": 177,
   "metadata": {},
   "outputs": [],
   "source": [
    "# functionalities.poly_SVM(1,X_new,y)"
   ]
  },
  {
   "cell_type": "markdown",
   "metadata": {},
   "source": [
    "# ESig"
   ]
  },
  {
   "cell_type": "code",
   "execution_count": 185,
   "metadata": {},
   "outputs": [],
   "source": [
    "# functionalities.ESig_SVM(2, X, y)"
   ]
  },
  {
   "cell_type": "markdown",
   "metadata": {},
   "source": [
    "# SigESig"
   ]
  },
  {
   "cell_type": "code",
   "execution_count": 186,
   "metadata": {},
   "outputs": [],
   "source": [
    "# functionalities.SigESig_LinReg(2,2, X, y)"
   ]
  },
  {
   "cell_type": "code",
   "execution_count": null,
   "metadata": {},
   "outputs": [],
   "source": []
  }
 ],
 "metadata": {
  "kernelspec": {
   "display_name": "Python 3",
   "language": "python",
   "name": "python3"
  },
  "language_info": {
   "codemirror_mode": {
    "name": "ipython",
    "version": 3
   },
   "file_extension": ".py",
   "mimetype": "text/x-python",
   "name": "python",
   "nbconvert_exporter": "python",
   "pygments_lexer": "ipython3",
   "version": "3.6.5"
  }
 },
 "nbformat": 4,
 "nbformat_minor": 2
}
