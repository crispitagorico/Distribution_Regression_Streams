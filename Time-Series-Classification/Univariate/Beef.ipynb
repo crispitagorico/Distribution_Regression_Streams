{
 "cells": [
  {
   "cell_type": "markdown",
   "metadata": {
    "toc": true
   },
   "source": [
    "<h1>Table of Contents<span class=\"tocSkip\"></span></h1>\n",
    "<div class=\"toc\"><ul class=\"toc-item\"></ul></div>"
   ]
  },
  {
   "cell_type": "code",
   "execution_count": 3,
   "metadata": {},
   "outputs": [],
   "source": [
    "import sys\n",
    "sys.path.append('../../')\n",
    "\n",
    "import pandas as pd\n",
    "from importlib import reload\n",
    "import matplotlib.pyplot as plt\n",
    "from tslearn.datasets import UCR_UEA_datasets\n",
    "from sklearn import svm\n",
    "import signature_features\n",
    "from signature_features import *\n",
    "import utils\n",
    "from utils import *\n",
    "import experiments\n",
    "from experiments import * \n",
    "from sklearn.metrics import accuracy_score\n",
    "# import gpflow\n",
    "from sklearn.gaussian_process import GaussianProcessClassifier\n",
    "from sklearn.gaussian_process.kernels import RBF, DotProduct, WhiteKernel"
   ]
  },
  {
   "cell_type": "code",
   "execution_count": 28,
   "metadata": {},
   "outputs": [],
   "source": [
    "data_name = UCR_UEA_datasets().list_datasets()[2]"
   ]
  },
  {
   "cell_type": "code",
   "execution_count": 29,
   "metadata": {},
   "outputs": [
    {
     "data": {
      "text/plain": [
       "'Beef'"
      ]
     },
     "execution_count": 29,
     "metadata": {},
     "output_type": "execute_result"
    }
   ],
   "source": [
    "data_name"
   ]
  },
  {
   "cell_type": "code",
   "execution_count": 30,
   "metadata": {},
   "outputs": [],
   "source": [
    "data_loader = UCR_UEA_datasets()\n",
    "X_train, y_train, X_test, y_test = data_loader.load_dataset(data_name)"
   ]
  },
  {
   "cell_type": "code",
   "execution_count": 31,
   "metadata": {},
   "outputs": [
    {
     "name": "stdout",
     "output_type": "stream",
     "text": [
      "(30, 470, 1) (30, 470, 1)\n"
     ]
    }
   ],
   "source": [
    "print(X_train.shape, X_test.shape)"
   ]
  },
  {
   "cell_type": "code",
   "execution_count": 32,
   "metadata": {},
   "outputs": [
    {
     "data": {
      "text/html": [
       "<div>\n",
       "<style scoped>\n",
       "    .dataframe tbody tr th:only-of-type {\n",
       "        vertical-align: middle;\n",
       "    }\n",
       "\n",
       "    .dataframe tbody tr th {\n",
       "        vertical-align: top;\n",
       "    }\n",
       "\n",
       "    .dataframe thead th {\n",
       "        text-align: right;\n",
       "    }\n",
       "</style>\n",
       "<table border=\"1\" class=\"dataframe\">\n",
       "  <thead>\n",
       "    <tr style=\"text-align: right;\">\n",
       "      <th></th>\n",
       "      <th>ACF</th>\n",
       "      <th>BN</th>\n",
       "      <th>BOSS</th>\n",
       "      <th>BoP</th>\n",
       "      <th>C45</th>\n",
       "      <th>CID_DTW</th>\n",
       "      <th>DDTW_R1_1NN</th>\n",
       "      <th>DDTW_Rn_1NN</th>\n",
       "      <th>DD_DTW</th>\n",
       "      <th>DTD_C</th>\n",
       "      <th>...</th>\n",
       "      <th>RotF</th>\n",
       "      <th>SAXVSM</th>\n",
       "      <th>ST</th>\n",
       "      <th>SVML</th>\n",
       "      <th>SVMQ</th>\n",
       "      <th>TSBF</th>\n",
       "      <th>TSF</th>\n",
       "      <th>TWE_1NN</th>\n",
       "      <th>WDDTW_1NN</th>\n",
       "      <th>WDTW_1NN</th>\n",
       "    </tr>\n",
       "  </thead>\n",
       "  <tbody>\n",
       "    <tr>\n",
       "      <th>Beef</th>\n",
       "      <td>0.733333</td>\n",
       "      <td>0.6</td>\n",
       "      <td>0.8</td>\n",
       "      <td>0.6</td>\n",
       "      <td>0.533333</td>\n",
       "      <td>0.633333</td>\n",
       "      <td>0.666667</td>\n",
       "      <td>0.7</td>\n",
       "      <td>0.666667</td>\n",
       "      <td>0.666667</td>\n",
       "      <td>...</td>\n",
       "      <td>0.866667</td>\n",
       "      <td>0.433333</td>\n",
       "      <td>0.9</td>\n",
       "      <td>0.9</td>\n",
       "      <td>0.933333</td>\n",
       "      <td>0.566667</td>\n",
       "      <td>0.766667</td>\n",
       "      <td>0.6</td>\n",
       "      <td>0.7</td>\n",
       "      <td>0.7</td>\n",
       "    </tr>\n",
       "  </tbody>\n",
       "</table>\n",
       "<p>1 rows × 37 columns</p>\n",
       "</div>"
      ],
      "text/plain": [
       "           ACF   BN  BOSS  BoP       C45   CID_DTW  DDTW_R1_1NN  DDTW_Rn_1NN  \\\n",
       "Beef  0.733333  0.6   0.8  0.6  0.533333  0.633333     0.666667          0.7   \n",
       "\n",
       "        DD_DTW     DTD_C    ...         RotF    SAXVSM   ST  SVML      SVMQ  \\\n",
       "Beef  0.666667  0.666667    ...     0.866667  0.433333  0.9   0.9  0.933333   \n",
       "\n",
       "          TSBF       TSF  TWE_1NN  WDDTW_1NN  WDTW_1NN  \n",
       "Beef  0.566667  0.766667      0.6        0.7       0.7  \n",
       "\n",
       "[1 rows x 37 columns]"
      ]
     },
     "execution_count": 32,
     "metadata": {},
     "output_type": "execute_result"
    }
   ],
   "source": [
    "pd.DataFrame.from_dict(UCR_UEA_datasets().baseline_accuracy(list_datasets=data_name)).T"
   ]
  },
  {
   "cell_type": "code",
   "execution_count": 33,
   "metadata": {},
   "outputs": [
    {
     "data": {
      "image/png": "[encoded data removed]",
      "text/plain": [
       "<Figure size 432x288 with 1 Axes>"
      ]
     },
     "metadata": {},
     "output_type": "display_data"
    }
   ],
   "source": [
    "plt.plot(X_train[0])\n",
    "plt.show()"
   ]
  },
  {
   "cell_type": "code",
   "execution_count": 39,
   "metadata": {},
   "outputs": [
    {
     "name": "stdout",
     "output_type": "stream",
     "text": [
      "(30, 5, 94, 2)\n",
      "number of classes: 5\n"
     ]
    }
   ],
   "source": [
    "X_aug_train =  np.concatenate([np.concatenate(np.array_split(e[None,:,:], 5,axis=1))[None,:,:,:] for e in X_train])\n",
    "X_aug_test =  np.concatenate([np.concatenate(np.array_split(e[None,:,:], 5,axis=1))[None,:,:,:] for e in X_test])\n",
    "\n",
    "X_aug_train = utils.add_dimension(X_aug_train,add_time=True,lead_lag=None)\n",
    "X_aug_test = utils.add_dimension(X_aug_test,add_time=True,lead_lag=None)\n",
    "\n",
    "# X_aug_train = utils.add_dimension(X_aug_train,add_time=False,lead_lag=0)\n",
    "# X_aug_test = utils.add_dimension(X_aug_test,add_time=False,lead_lag=0)\n",
    "\n",
    "print(X_aug_train.shape)\n",
    "\n",
    "C = len(np.unique(y_train))\n",
    "print('number of classes:', C)"
   ]
  },
  {
   "cell_type": "markdown",
   "metadata": {},
   "source": [
    "**Sig KME**"
   ]
  },
  {
   "cell_type": "code",
   "execution_count": 40,
   "metadata": {},
   "outputs": [],
   "source": [
    "# reload(experiments)\n",
    "# reload(signature_features)\n",
    "\n",
    "sig_level = 5\n",
    "M = 1\n",
    "# Compute the expected signature\n",
    "X_feat_train = signature_features.scaled_expected_sig([e.copy() for e in X_aug_train],sig_level, ilya_rescale=True,M=M)\n",
    "X_feat_test = signature_features.scaled_expected_sig([e.copy() for e in X_aug_test],sig_level, ilya_rescale=True,M=M)\n",
    "\n",
    "# scale the features\n",
    "scaler = StandardScaler()\n",
    "to_fit = [X_feat_train[i] for i in range(len(X_feat_train))]\n",
    "scaler.fit(to_fit)\n",
    "X_feat_train = scaler.transform(X_feat_train)\n",
    "X_feat_test = scaler.transform(X_feat_test)"
   ]
  },
  {
   "cell_type": "code",
   "execution_count": 41,
   "metadata": {},
   "outputs": [],
   "source": [
    "# kernel = 10*RBF(1) + WhiteKernel(noise_level=0.01)\n",
    "# gpc = GaussianProcessClassifier(kernel=kernel,random_state=0).fit(X_feat_train, y_train)\n",
    "# gpc.score(X_feat_test, y_test)"
   ]
  },
  {
   "cell_type": "code",
   "execution_count": 50,
   "metadata": {},
   "outputs": [
    {
     "data": {
      "text/plain": [
       "[<matplotlib.lines.Line2D at 0x19b489c2ba8>]"
      ]
     },
     "execution_count": 50,
     "metadata": {},
     "output_type": "execute_result"
    },
    {
     "data": {
      "image/png": "[encoded data removed]",
      "text/plain": [
       "<Figure size 432x288 with 1 Axes>"
      ]
     },
     "metadata": {},
     "output_type": "display_data"
    }
   ],
   "source": [
    "results_penalty = []\n",
    "for p in np.linspace(0.1, 100, 100):\n",
    "    clf = svm.SVC(kernel='rbf',gamma='auto',C=p,decision_function_shape='ovr')\n",
    "    clf = clf.fit(X_feat_train,y_train)\n",
    "    results_penalty.append(clf.score(X_feat_test, y_test))\n",
    "plt.plot(results_penalty)"
   ]
  },
  {
   "cell_type": "code",
   "execution_count": 43,
   "metadata": {},
   "outputs": [
    {
     "data": {
      "text/plain": [
       "0.8333333333333334"
      ]
     },
     "execution_count": 43,
     "metadata": {},
     "output_type": "execute_result"
    }
   ],
   "source": [
    "max(results_penalty)"
   ]
  },
  {
   "cell_type": "markdown",
   "metadata": {},
   "source": [
    "**Pathwise E-Sig**"
   ]
  },
  {
   "cell_type": "code",
   "execution_count": 332,
   "metadata": {},
   "outputs": [],
   "source": [
    "# specs for pathwise expected sig\n",
    "sig_level1 = 2\n",
    "\n",
    "# specs for signature\n",
    "sig_level2 = 4\n",
    "\n",
    "M = 3\n",
    "\n",
    "# pathwise expected sig  \n",
    "X_feat_train = signature_features.scaled_pathwise_expected_iisignature([e.copy() for e in X_aug_train],\n",
    "                                                                       sig_level1, ilya_rescale=True,M=M)\n",
    "X_feat_train = iisignature.sig(X_feat_train,sig_level2)\n",
    "\n",
    "X_feat_test = signature_features.scaled_pathwise_expected_iisignature([e.copy() for e in X_aug_test],\n",
    "                                                                      sig_level1,ilya_rescale=True,M=M)\n",
    "X_feat_test = iisignature.sig(X_feat_test,sig_level2)\n",
    "\n",
    "scaler = StandardScaler()\n",
    "to_fit = [X_feat_train[i] for i in range(len(X_feat_train))]\n",
    "scaler.fit(to_fit)\n",
    "X_feat_train = scaler.transform(X_feat_train)\n",
    "X_feat_test = scaler.transform(X_feat_test)"
   ]
  },
  {
   "cell_type": "code",
   "execution_count": 333,
   "metadata": {},
   "outputs": [
    {
     "data": {
      "text/plain": [
       "[<matplotlib.lines.Line2D at 0x1f963bae320>]"
      ]
     },
     "execution_count": 333,
     "metadata": {},
     "output_type": "execute_result"
    },
    {
     "data": {
      "image/png": "[encoded data removed]",
      "text/plain": [
       "<Figure size 432x288 with 1 Axes>"
      ]
     },
     "metadata": {},
     "output_type": "display_data"
    }
   ],
   "source": [
    "results_penalty = []\n",
    "for p in np.linspace(0.01, 1, 100):\n",
    "    clf = svm.SVC(kernel='linear',gamma='auto',C=p,decision_function_shape='ovr')\n",
    "    clf = clf.fit(X_feat_train,y_train)\n",
    "    results_penalty.append(clf.score(X_feat_test, y_test))\n",
    "plt.plot(results_penalty)"
   ]
  },
  {
   "cell_type": "code",
   "execution_count": 334,
   "metadata": {},
   "outputs": [
    {
     "data": {
      "text/plain": [
       "0.8333333333333334"
      ]
     },
     "execution_count": 334,
     "metadata": {},
     "output_type": "execute_result"
    }
   ],
   "source": [
    "max(results_penalty)"
   ]
  },
  {
   "cell_type": "code",
   "execution_count": null,
   "metadata": {},
   "outputs": [],
   "source": []
  }
 ],
 "metadata": {
  "kernelspec": {
   "display_name": "Python 3",
   "language": "python",
   "name": "python3"
  },
  "language_info": {
   "codemirror_mode": {
    "name": "ipython",
    "version": 3
   },
   "file_extension": ".py",
   "mimetype": "text/x-python",
   "name": "python",
   "nbconvert_exporter": "python",
   "pygments_lexer": "ipython3",
   "version": "3.6.5"
  },
  "latex_envs": {
   "LaTeX_envs_menu_present": true,
   "autoclose": false,
   "autocomplete": true,
   "bibliofile": "biblio.bib",
   "cite_by": "apalike",
   "current_citInitial": 1,
   "eqLabelWithNumbers": true,
   "eqNumInitial": 1,
   "hotkeys": {
    "equation": "Ctrl-E",
    "itemize": "Ctrl-I"
   },
   "labels_anchors": false,
   "latex_user_defs": false,
   "report_style_numbering": false,
   "user_envs_cfg": false
  },
  "toc": {
   "nav_menu": {},
   "number_sections": true,
   "sideBar": true,
   "skip_h1_title": false,
   "title_cell": "Table of Contents",
   "title_sidebar": "Contents",
   "toc_cell": true,
   "toc_position": {},
   "toc_section_display": true,
   "toc_window_display": true
  }
 },
 "nbformat": 4,
 "nbformat_minor": 2
}
