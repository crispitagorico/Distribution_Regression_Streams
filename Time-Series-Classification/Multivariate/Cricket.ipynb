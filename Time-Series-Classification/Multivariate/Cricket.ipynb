{
 "cells": [
  {
   "cell_type": "markdown",
   "metadata": {
    "toc": true
   },
   "source": [
    "<h1>Table of Contents<span class=\"tocSkip\"></span></h1>\n",
    "<div class=\"toc\"><ul class=\"toc-item\"></ul></div>"
   ]
  },
  {
   "cell_type": "code",
   "execution_count": 1,
   "metadata": {},
   "outputs": [],
   "source": [
    "import sys\n",
    "sys.path.append('../../')\n",
    "\n",
    "import pandas as pd\n",
    "from importlib import reload\n",
    "import matplotlib.pyplot as plt\n",
    "from tslearn.datasets import UCR_UEA_datasets\n",
    "from sklearn import svm\n",
    "import signature_features\n",
    "from signature_features import *\n",
    "import utils\n",
    "from utils import *\n",
    "import experiments\n",
    "from experiments import * \n",
    "from sklearn.metrics import accuracy_score\n",
    "# import gpflow\n",
    "from sklearn.preprocessing import LabelEncoder\n",
    "from scipy.io import arff\n",
    "\n",
    "from sklearn.gaussian_process import GaussianProcessClassifier\n",
    "from sklearn.gaussian_process.kernels import RBF, DotProduct, WhiteKernel"
   ]
  },
  {
   "cell_type": "code",
   "execution_count": 55,
   "metadata": {},
   "outputs": [],
   "source": [
    "data_train = arff.loadarff('Multivariate_arff/Cricket/Cricket_TRAIN.arff')\n",
    "data_test = arff.loadarff('Multivariate_arff/Cricket/Cricket_TEST.arff')\n",
    "\n",
    "df_train = pd.DataFrame(data_train[0])\n",
    "df_test = pd.DataFrame(data_test[0])\n",
    "\n",
    "labels_train = df_train.iloc[:,1]\n",
    "labels_test = df_test.iloc[:,1]\n",
    "\n",
    "y_train = LabelEncoder().fit_transform(labels_train)\n",
    "y_test = LabelEncoder().fit_transform(labels_test)\n",
    "\n",
    "x_train = [np.array(a.tolist()).T for a in df_train.iloc[:,0]]\n",
    "x_test = [np.array(a.tolist()).T for a in df_test.iloc[:,0]]"
   ]
  },
  {
   "cell_type": "code",
   "execution_count": 56,
   "metadata": {},
   "outputs": [
    {
     "data": {
      "text/html": [
       "<div>\n",
       "<style scoped>\n",
       "    .dataframe tbody tr th:only-of-type {\n",
       "        vertical-align: middle;\n",
       "    }\n",
       "\n",
       "    .dataframe tbody tr th {\n",
       "        vertical-align: top;\n",
       "    }\n",
       "\n",
       "    .dataframe thead th {\n",
       "        text-align: right;\n",
       "    }\n",
       "</style>\n",
       "<table border=\"1\" class=\"dataframe\">\n",
       "  <thead>\n",
       "    <tr style=\"text-align: right;\">\n",
       "      <th></th>\n",
       "      <th>relationalAtt</th>\n",
       "      <th>classAttribute</th>\n",
       "    </tr>\n",
       "  </thead>\n",
       "  <tbody>\n",
       "    <tr>\n",
       "      <th>0</th>\n",
       "      <td>[[-0.97211, -0.95768, -0.95901, -0.95901, -0.9...</td>\n",
       "      <td>b'1.0'</td>\n",
       "    </tr>\n",
       "    <tr>\n",
       "      <th>1</th>\n",
       "      <td>[[-0.55916, -0.57613, -0.57443, -0.57953, -0.5...</td>\n",
       "      <td>b'1.0'</td>\n",
       "    </tr>\n",
       "    <tr>\n",
       "      <th>2</th>\n",
       "      <td>[[-0.78485, -0.78446, -0.7935, -0.79794, -0.80...</td>\n",
       "      <td>b'1.0'</td>\n",
       "    </tr>\n",
       "    <tr>\n",
       "      <th>3</th>\n",
       "      <td>[[-0.7008, -0.6821, -0.68397, -0.68397, -0.678...</td>\n",
       "      <td>b'1.0'</td>\n",
       "    </tr>\n",
       "    <tr>\n",
       "      <th>4</th>\n",
       "      <td>[[-0.79512, -0.7955, -0.79095, -0.78193, -0.78...</td>\n",
       "      <td>b'1.0'</td>\n",
       "    </tr>\n",
       "  </tbody>\n",
       "</table>\n",
       "</div>"
      ],
      "text/plain": [
       "                                       relationalAtt classAttribute\n",
       "0  [[-0.97211, -0.95768, -0.95901, -0.95901, -0.9...         b'1.0'\n",
       "1  [[-0.55916, -0.57613, -0.57443, -0.57953, -0.5...         b'1.0'\n",
       "2  [[-0.78485, -0.78446, -0.7935, -0.79794, -0.80...         b'1.0'\n",
       "3  [[-0.7008, -0.6821, -0.68397, -0.68397, -0.678...         b'1.0'\n",
       "4  [[-0.79512, -0.7955, -0.79095, -0.78193, -0.78...         b'1.0'"
      ]
     },
     "execution_count": 56,
     "metadata": {},
     "output_type": "execute_result"
    }
   ],
   "source": [
    "df_train.head()"
   ]
  },
  {
   "cell_type": "code",
   "execution_count": 57,
   "metadata": {},
   "outputs": [
    {
     "data": {
      "text/plain": [
       "array([b'1.0', b'2.0', b'3.0', b'4.0', b'5.0', b'6.0', b'7.0', b'8.0',\n",
       "       b'9.0', b'10.0', b'11.0', b'12.0'], dtype=object)"
      ]
     },
     "execution_count": 57,
     "metadata": {},
     "output_type": "execute_result"
    }
   ],
   "source": [
    "df_train.iloc[:,1].unique()"
   ]
  },
  {
   "cell_type": "code",
   "execution_count": 58,
   "metadata": {},
   "outputs": [],
   "source": [
    "def transform(paths, scale=1.):\n",
    "    return [scale*p for p in paths]"
   ]
  },
  {
   "cell_type": "code",
   "execution_count": 59,
   "metadata": {},
   "outputs": [],
   "source": [
    "x_train = np.array(transform(x_train))\n",
    "x_test = np.array(transform(x_test))\n",
    "l = x_train.shape[1]"
   ]
  },
  {
   "cell_type": "code",
   "execution_count": 60,
   "metadata": {},
   "outputs": [
    {
     "data": {
      "image/png": "[encoded data removed]",
      "text/plain": [
       "<Figure size 432x288 with 1 Axes>"
      ]
     },
     "metadata": {},
     "output_type": "display_data"
    }
   ],
   "source": [
    "plt.plot(x_train[1])\n",
    "plt.show()"
   ]
  },
  {
   "cell_type": "code",
   "execution_count": 61,
   "metadata": {},
   "outputs": [
    {
     "data": {
      "text/plain": [
       "(108, 1197, 6)"
      ]
     },
     "execution_count": 61,
     "metadata": {},
     "output_type": "execute_result"
    }
   ],
   "source": [
    "x_train.shape"
   ]
  },
  {
   "cell_type": "code",
   "execution_count": 62,
   "metadata": {},
   "outputs": [
    {
     "data": {
      "text/plain": [
       "(72, 1197, 6)"
      ]
     },
     "execution_count": 62,
     "metadata": {},
     "output_type": "execute_result"
    }
   ],
   "source": [
    "x_test.shape"
   ]
  },
  {
   "cell_type": "code",
   "execution_count": 80,
   "metadata": {},
   "outputs": [],
   "source": [
    "X_aug_train =  np.concatenate([np.concatenate(np.array_split(e[None,:-1,:],2,axis=1))[None,:,:,:] for e in x_train])\n",
    "X_aug_test =  np.concatenate([np.concatenate(np.array_split(e[None,:-1,:],2,axis=1))[None,:,:,:] for e in x_test])\n",
    "\n",
    "# X_aug_train = utils.add_dimension(X_aug_train,add_time=True,lead_lag=None)\n",
    "# X_aug_test = utils.add_dimension(X_aug_test,add_time=True,lead_lag=None)\n",
    "\n",
    "# X_aug_train = utils.add_dimension(X_aug_train,add_time=False,lead_lag=1)\n",
    "# X_aug_test = utils.add_dimension(X_aug_test,add_time=False,lead_lag=1)"
   ]
  },
  {
   "cell_type": "code",
   "execution_count": 81,
   "metadata": {},
   "outputs": [
    {
     "name": "stdout",
     "output_type": "stream",
     "text": [
      "(108, 2, 598, 6)\n"
     ]
    }
   ],
   "source": [
    "print(X_aug_train.shape)"
   ]
  },
  {
   "cell_type": "markdown",
   "metadata": {},
   "source": [
    "**Sig KME**"
   ]
  },
  {
   "cell_type": "code",
   "execution_count": 133,
   "metadata": {},
   "outputs": [],
   "source": [
    "reload(experiments)\n",
    "reload(signature_features)\n",
    "\n",
    "sig_level = 4\n",
    "\n",
    "# Compute the expected signature\n",
    "X_feat_train = signature_features.scaled_expected_sig([e.copy() for e in X_aug_train],sig_level,ilya_rescale=True,M=5)\n",
    "X_feat_test = signature_features.scaled_expected_sig([e.copy() for e in X_aug_test],sig_level,ilya_rescale=True,M=5)\n",
    "\n",
    "# scale the features\n",
    "scaler = StandardScaler()\n",
    "to_fit = X_feat_train\n",
    "scaler.fit(to_fit)\n",
    "X_feat_train = scaler.transform(X_feat_train)\n",
    "X_feat_test = scaler.transform(X_feat_test)"
   ]
  },
  {
   "cell_type": "code",
   "execution_count": 134,
   "metadata": {},
   "outputs": [],
   "source": [
    "# kernel = 10*RBF(1) + WhiteKernel(noise_level=0.01)\n",
    "# gpc = GaussianProcessClassifier(kernel=kernel,random_state=0).fit(X_feat_train, y_train)\n",
    "# gpc.score(X_feat_test, y_test)"
   ]
  },
  {
   "cell_type": "code",
   "execution_count": 135,
   "metadata": {},
   "outputs": [],
   "source": [
    "results_penalty = []\n",
    "for p in np.linspace(0.1, 20, 10):\n",
    "    clf = svm.SVC(kernel='rbf',gamma='auto',C=p,decision_function_shape='ovr')\n",
    "    clf = clf.fit(X_feat_train,y_train)\n",
    "    results_penalty.append(clf.score(X_feat_test, y_test))"
   ]
  },
  {
   "cell_type": "code",
   "execution_count": 136,
   "metadata": {},
   "outputs": [
    {
     "data": {
      "text/plain": [
       "[<matplotlib.lines.Line2D at 0x1dd8fa92860>]"
      ]
     },
     "execution_count": 136,
     "metadata": {},
     "output_type": "execute_result"
    },
    {
     "data": {
      "image/png": "[encoded data removed]",
      "text/plain": [
       "<Figure size 432x288 with 1 Axes>"
      ]
     },
     "metadata": {},
     "output_type": "display_data"
    }
   ],
   "source": [
    "plt.plot(results_penalty)"
   ]
  },
  {
   "cell_type": "code",
   "execution_count": 137,
   "metadata": {},
   "outputs": [
    {
     "data": {
      "text/plain": [
       "0.9583333333333334"
      ]
     },
     "execution_count": 137,
     "metadata": {},
     "output_type": "execute_result"
    }
   ],
   "source": [
    "max(results_penalty)"
   ]
  },
  {
   "cell_type": "markdown",
   "metadata": {},
   "source": [
    "**Pathwise E-Sig**"
   ]
  },
  {
   "cell_type": "code",
   "execution_count": 172,
   "metadata": {},
   "outputs": [],
   "source": [
    "# specs for pathwise expected sig\n",
    "sig_level1 = 2\n",
    "\n",
    "# specs for signature\n",
    "sig_level2 = 2\n",
    "\n",
    "# pathwise expected sig  \n",
    "X_feat_train = signature_features.scaled_pathwise_expected_iisignature([e.copy() for e in X_aug_train],sig_level1,\n",
    "                                                                       ilya_rescale=True,M=2)\n",
    "X_feat_train = iisignature.sig(X_feat_train,sig_level2)\n",
    "\n",
    "X_feat_test = signature_features.scaled_pathwise_expected_iisignature([e.copy() for e in X_aug_test],sig_level1,\n",
    "                                                                     ilya_rescale=True,M=2)\n",
    "X_feat_test = iisignature.sig(X_feat_test,sig_level2)\n",
    "\n",
    "# scaler = StandardScaler()\n",
    "# to_fit = [X_feat_train[i] for i in range(len(X_feat_train))]\n",
    "# scaler.fit(to_fit)\n",
    "# X_feat_train = scaler.transform(X_feat_train)\n",
    "# X_feat_test = scaler.transform(X_feat_test)"
   ]
  },
  {
   "cell_type": "code",
   "execution_count": 173,
   "metadata": {},
   "outputs": [
    {
     "name": "stdout",
     "output_type": "stream",
     "text": [
      "0.8055555555555556\n"
     ]
    }
   ],
   "source": [
    "# kernel = DotProduct() #+ WhiteKernel(0.1)\n",
    "# #kernel = 1.0 * RBF(10)\n",
    "# gpc = GaussianProcessClassifier(kernel=kernel,random_state=0,multi_class='one_vs_one').fit(X_feat_train, y_train)\n",
    "# print(gpc.score(X_feat_test, y_test))\n",
    "# print(gpc.kernel.theta)\n",
    "\n",
    "kernel = DotProduct()+ WhiteKernel(0.1)\n",
    "gpc = GaussianProcessClassifier(kernel=kernel,random_state=0)\n",
    "gpc = gpc.fit(X_feat_train, y_train)\n",
    "print(gpc.score(X_feat_test, y_test))"
   ]
  },
  {
   "cell_type": "code",
   "execution_count": 174,
   "metadata": {},
   "outputs": [],
   "source": [
    "results_penalty = []\n",
    "for p in np.linspace(0.1, 10, 10):\n",
    "    clf = svm.SVC(kernel='linear',gamma='auto',C=p,decision_function_shape='ovr')\n",
    "    clf = clf.fit(X_feat_train,y_train)\n",
    "    results_penalty.append(clf.score(X_feat_test, y_test))"
   ]
  },
  {
   "cell_type": "code",
   "execution_count": 175,
   "metadata": {},
   "outputs": [
    {
     "data": {
      "text/plain": [
       "[<matplotlib.lines.Line2D at 0x1dd9795d048>]"
      ]
     },
     "execution_count": 175,
     "metadata": {},
     "output_type": "execute_result"
    },
    {
     "data": {
      "image/png": "[encoded data removed]",
      "text/plain": [
       "<Figure size 432x288 with 1 Axes>"
      ]
     },
     "metadata": {},
     "output_type": "display_data"
    }
   ],
   "source": [
    "plt.plot(results_penalty)"
   ]
  },
  {
   "cell_type": "code",
   "execution_count": null,
   "metadata": {},
   "outputs": [],
   "source": []
  }
 ],
 "metadata": {
  "kernelspec": {
   "display_name": "Python 3",
   "language": "python",
   "name": "python3"
  },
  "language_info": {
   "codemirror_mode": {
    "name": "ipython",
    "version": 3
   },
   "file_extension": ".py",
   "mimetype": "text/x-python",
   "name": "python",
   "nbconvert_exporter": "python",
   "pygments_lexer": "ipython3",
   "version": "3.6.5"
  },
  "latex_envs": {
   "LaTeX_envs_menu_present": true,
   "autoclose": false,
   "autocomplete": true,
   "bibliofile": "biblio.bib",
   "cite_by": "apalike",
   "current_citInitial": 1,
   "eqLabelWithNumbers": true,
   "eqNumInitial": 1,
   "hotkeys": {
    "equation": "Ctrl-E",
    "itemize": "Ctrl-I"
   },
   "labels_anchors": false,
   "latex_user_defs": false,
   "report_style_numbering": false,
   "user_envs_cfg": false
  },
  "toc": {
   "nav_menu": {},
   "number_sections": true,
   "sideBar": true,
   "skip_h1_title": false,
   "title_cell": "Table of Contents",
   "title_sidebar": "Contents",
   "toc_cell": true,
   "toc_position": {},
   "toc_section_display": true,
   "toc_window_display": true
  }
 },
 "nbformat": 4,
 "nbformat_minor": 2
}
