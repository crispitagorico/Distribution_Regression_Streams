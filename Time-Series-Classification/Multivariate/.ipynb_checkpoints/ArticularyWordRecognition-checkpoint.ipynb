{
 "cells": [
  {
   "cell_type": "markdown",
   "metadata": {
    "toc": true
   },
   "source": [
    "<h1>Table of Contents<span class=\"tocSkip\"></span></h1>\n",
    "<div class=\"toc\"><ul class=\"toc-item\"></ul></div>"
   ]
  },
  {
   "cell_type": "code",
   "execution_count": 1,
   "metadata": {},
   "outputs": [],
   "source": [
    "import sys\n",
    "sys.path.append('../../')\n",
    "\n",
    "import pandas as pd\n",
    "from importlib import reload\n",
    "import matplotlib.pyplot as plt\n",
    "from tslearn.datasets import UCR_UEA_datasets\n",
    "from sklearn import svm\n",
    "import signature_features\n",
    "from signature_features import *\n",
    "import utils\n",
    "from utils import *\n",
    "import experiments\n",
    "from experiments import * \n",
    "from sklearn.metrics import accuracy_score\n",
    "# import gpflow\n",
    "from sklearn.preprocessing import LabelEncoder\n",
    "from scipy.io import arff\n",
    "\n",
    "from sklearn.gaussian_process import GaussianProcessClassifier\n",
    "from sklearn.gaussian_process.kernels import RBF, DotProduct, WhiteKernel"
   ]
  },
  {
   "cell_type": "code",
   "execution_count": 2,
   "metadata": {},
   "outputs": [],
   "source": [
    "data_train = arff.loadarff('Multivariate_arff/ArticularyWordRecognition/ArticularyWordRecognition_TRAIN.arff')\n",
    "data_test = arff.loadarff('Multivariate_arff/ArticularyWordRecognition/ArticularyWordRecognition_TEST.arff')\n",
    "\n",
    "df_train = pd.DataFrame(data_train[0]).iloc[::1,:]\n",
    "df_test = pd.DataFrame(data_test[0]).iloc[::1,:]\n",
    "\n",
    "labels_train = df_train.iloc[:,1]\n",
    "labels_test = df_test.iloc[:,1]\n",
    "\n",
    "y_train = LabelEncoder().fit_transform(labels_train)\n",
    "y_test = LabelEncoder().fit_transform(labels_test)\n",
    "\n",
    "x_train = [np.array(a.tolist()).T for a in df_train.iloc[:,0]]\n",
    "x_test = [np.array(a.tolist()).T for a in df_test.iloc[:,0]]"
   ]
  },
  {
   "cell_type": "code",
   "execution_count": 3,
   "metadata": {},
   "outputs": [
    {
     "data": {
      "text/html": [
       "<div>\n",
       "<style scoped>\n",
       "    .dataframe tbody tr th:only-of-type {\n",
       "        vertical-align: middle;\n",
       "    }\n",
       "\n",
       "    .dataframe tbody tr th {\n",
       "        vertical-align: top;\n",
       "    }\n",
       "\n",
       "    .dataframe thead th {\n",
       "        text-align: right;\n",
       "    }\n",
       "</style>\n",
       "<table border=\"1\" class=\"dataframe\">\n",
       "  <thead>\n",
       "    <tr style=\"text-align: right;\">\n",
       "      <th></th>\n",
       "      <th>relationalAtt</th>\n",
       "      <th>classAttribute</th>\n",
       "    </tr>\n",
       "  </thead>\n",
       "  <tbody>\n",
       "    <tr>\n",
       "      <th>0</th>\n",
       "      <td>[[0.87159, 0.88042, 0.88042, 0.81962, 0.81962,...</td>\n",
       "      <td>b'1.0'</td>\n",
       "    </tr>\n",
       "    <tr>\n",
       "      <th>1</th>\n",
       "      <td>[[2.7428, 2.4265, 2.4265, 2.3447, 2.3447, 2.33...</td>\n",
       "      <td>b'1.0'</td>\n",
       "    </tr>\n",
       "    <tr>\n",
       "      <th>2</th>\n",
       "      <td>[[0.9799, 1.0028, 1.0028, 0.81538, 0.81538, 1....</td>\n",
       "      <td>b'1.0'</td>\n",
       "    </tr>\n",
       "    <tr>\n",
       "      <th>3</th>\n",
       "      <td>[[0.96582, 1.1887, 1.1887, 1.1342, 1.1342, 1.0...</td>\n",
       "      <td>b'1.0'</td>\n",
       "    </tr>\n",
       "    <tr>\n",
       "      <th>4</th>\n",
       "      <td>[[-1.8861, -1.4923, -1.4923, -1.8474, -1.8474,...</td>\n",
       "      <td>b'1.0'</td>\n",
       "    </tr>\n",
       "  </tbody>\n",
       "</table>\n",
       "</div>"
      ],
      "text/plain": [
       "                                       relationalAtt classAttribute\n",
       "0  [[0.87159, 0.88042, 0.88042, 0.81962, 0.81962,...         b'1.0'\n",
       "1  [[2.7428, 2.4265, 2.4265, 2.3447, 2.3447, 2.33...         b'1.0'\n",
       "2  [[0.9799, 1.0028, 1.0028, 0.81538, 0.81538, 1....         b'1.0'\n",
       "3  [[0.96582, 1.1887, 1.1887, 1.1342, 1.1342, 1.0...         b'1.0'\n",
       "4  [[-1.8861, -1.4923, -1.4923, -1.8474, -1.8474,...         b'1.0'"
      ]
     },
     "execution_count": 3,
     "metadata": {},
     "output_type": "execute_result"
    }
   ],
   "source": [
    "df_train.head()"
   ]
  },
  {
   "cell_type": "code",
   "execution_count": 4,
   "metadata": {},
   "outputs": [
    {
     "data": {
      "text/plain": [
       "array([b'1.0', b'2.0', b'3.0', b'4.0', b'5.0', b'6.0', b'7.0', b'8.0',\n",
       "       b'9.0', b'10.0', b'11.0', b'12.0', b'13.0', b'14.0', b'15.0',\n",
       "       b'16.0', b'17.0', b'18.0', b'19.0', b'20.0', b'21.0', b'22.0',\n",
       "       b'23.0', b'24.0', b'25.0'], dtype=object)"
      ]
     },
     "execution_count": 4,
     "metadata": {},
     "output_type": "execute_result"
    }
   ],
   "source": [
    "df_train.iloc[:,1].unique()"
   ]
  },
  {
   "cell_type": "code",
   "execution_count": 5,
   "metadata": {},
   "outputs": [],
   "source": [
    "def transform(paths, scale=1.):\n",
    "#     paths = LeadLag().fit_transform(paths)\n",
    "#     paths = AddTime().fit_transform(paths)\n",
    "    return [scale*p for p in paths]"
   ]
  },
  {
   "cell_type": "code",
   "execution_count": 6,
   "metadata": {},
   "outputs": [],
   "source": [
    "x_train = np.array(transform(x_train))\n",
    "x_test = np.array(transform(x_test))\n",
    "l = x_train.shape[1]"
   ]
  },
  {
   "cell_type": "code",
   "execution_count": 7,
   "metadata": {},
   "outputs": [
    {
     "data": {
      "image/png": "[encoded data removed]",
      "text/plain": [
       "<Figure size 432x288 with 1 Axes>"
      ]
     },
     "metadata": {},
     "output_type": "display_data"
    }
   ],
   "source": [
    "plt.plot(x_train[1])\n",
    "plt.show()"
   ]
  },
  {
   "cell_type": "code",
   "execution_count": 8,
   "metadata": {},
   "outputs": [
    {
     "data": {
      "text/plain": [
       "(275, 144, 9)"
      ]
     },
     "execution_count": 8,
     "metadata": {},
     "output_type": "execute_result"
    }
   ],
   "source": [
    "x_train.shape"
   ]
  },
  {
   "cell_type": "code",
   "execution_count": 9,
   "metadata": {},
   "outputs": [
    {
     "data": {
      "text/plain": [
       "(300, 144, 9)"
      ]
     },
     "execution_count": 9,
     "metadata": {},
     "output_type": "execute_result"
    }
   ],
   "source": [
    "x_test.shape"
   ]
  },
  {
   "cell_type": "code",
   "execution_count": 10,
   "metadata": {},
   "outputs": [],
   "source": [
    "X_aug_train =  np.concatenate([np.concatenate(np.array_split(e[None,:,:],2,axis=1))[None,:,:,:] for e in x_train])\n",
    "X_aug_test =  np.concatenate([np.concatenate(np.array_split(e[None,:,:], 2,axis=1))[None,:,:,:] for e in x_test])\n",
    "\n",
    "# X_aug_train = utils.add_dimension(X_aug_train,add_time=True,lead_lag=None)\n",
    "# X_aug_test = utils.add_dimension(X_aug_test,add_time=True,lead_lag=None)\n",
    "\n",
    "# X_aug_train = utils.add_dimension(X_aug_train,add_time=False,lead_lag=1)\n",
    "# X_aug_test = utils.add_dimension(X_aug_test,add_time=False,lead_lag=1)"
   ]
  },
  {
   "cell_type": "code",
   "execution_count": 11,
   "metadata": {},
   "outputs": [
    {
     "name": "stdout",
     "output_type": "stream",
     "text": [
      "(275, 2, 72, 9)\n"
     ]
    }
   ],
   "source": [
    "print(X_aug_train.shape)"
   ]
  },
  {
   "cell_type": "markdown",
   "metadata": {},
   "source": [
    "**Sig KME**"
   ]
  },
  {
   "cell_type": "code",
   "execution_count": 34,
   "metadata": {},
   "outputs": [],
   "source": [
    "reload(experiments)\n",
    "reload(signature_features)\n",
    "\n",
    "sig_level = 2\n",
    "\n",
    "# Compute the expected signature\n",
    "X_feat_train = signature_features.scaled_expected_sig([e.copy() for e in X_aug_train],sig_level)\n",
    "X_feat_test = signature_features.scaled_expected_sig([e.copy() for e in X_aug_test],sig_level)\n",
    "\n",
    "# scale the features\n",
    "scaler = StandardScaler()\n",
    "to_fit = X_feat_train\n",
    "scaler.fit(to_fit)\n",
    "X_feat_train = scaler.transform(X_feat_train)\n",
    "X_feat_test = scaler.transform(X_feat_test)"
   ]
  },
  {
   "cell_type": "code",
   "execution_count": 35,
   "metadata": {},
   "outputs": [],
   "source": [
    "# kernel = 10*RBF(1) + WhiteKernel(noise_level=0.01)\n",
    "# gpc = GaussianProcessClassifier(kernel=kernel,random_state=0).fit(X_feat_train, y_train)\n",
    "# gpc.score(X_feat_test, y_test)"
   ]
  },
  {
   "cell_type": "code",
   "execution_count": 36,
   "metadata": {},
   "outputs": [],
   "source": [
    "results_penalty = []\n",
    "for p in np.linspace(1, 10, 10):\n",
    "    clf = svm.SVC(kernel='rbf',gamma='auto',C=p,decision_function_shape='ovr')\n",
    "    clf = clf.fit(X_feat_train,y_train)\n",
    "    results_penalty.append(clf.score(X_feat_test, y_test))"
   ]
  },
  {
   "cell_type": "code",
   "execution_count": 37,
   "metadata": {},
   "outputs": [
    {
     "data": {
      "text/plain": [
       "[<matplotlib.lines.Line2D at 0x21f67c89cc0>]"
      ]
     },
     "execution_count": 37,
     "metadata": {},
     "output_type": "execute_result"
    },
    {
     "data": {
      "image/png": "[encoded data removed]",
      "text/plain": [
       "<Figure size 432x288 with 1 Axes>"
      ]
     },
     "metadata": {},
     "output_type": "display_data"
    }
   ],
   "source": [
    "plt.plot(results_penalty)"
   ]
  },
  {
   "cell_type": "code",
   "execution_count": 38,
   "metadata": {},
   "outputs": [
    {
     "data": {
      "text/plain": [
       "0.9666666666666667"
      ]
     },
     "execution_count": 38,
     "metadata": {},
     "output_type": "execute_result"
    }
   ],
   "source": [
    "max(results_penalty)"
   ]
  },
  {
   "cell_type": "markdown",
   "metadata": {},
   "source": [
    "**Pathwise E-Sig**"
   ]
  },
  {
   "cell_type": "code",
   "execution_count": 151,
   "metadata": {},
   "outputs": [],
   "source": [
    "# specs for pathwise expected sig\n",
    "sig_level1 = 9\n",
    "\n",
    "# specs for signature\n",
    "sig_level2 = 2\n",
    "\n",
    "# pathwise expected sig  \n",
    "X_feat_train = signature_features.scaled_pathwise_expected_iisignature([e.copy() for e in X_aug_train],sig_level1)\n",
    "X_feat_train = iisignature.sig(X_feat_train,sig_level2)\n",
    "\n",
    "X_feat_test = signature_features.scaled_pathwise_expected_iisignature([e.copy() for e in X_aug_test],sig_level1)\n",
    "X_feat_test = iisignature.sig(X_feat_test,sig_level2)\n",
    "\n",
    "# scaler = StandardScaler()\n",
    "# to_fit = [X_feat_train[i] for i in range(len(X_feat_train))]\n",
    "# scaler.fit(to_fit)\n",
    "# X_feat_train = scaler.transform(X_feat_train)\n",
    "# X_feat_test = scaler.transform(X_feat_test)\n"
   ]
  },
  {
   "cell_type": "code",
   "execution_count": 169,
   "metadata": {},
   "outputs": [
    {
     "name": "stdout",
     "output_type": "stream",
     "text": [
      "0.75\n",
      "[4.53923371e-03 2.17501309e-05]\n"
     ]
    }
   ],
   "source": [
    "# kernel = DotProduct() #+ WhiteKernel(0.1)\n",
    "# #kernel = 1.0 * RBF(10)\n",
    "# gpc = GaussianProcessClassifier(kernel=kernel,random_state=0,multi_class='one_vs_one').fit(X_feat_train, y_train)\n",
    "# print(gpc.score(X_feat_test, y_test))\n",
    "# print(gpc.kernel.theta)\n",
    "\n",
    "kernel = DotProduct()+ WhiteKernel(0.1)\n",
    "gpc = GaussianProcessClassifier(kernel=kernel,random_state=0)\n",
    "gpc = gpc.fit(X_feat_train, y_train)\n",
    "print(gpc.score(X_feat_test, y_test))\n",
    "print(np.exp(gpc.kernel_.theta))"
   ]
  },
  {
   "cell_type": "code",
   "execution_count": 156,
   "metadata": {},
   "outputs": [
    {
     "data": {
      "text/plain": [
       "0.75"
      ]
     },
     "execution_count": 156,
     "metadata": {},
     "output_type": "execute_result"
    }
   ],
   "source": [
    "clf = svm.SVC(kernel='linear',gamma=0.01,C=1000,decision_function_shape='ovo')\n",
    "clf = clf.fit(X_feat_train,y_train)\n",
    "clf.score(X_feat_test, y_test)"
   ]
  },
  {
   "cell_type": "code",
   "execution_count": 590,
   "metadata": {},
   "outputs": [],
   "source": [
    "def random_subsampling(X_train,X_test,N_obs,N_samples):\n",
    "    subsampling = []\n",
    "    for i in range(N_samples):\n",
    "        choice_obs = np.random.choice(np.arange(X_train.shape[1]), size=N_obs, replace=False)\n",
    "        choice_obs = np.sort(choice_obs)\n",
    "        subsampling.append(choice_obs)\n",
    "    \n",
    "    X_aug_train = np.concatenate([np.concatenate([e[subsampling[i],:][None,:,:] for i in range(N_samples)])[None,:,:,:] for e in X_train])   \n",
    "    X_aug_test = np.concatenate([np.concatenate([e[subsampling[i],:][None,:,:] for i in range(N_samples)])[None,:,:,:] for e in X_test])\n",
    "    return X_aug_train, X_aug_test\n",
    "\n",
    "def random_subseries(X_train,X_test,N_sub,L):\n",
    "    subsampling = []\n",
    "    for i in range(len(X_train)+len(X_test)):\n",
    "        choice_obs = np.random.choice(np.arange(X_train.shape[1]-L), size=N_sub, replace=False)\n",
    "        choice_obs = np.sort(choice_obs)\n",
    "        subsampling.append(choice_obs)\n",
    "    \n",
    "    X_aug_train = np.concatenate([np.concatenate([e[subsampling[j][i]:subsampling[j][i]+L,:][None,:,:] for i in range(N_sub)])[None,:,:,:] for j,e in enumerate(X_train)])   \n",
    "    X_aug_test = np.concatenate([np.concatenate([e[subsampling[j][i]:subsampling[j][i]+L,:][None,:,:] for i in range(N_sub)])[None,:,:,:] for j,e in enumerate(X_test)]) \n",
    "    return X_aug_train, X_aug_test\n"
   ]
  },
  {
   "cell_type": "code",
   "execution_count": null,
   "metadata": {},
   "outputs": [],
   "source": []
  }
 ],
 "metadata": {
  "kernelspec": {
   "display_name": "Python 3",
   "language": "python",
   "name": "python3"
  },
  "language_info": {
   "codemirror_mode": {
    "name": "ipython",
    "version": 3
   },
   "file_extension": ".py",
   "mimetype": "text/x-python",
   "name": "python",
   "nbconvert_exporter": "python",
   "pygments_lexer": "ipython3",
   "version": "3.6.5"
  },
  "latex_envs": {
   "LaTeX_envs_menu_present": true,
   "autoclose": false,
   "autocomplete": true,
   "bibliofile": "biblio.bib",
   "cite_by": "apalike",
   "current_citInitial": 1,
   "eqLabelWithNumbers": true,
   "eqNumInitial": 1,
   "hotkeys": {
    "equation": "Ctrl-E",
    "itemize": "Ctrl-I"
   },
   "labels_anchors": false,
   "latex_user_defs": false,
   "report_style_numbering": false,
   "user_envs_cfg": false
  },
  "toc": {
   "nav_menu": {},
   "number_sections": true,
   "sideBar": true,
   "skip_h1_title": false,
   "title_cell": "Table of Contents",
   "title_sidebar": "Contents",
   "toc_cell": true,
   "toc_position": {},
   "toc_section_display": true,
   "toc_window_display": true
  }
 },
 "nbformat": 4,
 "nbformat_minor": 2
}
