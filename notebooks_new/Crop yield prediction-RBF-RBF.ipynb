{
 "cells": [
  {
   "cell_type": "markdown",
   "metadata": {
    "toc": true
   },
   "source": [
    "<h1>Table of Contents<span class=\"tocSkip\"></span></h1>\n",
    "<div class=\"toc\"><ul class=\"toc-item\"></ul></div>"
   ]
  },
  {
   "cell_type": "code",
   "execution_count": 183,
   "metadata": {},
   "outputs": [],
   "source": [
    "import warnings\n",
    "warnings.filterwarnings('ignore')\n",
    "\n",
    "import pickle\n",
    "import numpy as np\n",
    "import matplotlib.pyplot as plt\n",
    "from importlib import reload\n",
    "from tqdm import tqdm\n",
    "import pandas as pd\n",
    "import seaborn as sns\n",
    "\n",
    "import functionalities\n",
    "from utils_crops import *\n",
    "import esig.tosig as esig\n",
    "\n",
    "from utils.addtime import AddTime, LeadLag\n",
    "import iisignature\n",
    "from sklearn.linear_model import LassoCV\n",
    "\n",
    "import matplotlib.pylab as pylab\n",
    "params = {'legend.fontsize': 'x-large',\n",
    "          'figure.figsize': (5, 5),\n",
    "          'axes.labelsize': 'x-large',\n",
    "          'axes.titlesize':'x-large',\n",
    "          'xtick.labelsize':'x-large',\n",
    "          'ytick.labelsize':'x-large'}\n",
    "pylab.rcParams.update(params)"
   ]
  },
  {
   "cell_type": "markdown",
   "metadata": {},
   "source": [
    "# Interpretability: multi-spectral dataset (11 years)"
   ]
  },
  {
   "cell_type": "code",
   "execution_count": 173,
   "metadata": {},
   "outputs": [],
   "source": [
    "def get_sig_keys(dico,sig_level):\n",
    "    \n",
    "    ndims = len(dico)\n",
    "    \n",
    "    keys = esig.sigkeys(ndims,sig_level).split(\"(\")\n",
    "    sig_keys = []\n",
    "\n",
    "    for i in range(2,len(keys)-1):\n",
    "        sig_keys.append(np.array(keys[i][:-2].split(',')))\n",
    "    sig_keys.append(np.array(keys[len(keys)-1][:-1].split(',')))\n",
    "    \n",
    "    features_names = {}\n",
    "    for i in range(len(sig_keys)):\n",
    "        separator = '-'\n",
    "        name = separator.join([dico[int(e)] for e in sig_keys[i]])\n",
    "        features_names[1+i]= name\n",
    "\n",
    "    return features_names"
   ]
  },
  {
   "cell_type": "code",
   "execution_count": 174,
   "metadata": {},
   "outputs": [],
   "source": [
    "targets_dico = pickle.load(open('crops/labels_ndvi_dico.obj', 'rb'))\n",
    "y = list(targets_dico.values())"
   ]
  },
  {
   "cell_type": "markdown",
   "metadata": {},
   "source": [
    "### Un-filtered data"
   ]
  },
  {
   "cell_type": "code",
   "execution_count": 175,
   "metadata": {},
   "outputs": [],
   "source": [
    "X = pickle.load(open('crops/bags_ndvi.obj','rb'))"
   ]
  },
  {
   "cell_type": "markdown",
   "metadata": {},
   "source": [
    "### Filtered data"
   ]
  },
  {
   "cell_type": "code",
   "execution_count": 176,
   "metadata": {},
   "outputs": [],
   "source": [
    "X_filter, target_dico_filter = filter_ndvi_data(X,targets_dico)\n",
    "y_filter = list(target_dico_filter.values())"
   ]
  },
  {
   "cell_type": "code",
   "execution_count": 177,
   "metadata": {},
   "outputs": [
    {
     "name": "stderr",
     "output_type": "stream",
     "text": [
      "100%|██████████| 168/168 [00:00<00:00, 792.69it/s]\n"
     ]
    }
   ],
   "source": [
    "ll = None\n",
    "at = False\n",
    "depth1 = 2\n",
    "depth2 = 2\n",
    "\n",
    "X_sigEsig = []\n",
    "    \n",
    "# take sigEsig feature map\n",
    "for bag in tqdm(X_filter):\n",
    "    intermediate = []\n",
    "    for path in bag:\n",
    "        if ll is not None:\n",
    "            path = LeadLag(ll).fit_transform([path])[0]\n",
    "        if at:\n",
    "            path = AddTime().fit_transform([path])[0]\n",
    "        sig_path = iisignature.sig(path, depth1, 2) \n",
    "        intermediate.append(sig_path)\n",
    "\n",
    "    try:\n",
    "        intermediate = iisignature.sig(intermediate, depth2)\n",
    "    except:\n",
    "        intermediate_intermediate = []\n",
    "        for p in intermediate:\n",
    "            try:\n",
    "                intermediate_intermediate.append(iisignature.sig(p, depth2))\n",
    "            except:\n",
    "                pass\n",
    "        intermediate = np.array(intermediate_intermediate)\n",
    "\n",
    "    X_sigEsig.append(intermediate.mean(0))\n",
    "X_sigEsig = np.array(X_sigEsig)"
   ]
  },
  {
   "cell_type": "code",
   "execution_count": 178,
   "metadata": {},
   "outputs": [],
   "source": [
    "clf = LassoCV(cv=20, normalize=True).fit(X_sigEsig, y_filter)\n",
    "importance = np.abs(clf.coef_)"
   ]
  },
  {
   "cell_type": "code",
   "execution_count": 179,
   "metadata": {},
   "outputs": [],
   "source": [
    "# clf.mse_path_"
   ]
  },
  {
   "cell_type": "code",
   "execution_count": 180,
   "metadata": {},
   "outputs": [],
   "source": [
    "dico = {1:'niRed',2:'Red'}#,3:'niRedLag',4:'RedLag'}\n",
    "dico = get_sig_keys(get_sig_keys(dico,2),2)\n",
    "interpretability = {sig_term:val for sig_term,val in zip(dico.values(),importance)}"
   ]
  },
  {
   "cell_type": "code",
   "execution_count": 186,
   "metadata": {
    "scrolled": false
   },
   "outputs": [],
   "source": [
    "df = pd.DataFrame.from_dict(interpretability, orient='index').sort_values(0, ascending=True).iloc[24:,:]\n",
    "df.columns = ['feature importance']"
   ]
  },
  {
   "cell_type": "code",
   "execution_count": 198,
   "metadata": {},
   "outputs": [
    {
     "data": {
      "image/png": "[encoded data removed]",
      "text/plain": [
       "<matplotlib.figure.Figure at 0x7efed02f50f0>"
      ]
     },
     "metadata": {},
     "output_type": "display_data"
    }
   ],
   "source": [
    "fig, ax = plt.subplots()\n",
    "df.plot(kind='barh', color='blue', ax=ax, grid=True)\n",
    "ax.legend(loc='lower right')\n",
    "# ax.set_xlabel('amplitude')\n",
    "plt.xticks([])\n",
    "plt.savefig('pictures/feature_importance.png')\n",
    "plt.show()"
   ]
  },
  {
   "cell_type": "markdown",
   "metadata": {},
   "source": [
    "# Climatic dataset (3 years)"
   ]
  },
  {
   "cell_type": "code",
   "execution_count": 14,
   "metadata": {},
   "outputs": [],
   "source": [
    "# targets_dico = pickle.load(open('crops/clim_labels.obj', 'rb'))\n",
    "# y = list(targets_dico.values())"
   ]
  },
  {
   "cell_type": "markdown",
   "metadata": {},
   "source": [
    "### 3-hourly "
   ]
  },
  {
   "cell_type": "code",
   "execution_count": 15,
   "metadata": {},
   "outputs": [],
   "source": [
    "# input1 = pickle.load(open('crops/clim_bags_1.obj', 'rb'))\n",
    "# input2 = pickle.load(open('crops/clim_bags_2.obj', 'rb'))\n",
    "# X = input1 + input2"
   ]
  },
  {
   "cell_type": "markdown",
   "metadata": {},
   "source": [
    "###  daily averages"
   ]
  },
  {
   "cell_type": "code",
   "execution_count": 16,
   "metadata": {},
   "outputs": [],
   "source": [
    "# X = pickle.load(open('crops/clim_summary_bags.obj', 'rb'))"
   ]
  },
  {
   "cell_type": "markdown",
   "metadata": {},
   "source": [
    "**Cross validation type**"
   ]
  },
  {
   "cell_type": "code",
   "execution_count": 82,
   "metadata": {},
   "outputs": [],
   "source": [
    "cv = temporal_CV(targets_dico)\n",
    "#cv = spatial_CV(targets_dico)"
   ]
  },
  {
   "cell_type": "code",
   "execution_count": 83,
   "metadata": {},
   "outputs": [
    {
     "data": {
      "text/plain": [
       "<module 'functionalities' from '/home/salvi/notebooks_new/functionalities.py'>"
      ]
     },
     "execution_count": 83,
     "metadata": {},
     "output_type": "execute_result"
    }
   ],
   "source": [
    "reload(functionalities)"
   ]
  },
  {
   "cell_type": "markdown",
   "metadata": {},
   "source": [
    "**Fit the models**"
   ]
  },
  {
   "cell_type": "code",
   "execution_count": 88,
   "metadata": {},
   "outputs": [
    {
     "name": "stdout",
     "output_type": "stream",
     "text": [
      "Fitting 10 folds for each of 448 candidates, totalling 4480 fits\n"
     ]
    },
    {
     "name": "stderr",
     "output_type": "stream",
     "text": [
      "[Parallel(n_jobs=-1)]: Done  88 tasks      | elapsed:  3.1min\n",
      "[Parallel(n_jobs=-1)]: Done 338 tasks      | elapsed: 11.4min\n",
      "[Parallel(n_jobs=-1)]: Done 688 tasks      | elapsed: 23.0min\n",
      "[Parallel(n_jobs=-1)]: Done 1138 tasks      | elapsed: 37.7min\n",
      "[Parallel(n_jobs=-1)]: Done 1688 tasks      | elapsed: 56.0min\n",
      "[Parallel(n_jobs=-1)]: Done 2338 tasks      | elapsed: 77.4min\n",
      "[Parallel(n_jobs=-1)]: Done 3088 tasks      | elapsed: 101.2min\n",
      "[Parallel(n_jobs=-1)]: Done 3938 tasks      | elapsed: 127.6min\n",
      "[Parallel(n_jobs=-1)]: Done 4480 out of 4480 | elapsed: 144.3min finished\n"
     ]
    },
    {
     "data": {
      "text/plain": [
       "(0.609934121331111, 0.27306559838441796)"
      ]
     },
     "execution_count": 88,
     "metadata": {},
     "output_type": "execute_result"
    }
   ],
   "source": [
    "functionalities.RBF_RBF_SVM(X=X, y=y, ll=None, at=False, ss=False, cv=10)"
   ]
  },
  {
   "cell_type": "code",
   "execution_count": 84,
   "metadata": {},
   "outputs": [
    {
     "name": "stderr",
     "output_type": "stream",
     "text": [
      "100%|██████████| 66/66 [00:16<00:00,  4.32it/s]"
     ]
    },
    {
     "name": "stdout",
     "output_type": "stream",
     "text": [
      "Fitting 10 folds for each of 180 candidates, totalling 1800 fits\n"
     ]
    },
    {
     "name": "stderr",
     "output_type": "stream",
     "text": [
      "\n",
      "[Parallel(n_jobs=-1)]: Done 688 tasks      | elapsed:    0.9s\n",
      "[Parallel(n_jobs=-1)]: Done 1800 out of 1800 | elapsed:    1.9s finished\n"
     ]
    },
    {
     "data": {
      "text/plain": [
       "(0.3639715760290566, 0.12410949143248554)"
      ]
     },
     "execution_count": 84,
     "metadata": {},
     "output_type": "execute_result"
    }
   ],
   "source": [
    "functionalities.ESig_SVM(2, X, y, ll=[0,1], at=True, ss=True, cv=10)"
   ]
  },
  {
   "cell_type": "code",
   "execution_count": 85,
   "metadata": {},
   "outputs": [
    {
     "name": "stderr",
     "output_type": "stream",
     "text": [
      "100%|██████████| 66/66 [00:26<00:00,  2.91it/s]"
     ]
    },
    {
     "name": "stdout",
     "output_type": "stream",
     "text": [
      "Fitting 10 folds for each of 180 candidates, totalling 1800 fits\n"
     ]
    },
    {
     "name": "stderr",
     "output_type": "stream",
     "text": [
      "\n",
      "[Parallel(n_jobs=-1)]: Done  10 tasks      | elapsed:    0.2s\n",
      "[Parallel(n_jobs=-1)]: Done 1800 out of 1800 | elapsed:    2.0s finished\n"
     ]
    },
    {
     "data": {
      "text/plain": [
       "(0.4810583077930605, 0.19209177657096965)"
      ]
     },
     "execution_count": 85,
     "metadata": {},
     "output_type": "execute_result"
    }
   ],
   "source": [
    "functionalities.ESig_SVM(3, X, y, ll=[0,1], at=True, ss=True, cv=10)"
   ]
  },
  {
   "cell_type": "code",
   "execution_count": 86,
   "metadata": {},
   "outputs": [
    {
     "name": "stderr",
     "output_type": "stream",
     "text": [
      "100%|██████████| 66/66 [01:26<00:00,  1.07s/it]"
     ]
    },
    {
     "name": "stdout",
     "output_type": "stream",
     "text": [
      "Fitting 10 folds for each of 180 candidates, totalling 1800 fits\n"
     ]
    },
    {
     "name": "stderr",
     "output_type": "stream",
     "text": [
      "\n",
      "[Parallel(n_jobs=-1)]: Done 640 tasks      | elapsed:    1.4s\n",
      "[Parallel(n_jobs=-1)]: Done 1800 out of 1800 | elapsed:    2.5s finished\n"
     ]
    },
    {
     "data": {
      "text/plain": [
       "(0.5654169758125865, 0.2680345798639412)"
      ]
     },
     "execution_count": 86,
     "metadata": {},
     "output_type": "execute_result"
    }
   ],
   "source": [
    "functionalities.ESig_SVM(4, X, y, ll=[0,1], at=True, ss=True, cv=10)"
   ]
  },
  {
   "cell_type": "code",
   "execution_count": 87,
   "metadata": {},
   "outputs": [
    {
     "name": "stderr",
     "output_type": "stream",
     "text": [
      "100%|██████████| 66/66 [01:13<00:00,  1.11it/s]"
     ]
    },
    {
     "name": "stdout",
     "output_type": "stream",
     "text": [
      "Fitting 10 folds for each of 32 candidates, totalling 320 fits\n"
     ]
    },
    {
     "name": "stderr",
     "output_type": "stream",
     "text": [
      "\n",
      "[Parallel(n_jobs=-1)]: Done  88 tasks      | elapsed:    2.1s\n",
      "[Parallel(n_jobs=-1)]: Done 320 out of 320 | elapsed:    5.1s finished\n"
     ]
    },
    {
     "data": {
      "text/plain": [
       "(0.4573613349240956, 0.2301600418424237)"
      ]
     },
     "execution_count": 87,
     "metadata": {},
     "output_type": "execute_result"
    }
   ],
   "source": [
    "functionalities.SigESig_LinReg(2, 2, X, y, ll=[0,1], at=True, ss=False, cv=10)"
   ]
  },
  {
   "cell_type": "code",
   "execution_count": null,
   "metadata": {},
   "outputs": [],
   "source": []
  }
 ],
 "metadata": {
  "kernelspec": {
   "display_name": "Python 3",
   "language": "python",
   "name": "python3"
  },
  "language_info": {
   "codemirror_mode": {
    "name": "ipython",
    "version": 3
   },
   "file_extension": ".py",
   "mimetype": "text/x-python",
   "name": "python",
   "nbconvert_exporter": "python",
   "pygments_lexer": "ipython3",
   "version": "3.6.9"
  },
  "latex_envs": {
   "LaTeX_envs_menu_present": true,
   "autoclose": false,
   "autocomplete": true,
   "bibliofile": "biblio.bib",
   "cite_by": "apalike",
   "current_citInitial": 1,
   "eqLabelWithNumbers": true,
   "eqNumInitial": 1,
   "hotkeys": {
    "equation": "Ctrl-E",
    "itemize": "Ctrl-I"
   },
   "labels_anchors": false,
   "latex_user_defs": false,
   "report_style_numbering": false,
   "user_envs_cfg": false
  },
  "toc": {
   "nav_menu": {},
   "number_sections": true,
   "sideBar": true,
   "skip_h1_title": false,
   "title_cell": "Table of Contents",
   "title_sidebar": "Contents",
   "toc_cell": true,
   "toc_position": {},
   "toc_section_display": true,
   "toc_window_display": true
  }
 },
 "nbformat": 4,
 "nbformat_minor": 2
}
