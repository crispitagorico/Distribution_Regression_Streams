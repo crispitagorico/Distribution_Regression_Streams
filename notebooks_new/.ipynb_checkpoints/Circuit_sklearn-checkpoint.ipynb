{
 "cells": [
  {
   "cell_type": "markdown",
   "metadata": {
    "toc": true
   },
   "source": [
    "<h1>Table of Contents<span class=\"tocSkip\"></span></h1>\n",
    "<div class=\"toc\"><ul class=\"toc-item\"></ul></div>"
   ]
  },
  {
   "cell_type": "code",
   "execution_count": 1,
   "metadata": {},
   "outputs": [],
   "source": [
    "import numpy as np\n",
    "import circuit\n",
    "from importlib import reload\n",
    "import functionalities\n",
    "import pandas as pd\n",
    "import seaborn as sns\n",
    "import matplotlib.pyplot as plt"
   ]
  },
  {
   "cell_type": "markdown",
   "metadata": {},
   "source": [
    "**Fixed parameters for the experiment**"
   ]
  },
  {
   "cell_type": "code",
   "execution_count": 2,
   "metadata": {},
   "outputs": [],
   "source": [
    "N_bags=50\n",
    "N_items=15\n",
    "nb_periods=20\n",
    "spec_param={'C':[1.,1.],'phi':[np.pi/8,np.pi/2],'em':[1,1],'omega':[5,5]}"
   ]
  },
  {
   "cell_type": "markdown",
   "metadata": {},
   "source": [
    "**What we will vary during the experiment**"
   ]
  },
  {
   "cell_type": "code",
   "execution_count": 77,
   "metadata": {},
   "outputs": [],
   "source": [
    "subsample = np.arange(1, 20)[::-1]\n",
    "# subsample = [25,24,23,22,21,2018,15,10,5,2,1]"
   ]
  },
  {
   "cell_type": "markdown",
   "metadata": {},
   "source": [
    "**To store the results**"
   ]
  },
  {
   "cell_type": "code",
   "execution_count": 78,
   "metadata": {},
   "outputs": [],
   "source": [
    "df_RBF_m = pd.DataFrame(index=['mean_RBF_rmse'], columns=subsample)\n",
    "df_RBF_std = pd.DataFrame(index=['std_RBF_rmse'], columns=subsample)\n",
    "df_RBF_Sig_m = pd.DataFrame(index=['mean_Sig_rmse'], columns=subsample)\n",
    "df_RBF_Sig_std = pd.DataFrame(index=['std_Sig_rmse'], columns=subsample)\n",
    "df_Pathwise_Sig_m = pd.DataFrame(index=['mean_pathwise_Sig_rmse'], columns=subsample)\n",
    "df_Pathwise_Sig_std = pd.DataFrame(index=['std_pathwise_Sig_rmse'], columns=subsample)"
   ]
  },
  {
   "cell_type": "markdown",
   "metadata": {},
   "source": [
    "**Run the experiment**"
   ]
  },
  {
   "cell_type": "code",
   "execution_count": null,
   "metadata": {},
   "outputs": [
    {
     "name": "stderr",
     "output_type": "stream",
     "text": [
      "\r",
      "  0%|          | 0/50 [00:00<?, ?it/s]"
     ]
    },
    {
     "name": "stdout",
     "output_type": "stream",
     "text": [
      "0\n"
     ]
    },
    {
     "name": "stderr",
     "output_type": "stream",
     "text": [
      " 60%|██████    | 30/50 [00:02<00:01, 12.71it/s]"
     ]
    }
   ],
   "source": [
    "reload(circuit)\n",
    "reload(functionalities)\n",
    "\n",
    "for j,param in enumerate(subsample):\n",
    "    \n",
    "    print(j)\n",
    "        \n",
    "    ''' GENERATE DATA '''\n",
    "    t_span = np.linspace(0, nb_periods * 2 * np.pi / spec_param['omega'][0], nb_periods * 25)\n",
    "    # this is what changes\n",
    "    nb_obs = nb_periods * param\n",
    "    # generate data\n",
    "    example = circuit.Circuit(N_bags=N_bags, N_items=N_items, spec_param=spec_param,t_span=t_span,nb_obs=nb_obs)\n",
    "    example.generate_data()\n",
    "    example.get_phi()\n",
    "    \n",
    "    X = example.paths\n",
    "    y = example.labels[:,0]\n",
    "    \n",
    "#     mean,std = functionalities.RBF_RBF_SVM(X=X, y=y)\n",
    "#     df_RBF_m.iloc[0,j] = mean\n",
    "#     df_RBF_std.iloc[0,j] = std\n",
    "    \n",
    "    mean,std  = functionalities.SigESig_LinReg(depth1 = 5,depth2 = 2,X = X, y = y, ll=False, at=False, ss=False)\n",
    "    df_Pathwise_Sig_m.iloc[0,j] = mean\n",
    "    df_Pathwise_Sig_std.iloc[0,j] = std   \n",
    "    \n",
    "    mean,std  = functionalities.ESig_SVM(depth = 5 ,X = X, y = y, ll=False, at=False, ss=True)\n",
    "\n",
    "    df_RBF_Sig_m.iloc[0,j] = mean\n",
    "    df_RBF_Sig_std.iloc[0,j] = std"
   ]
  },
  {
   "cell_type": "code",
   "execution_count": null,
   "metadata": {},
   "outputs": [],
   "source": [
    "m = pd.concat([df_RBF_m,df_Pathwise_Sig_m,df_RBF_Sig_m],join=\"inner\")\n",
    "stdv = pd.concat([df_RBF_std,df_Pathwise_Sig_std,df_RBF_Sig_std],join=\"inner\")"
   ]
  },
  {
   "cell_type": "code",
   "execution_count": null,
   "metadata": {},
   "outputs": [],
   "source": [
    "sns.set_context(\"notebook\", font_scale=1.5, rc={\"lines.linewidth\": 1.5})\n",
    "fig,ax = plt.subplots(1,figsize=(10,7))\n",
    "\n",
    "labels = ['RBF-RBF', 'Sig-Sig','RBF-Sig']\n",
    "colors = ['red','limegreen','dodgerblue']\n",
    "\n",
    "for i in [0,1,2]:\n",
    "\n",
    "    ax.plot([100-100*e/25 for e in subsample],m.iloc[i].ewm(alpha=0.1).mean().values.astype(float),color=colors[i],\n",
    "            label=labels[i],marker='o',fillstyle='none',lw=2.)\n",
    "    fact=1\n",
    "    \n",
    "    params = np.array([100-100*e/25 for e in subsample])\n",
    "    plus = m.iloc[i].ewm(alpha=0.1).mean().values.astype(float)  + fact*stdv.iloc[i].ewm(alpha=0.1).mean().values.astype(float)\n",
    "    minus = m.iloc[i].ewm(alpha=0.1).mean().values.astype(float) - fact*stdv.iloc[i].ewm(alpha=0.1).mean().values.astype(float).astype(float)\n",
    "\n",
    "    ax.fill_between(params, minus,plus,alpha=0.2,color=colors[i])\n",
    "\n",
    "\n",
    "ax.legend()\n",
    "ax.set_ylabel(r'Predictive RMSE',labelpad=10)\n",
    "#ax.yaxis.set_ticks(np.arange(0.05, 0.50, 0.05))\n",
    "ax.set_xlabel(r'Subsampling rate (%)',labelpad=10)\n",
    "ax.grid(alpha=0.5, linestyle='dashed', linewidth=0.5)\n",
    "#plt.savefig(\"comparison_subsampling_phase.pdf\", bbox_inches='tight', format='pdf', dpi=1000)\n",
    "plt.show()"
   ]
  },
  {
   "cell_type": "code",
   "execution_count": null,
   "metadata": {},
   "outputs": [],
   "source": []
  }
 ],
 "metadata": {
  "kernelspec": {
   "display_name": "Python 3",
   "language": "python",
   "name": "python3"
  },
  "language_info": {
   "codemirror_mode": {
    "name": "ipython",
    "version": 3
   },
   "file_extension": ".py",
   "mimetype": "text/x-python",
   "name": "python",
   "nbconvert_exporter": "python",
   "pygments_lexer": "ipython3",
   "version": "3.6.9"
  },
  "latex_envs": {
   "LaTeX_envs_menu_present": true,
   "autoclose": false,
   "autocomplete": true,
   "bibliofile": "biblio.bib",
   "cite_by": "apalike",
   "current_citInitial": 1,
   "eqLabelWithNumbers": true,
   "eqNumInitial": 1,
   "hotkeys": {
    "equation": "Ctrl-E",
    "itemize": "Ctrl-I"
   },
   "labels_anchors": false,
   "latex_user_defs": false,
   "report_style_numbering": false,
   "user_envs_cfg": false
  },
  "toc": {
   "nav_menu": {},
   "number_sections": true,
   "sideBar": true,
   "skip_h1_title": false,
   "title_cell": "Table of Contents",
   "title_sidebar": "Contents",
   "toc_cell": true,
   "toc_position": {},
   "toc_section_display": true,
   "toc_window_display": true
  }
 },
 "nbformat": 4,
 "nbformat_minor": 4
}
