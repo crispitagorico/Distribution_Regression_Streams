{
 "cells": [
  {
   "cell_type": "markdown",
   "metadata": {
    "toc": true
   },
   "source": [
    "<h1>Table of Contents<span class=\"tocSkip\"></span></h1>\n",
    "<div class=\"toc\"><ul class=\"toc-item\"></ul></div>"
   ]
  },
  {
   "cell_type": "code",
   "execution_count": 7,
   "metadata": {},
   "outputs": [],
   "source": [
    "import warnings\n",
    "warnings.filterwarnings('ignore')\n",
    "\n",
    "import pickle\n",
    "import numpy as np\n",
    "import matplotlib.pyplot as plt\n",
    "from importlib import reload\n",
    "import pandas as pd\n",
    "import seaborn as sns\n",
    "from sklearn.cluster import KMeans\n",
    "import functionalities"
   ]
  },
  {
   "cell_type": "code",
   "execution_count": 8,
   "metadata": {},
   "outputs": [],
   "source": [
    "def spatial_CV(nb_folds, targets_dico):\n",
    "\n",
    "    # create spatial train/test splits\n",
    "    dico_geom = pickle.load(open('crops/dico_geom.obj', 'rb'))\n",
    "\n",
    "    clusters = KMeans(n_clusters=nb_folds, n_jobs=-1, random_state=2)\n",
    "    clusters.fit(list(dico_geom.values()))\n",
    "\n",
    "    v_lookup = {}\n",
    "    for i in range(len(clusters.labels_)):\n",
    "        v_lookup[list(dico_geom.keys())[i]] = clusters.labels_[i]\n",
    "\n",
    "    splits = []\n",
    "    for i in range(nb_folds):\n",
    "\n",
    "        # train indices : all but cluster i\n",
    "        train_indices = []\n",
    "        # test indices : cluster i\n",
    "        test_indices = []\n",
    "\n",
    "        for k in range(len(targets_dico)):\n",
    "            # get region for the point\n",
    "            region = list(targets_dico.keys())[k][1]\n",
    "            if v_lookup[region] != i:  # gives in which cluster the region is\n",
    "                train_indices.append(k)\n",
    "            else:\n",
    "                test_indices.append(k)\n",
    "\n",
    "        splits.append((train_indices, test_indices))\n",
    "\n",
    "    return splits"
   ]
  },
  {
   "cell_type": "code",
   "execution_count": 29,
   "metadata": {},
   "outputs": [],
   "source": [
    "def temporal_CV(targets_dico): \n",
    "\n",
    "    years = [int(key[0]) for key in targets_dico.keys()]\n",
    "    years = np.sort(np.unique(np.array(years)))\n",
    "\n",
    "    splits = []\n",
    "    for i in range(len(years) - 1):\n",
    "\n",
    "        # train indices : all previous years\n",
    "        train_indices = []\n",
    "        # test indices : year to predict\n",
    "        test_indices = []\n",
    "\n",
    "        for k in range(len(targets_dico)):\n",
    "            # get region for the point\n",
    "            year = int(list(targets_dico.keys())[k][0])\n",
    "            if year < years[i + 1]:  # gives in which cluster the region is\n",
    "                train_indices.append(k)\n",
    "            else:\n",
    "                test_indices.append(k)\n",
    "\n",
    "        splits.append((train_indices, test_indices))\n",
    "\n",
    "    return splits"
   ]
  },
  {
   "cell_type": "code",
   "execution_count": null,
   "metadata": {},
   "outputs": [],
   "source": [
    "def bags_to_2D(input_):\n",
    "\n",
    "    '''\n",
    "    Can handle paths of different lengths (naive truncation to smallest lengths, but ok for real data we consider), and bags of varying cardinality\n",
    "\n",
    "       Input:\n",
    "              input_ (list): list of lists such that\n",
    "\n",
    "                        - len(X) = n_samples\n",
    "\n",
    "                        - for any i, X[i] is a list of arrays of shape (length, dim)\n",
    "\n",
    "                        - for any j, X[i][j] is an array of shape (length, dim)\n",
    "\n",
    "       Output: The input in the form of a 2d array, the maximum number of items, the common length at which paths have been truncated, the dimensionality of the paths\n",
    "\n",
    "    '''\n",
    "\n",
    "    dim_path = input_[0][0].shape[1]\n",
    "\n",
    "    # adjust time and concatenate the dimensions\n",
    "    T = [e[0].shape[0] for e in input_]\n",
    "    common_T = min(T)  # for other datasets would consider padding. Here we are just missing 10 values from time to time\n",
    "\n",
    "    unlist_items = [np.concatenate([item[None, :common_T, :] for item in bag], axis=0) for bag in input_]\n",
    "\n",
    "    # stack dimensions (we get a list of bags, where each bag is N_items x 3T)\n",
    "    dim_stacked = [np.concatenate([bag[:, :common_T, k] for k in range(dim_path)], axis=1) for bag in unlist_items]\n",
    "\n",
    "    # stack the items, we have item1(temp-hum-rain) - items2(temp-hum-rain) ...\n",
    "    items_stacked = [bag.flatten() for bag in dim_stacked]\n",
    "\n",
    "    # retrieve the maximum number of items\n",
    "    max_ = [bag.shape for bag in items_stacked]\n",
    "    max_ = np.max(max_)\n",
    "    max_items = int(max_ / (dim_path * common_T))\n",
    "\n",
    "    # pad the vectors with nan items such that we can obtain a 2d array.\n",
    "    items_naned = [np.append(bag, (max_ - len(bag)) * [np.nan]) for bag in items_stacked]  # np.nan\n",
    "\n",
    "    X = np.array(items_naned)\n",
    "\n",
    "    return X, max_items, common_T, dim_path"
   ]
  },
  {
   "cell_type": "markdown",
   "metadata": {},
   "source": [
    "**Responses**"
   ]
  },
  {
   "cell_type": "code",
   "execution_count": 18,
   "metadata": {},
   "outputs": [],
   "source": [
    "targets_dico = pickle.load(open('crops/clim_labels.obj', 'rb'))\n",
    "y = list(targets_dico.values())"
   ]
  },
  {
   "cell_type": "markdown",
   "metadata": {},
   "source": [
    "**Input: Long version corresponding to 3-hourly observations ($L\\approx1500, D=3$)**"
   ]
  },
  {
   "cell_type": "code",
   "execution_count": 80,
   "metadata": {},
   "outputs": [],
   "source": [
    "input1 = pickle.load(open('crops/clim_bags_1.obj', 'rb'))\n",
    "input2 = pickle.load(open('crops/clim_bags_2.obj', 'rb'))\n",
    "X = input1 + input2"
   ]
  },
  {
   "cell_type": "markdown",
   "metadata": {},
   "source": [
    "**Input: Short version corresponding to daily averages ($L\\approx200, D=3$)**"
   ]
  },
  {
   "cell_type": "code",
   "execution_count": 14,
   "metadata": {},
   "outputs": [],
   "source": [
    "# X = pickle.load(open('crops/clim_summary_bags.obj', 'rb'))"
   ]
  },
  {
   "cell_type": "markdown",
   "metadata": {},
   "source": [
    "**Fit the models**"
   ]
  },
  {
   "cell_type": "code",
   "execution_count": 81,
   "metadata": {},
   "outputs": [
    {
     "data": {
      "image/png": "[encoded data removed]",
      "text/plain": [
       "<matplotlib.figure.Figure at 0x7f2cc818cc88>"
      ]
     },
     "metadata": {},
     "output_type": "display_data"
    }
   ],
   "source": [
    "plt.plot(X[4][2])\n",
    "plt.show()"
   ]
  },
  {
   "cell_type": "code",
   "execution_count": 82,
   "metadata": {},
   "outputs": [],
   "source": [
    "cv = temporal_CV(targets_dico)"
   ]
  },
  {
   "cell_type": "code",
   "execution_count": 83,
   "metadata": {},
   "outputs": [
    {
     "data": {
      "text/plain": [
       "<module 'functionalities' from '/home/salvi/notebooks_new/functionalities.py'>"
      ]
     },
     "execution_count": 83,
     "metadata": {},
     "output_type": "execute_result"
    }
   ],
   "source": [
    "reload(functionalities)"
   ]
  },
  {
   "cell_type": "code",
   "execution_count": 88,
   "metadata": {},
   "outputs": [
    {
     "name": "stdout",
     "output_type": "stream",
     "text": [
      "Fitting 10 folds for each of 448 candidates, totalling 4480 fits\n"
     ]
    },
    {
     "name": "stderr",
     "output_type": "stream",
     "text": [
      "[Parallel(n_jobs=-1)]: Done  88 tasks      | elapsed:  3.1min\n",
      "[Parallel(n_jobs=-1)]: Done 338 tasks      | elapsed: 11.4min\n",
      "[Parallel(n_jobs=-1)]: Done 688 tasks      | elapsed: 23.0min\n",
      "[Parallel(n_jobs=-1)]: Done 1138 tasks      | elapsed: 37.7min\n",
      "[Parallel(n_jobs=-1)]: Done 1688 tasks      | elapsed: 56.0min\n",
      "[Parallel(n_jobs=-1)]: Done 2338 tasks      | elapsed: 77.4min\n",
      "[Parallel(n_jobs=-1)]: Done 3088 tasks      | elapsed: 101.2min\n",
      "[Parallel(n_jobs=-1)]: Done 3938 tasks      | elapsed: 127.6min\n",
      "[Parallel(n_jobs=-1)]: Done 4480 out of 4480 | elapsed: 144.3min finished\n"
     ]
    },
    {
     "data": {
      "text/plain": [
       "(0.609934121331111, 0.27306559838441796)"
      ]
     },
     "execution_count": 88,
     "metadata": {},
     "output_type": "execute_result"
    }
   ],
   "source": [
    "functionalities.RBF_RBF_SVM(X=X, y=y, ll=None, at=False, ss=False, cv=10)"
   ]
  },
  {
   "cell_type": "code",
   "execution_count": 84,
   "metadata": {},
   "outputs": [
    {
     "name": "stderr",
     "output_type": "stream",
     "text": [
      "100%|██████████| 66/66 [00:16<00:00,  4.32it/s]"
     ]
    },
    {
     "name": "stdout",
     "output_type": "stream",
     "text": [
      "Fitting 10 folds for each of 180 candidates, totalling 1800 fits\n"
     ]
    },
    {
     "name": "stderr",
     "output_type": "stream",
     "text": [
      "\n",
      "[Parallel(n_jobs=-1)]: Done 688 tasks      | elapsed:    0.9s\n",
      "[Parallel(n_jobs=-1)]: Done 1800 out of 1800 | elapsed:    1.9s finished\n"
     ]
    },
    {
     "data": {
      "text/plain": [
       "(0.3639715760290566, 0.12410949143248554)"
      ]
     },
     "execution_count": 84,
     "metadata": {},
     "output_type": "execute_result"
    }
   ],
   "source": [
    "functionalities.ESig_SVM(2, X, y, ll=[0,1], at=True, ss=True, cv=10)"
   ]
  },
  {
   "cell_type": "code",
   "execution_count": 85,
   "metadata": {},
   "outputs": [
    {
     "name": "stderr",
     "output_type": "stream",
     "text": [
      "100%|██████████| 66/66 [00:26<00:00,  2.91it/s]"
     ]
    },
    {
     "name": "stdout",
     "output_type": "stream",
     "text": [
      "Fitting 10 folds for each of 180 candidates, totalling 1800 fits\n"
     ]
    },
    {
     "name": "stderr",
     "output_type": "stream",
     "text": [
      "\n",
      "[Parallel(n_jobs=-1)]: Done  10 tasks      | elapsed:    0.2s\n",
      "[Parallel(n_jobs=-1)]: Done 1800 out of 1800 | elapsed:    2.0s finished\n"
     ]
    },
    {
     "data": {
      "text/plain": [
       "(0.4810583077930605, 0.19209177657096965)"
      ]
     },
     "execution_count": 85,
     "metadata": {},
     "output_type": "execute_result"
    }
   ],
   "source": [
    "functionalities.ESig_SVM(3, X, y, ll=[0,1], at=True, ss=True, cv=10)"
   ]
  },
  {
   "cell_type": "code",
   "execution_count": 86,
   "metadata": {},
   "outputs": [
    {
     "name": "stderr",
     "output_type": "stream",
     "text": [
      "100%|██████████| 66/66 [01:26<00:00,  1.07s/it]"
     ]
    },
    {
     "name": "stdout",
     "output_type": "stream",
     "text": [
      "Fitting 10 folds for each of 180 candidates, totalling 1800 fits\n"
     ]
    },
    {
     "name": "stderr",
     "output_type": "stream",
     "text": [
      "\n",
      "[Parallel(n_jobs=-1)]: Done 640 tasks      | elapsed:    1.4s\n",
      "[Parallel(n_jobs=-1)]: Done 1800 out of 1800 | elapsed:    2.5s finished\n"
     ]
    },
    {
     "data": {
      "text/plain": [
       "(0.5654169758125865, 0.2680345798639412)"
      ]
     },
     "execution_count": 86,
     "metadata": {},
     "output_type": "execute_result"
    }
   ],
   "source": [
    "functionalities.ESig_SVM(4, X, y, ll=[0,1], at=True, ss=True, cv=10)"
   ]
  },
  {
   "cell_type": "code",
   "execution_count": 87,
   "metadata": {},
   "outputs": [
    {
     "name": "stderr",
     "output_type": "stream",
     "text": [
      "100%|██████████| 66/66 [01:13<00:00,  1.11it/s]"
     ]
    },
    {
     "name": "stdout",
     "output_type": "stream",
     "text": [
      "Fitting 10 folds for each of 32 candidates, totalling 320 fits\n"
     ]
    },
    {
     "name": "stderr",
     "output_type": "stream",
     "text": [
      "\n",
      "[Parallel(n_jobs=-1)]: Done  88 tasks      | elapsed:    2.1s\n",
      "[Parallel(n_jobs=-1)]: Done 320 out of 320 | elapsed:    5.1s finished\n"
     ]
    },
    {
     "data": {
      "text/plain": [
       "(0.4573613349240956, 0.2301600418424237)"
      ]
     },
     "execution_count": 87,
     "metadata": {},
     "output_type": "execute_result"
    }
   ],
   "source": [
    "functionalities.SigESig_LinReg(2, 2, X, y, ll=[0,1], at=True, ss=False, cv=10)"
   ]
  },
  {
   "cell_type": "code",
   "execution_count": null,
   "metadata": {},
   "outputs": [],
   "source": []
  }
 ],
 "metadata": {
  "kernelspec": {
   "display_name": "Python 3",
   "language": "python",
   "name": "python3"
  },
  "language_info": {
   "codemirror_mode": {
    "name": "ipython",
    "version": 3
   },
   "file_extension": ".py",
   "mimetype": "text/x-python",
   "name": "python",
   "nbconvert_exporter": "python",
   "pygments_lexer": "ipython3",
   "version": "3.6.9"
  },
  "latex_envs": {
   "LaTeX_envs_menu_present": true,
   "autoclose": false,
   "autocomplete": true,
   "bibliofile": "biblio.bib",
   "cite_by": "apalike",
   "current_citInitial": 1,
   "eqLabelWithNumbers": true,
   "eqNumInitial": 1,
   "hotkeys": {
    "equation": "Ctrl-E",
    "itemize": "Ctrl-I"
   },
   "labels_anchors": false,
   "latex_user_defs": false,
   "report_style_numbering": false,
   "user_envs_cfg": false
  },
  "toc": {
   "nav_menu": {},
   "number_sections": true,
   "sideBar": true,
   "skip_h1_title": false,
   "title_cell": "Table of Contents",
   "title_sidebar": "Contents",
   "toc_cell": true,
   "toc_position": {},
   "toc_section_display": true,
   "toc_window_display": true
  }
 },
 "nbformat": 4,
 "nbformat_minor": 2
}
