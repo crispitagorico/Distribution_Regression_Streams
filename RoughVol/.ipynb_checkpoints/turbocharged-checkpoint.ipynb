{
 "cells": [
  {
   "cell_type": "markdown",
   "metadata": {
    "nbpresent": {
     "id": "b590a017-9bad-4ff8-ac89-d1d90e1ebf09"
    }
   },
   "source": [
    "Turbocharged demo\n",
    "=="
   ]
  },
  {
   "cell_type": "markdown",
   "metadata": {},
   "source": [
    "We demonstrate the rough Bergomi (rBergomi) price process introduced by [Bayer, Friz and Gatheral](https://ssrn.com/abstract=2554754), which we define here by"
   ]
  },
  {
   "cell_type": "markdown",
   "metadata": {},
   "source": [
    "$$S_t := \\exp \\left\\{ \\int_0^t \\sqrt{ V_u } \\mathrm{d}B_u - \\frac{1}{2}\\int_0^t V_u \\mathrm{d}u \\right\\},\\quad B_u:=\\rho W_u^1 + \\sqrt{1 - \\rho^2}W_u^2, $$"
   ]
  },
  {
   "cell_type": "markdown",
   "metadata": {},
   "source": [
    "$$V_t := \\xi\\ \\exp \\left\\{ \\eta Y^a_t - \\frac{\\eta^2}{2} t^{2a + 1}\\right\\}, \\quad Y_t^a := \\sqrt{2a + 1} \\int_0^t (t - u)^a  \\mathrm{d}W^1_u,$$"
   ]
  },
  {
   "cell_type": "markdown",
   "metadata": {},
   "source": [
    "for Brownian motion $(W^1, W^2)$. The *hybrid scheme* of [Bennedsen, Lunde and Pakkanen](https://arxiv.org/abs/1507.03004) is used for efficient, $\\mathcal{O}(n\\log n)$, simulation of the Volterra process, $Y_t^a$."
   ]
  },
  {
   "cell_type": "markdown",
   "metadata": {},
   "source": [
    "From $N$ samples of the price process, $\\{S^i_t\\}_{i = 1}^N$ , we show implied volatilities, $\\hat{\\sigma}^N_{BS}(k,t)$,  using estimators of the form"
   ]
  },
  {
   "cell_type": "markdown",
   "metadata": {},
   "source": [
    "$$\\hat{\\sigma}^N_{BS}(k,t)^2 t = BS^{-1}\\left(\\hat{C}_N(k,t)\\right),\\quad \\hat{C}_N(k,t) = \\frac{1}{N}\\sum_{i = 1}^N (X_i + c Y_i) - c\\mathbb{E}[Y],$$"
   ]
  },
  {
   "cell_type": "markdown",
   "metadata": {},
   "source": [
    "as described in [McCrickerd and Pakkanen](https://arxiv.org/abs/1708.02563). For simplicity, we just use call option estimators (rather than OTM option estimators) and do not use antithetic sampling here."
   ]
  },
  {
   "cell_type": "markdown",
   "metadata": {},
   "source": [
    "We thus define a Base estimator here by $$X = \\max(S_t - e^k,0),\\quad Y = 0$$ and a Mixed estimator by $$X = BS\\left((1 - \\rho^2)\\int_0^t V_u\\mathrm{d}u; S^1_t,k\\right),\\quad Y = BS\\left(\\rho^2\\left(Q - \\int_0^t V_u\\mathrm{d}u\\right); S^1_t,k\\right)$$"
   ]
  },
  {
   "cell_type": "markdown",
   "metadata": {},
   "source": [
    "where $S^1_t$ is the parallel component of the price process, defined by $$S^1_t := \\exp \\left\\{ \\rho\\int_0^t \\sqrt{ V_u } \\mathrm{d}W^1_u - \\frac{\\rho^2}{2}\\int_0^t V_u \\mathrm{d}u \\right\\}.$$"
   ]
  },
  {
   "cell_type": "markdown",
   "metadata": {},
   "source": [
    "While most computations are hidden in the methods of the rBergomi class, we expose the Mixed estimator calculations in this notebook for transparency."
   ]
  },
  {
   "cell_type": "markdown",
   "metadata": {
    "nbpresent": {
     "id": "4523a2f1-a876-4216-a222-c3e0c4d62e9a"
    }
   },
   "source": [
    "Change directory to folder with rBergomi scripts"
   ]
  },
  {
   "cell_type": "markdown",
   "metadata": {
    "nbpresent": {
     "id": "d95b28a8-a3ad-42d8-b1de-453db5f619a8"
    }
   },
   "source": [
    "Import required libraries, classes and functions"
   ]
  },
  {
   "cell_type": "code",
   "execution_count": 2,
   "metadata": {
    "nbpresent": {
     "id": "577b9e39-b12e-4ca8-9b95-fdb814c09a91"
    },
    "scrolled": true
   },
   "outputs": [],
   "source": [
    "import numpy as np\n",
    "from matplotlib import pyplot as plt\n",
    "from rbergomi import rBergomi\n",
    "from utils import bs, bsinv\n",
    "vec_bsinv = np.vectorize(bsinv)"
   ]
  },
  {
   "cell_type": "markdown",
   "metadata": {
    "nbpresent": {
     "id": "c235967a-8303-4e62-abf1-10e5c7229c9f"
    }
   },
   "source": [
    "Create instance of the rBergomi class with $n$ steps per year, $N$ paths, maximum maturity $T$ and roughness index $a$"
   ]
  },
  {
   "cell_type": "code",
   "execution_count": 3,
   "metadata": {
    "nbpresent": {
     "id": "c6acd2d1-8354-4afc-b6ce-fe12e3358df1"
    }
   },
   "outputs": [],
   "source": [
    "rB = rBergomi(n = 312*4, N = 1000, T = 0.25, a = -0.43)"
   ]
  },
  {
   "cell_type": "markdown",
   "metadata": {
    "nbpresent": {
     "id": "104e4831-a151-403d-91de-d5190e5f4001"
    }
   },
   "source": [
    "Fix the generator's seed for replicable results"
   ]
  },
  {
   "cell_type": "code",
   "execution_count": 4,
   "metadata": {
    "nbpresent": {
     "id": "1ff02865-583a-4770-a987-c941f24cccc6"
    }
   },
   "outputs": [],
   "source": [
    "np.random.seed(0)"
   ]
  },
  {
   "cell_type": "markdown",
   "metadata": {
    "nbpresent": {
     "id": "6edc32ba-80b0-41e0-a268-bcd279fbf478"
    }
   },
   "source": [
    "Generate required Brownian increments"
   ]
  },
  {
   "cell_type": "code",
   "execution_count": 5,
   "metadata": {
    "nbpresent": {
     "id": "d48220f4-a06c-4182-b6ea-bfdef938934b"
    }
   },
   "outputs": [],
   "source": [
    "dW1 = rB.dW1()\n",
    "dW2 = rB.dW2()"
   ]
  },
  {
   "cell_type": "code",
   "execution_count": 7,
   "metadata": {},
   "outputs": [
    {
     "data": {
      "text/plain": [
       "(1000, 312, 2)"
      ]
     },
     "execution_count": 7,
     "metadata": {},
     "output_type": "execute_result"
    }
   ],
   "source": [
    "dW1.shape"
   ]
  },
  {
   "cell_type": "code",
   "execution_count": 8,
   "metadata": {},
   "outputs": [
    {
     "data": {
      "text/plain": [
       "(1000, 312)"
      ]
     },
     "execution_count": 8,
     "metadata": {},
     "output_type": "execute_result"
    }
   ],
   "source": [
    "dW2.shape"
   ]
  },
  {
   "cell_type": "markdown",
   "metadata": {
    "nbpresent": {
     "id": "fda3303d-3c49-4b89-b4f4-049d78ded1f1"
    }
   },
   "source": [
    "Construct the Volterra process, $$Y_t^a := \\sqrt{2a + 1} \\int_0^t (t - u)^a  \\mathrm{d}W^1_u$$"
   ]
  },
  {
   "cell_type": "code",
   "execution_count": 6,
   "metadata": {
    "collapsed": true,
    "nbpresent": {
     "id": "5e7430b0-873d-4756-ab2c-f4069dc668b3"
    }
   },
   "outputs": [],
   "source": [
    "Ya = rB.Y(dW1)"
   ]
  },
  {
   "cell_type": "markdown",
   "metadata": {},
   "source": [
    "Correlate the orthogonal increments, using $\\rho$, $$B_u:=\\rho W_u^1 + \\sqrt{1 - \\rho^2}W_u^2$$"
   ]
  },
  {
   "cell_type": "code",
   "execution_count": 7,
   "metadata": {
    "collapsed": true,
    "nbpresent": {
     "id": "f95288a5-2adb-483f-8488-c6ebd08f1027"
    }
   },
   "outputs": [],
   "source": [
    "dB = rB.dB(dW1, dW2, rho = -0.9)"
   ]
  },
  {
   "cell_type": "markdown",
   "metadata": {
    "nbpresent": {
     "id": "b39ab489-9218-4ba6-a971-74813f713283"
    }
   },
   "source": [
    "Construct the variance process, using $\\xi$ and $\\eta$, $$V_t := \\xi\\ \\exp \\left\\{ \\eta Y^a_t - \\frac{\\eta^2}{2} t^{2a + 1}\\right\\}$$"
   ]
  },
  {
   "cell_type": "code",
   "execution_count": 8,
   "metadata": {
    "collapsed": true,
    "nbpresent": {
     "id": "207584be-40fb-4957-833c-0e11ab89433d"
    }
   },
   "outputs": [],
   "source": [
    "V = rB.V(Ya, xi = 0.235**2, eta = 1.9) "
   ]
  },
  {
   "cell_type": "markdown",
   "metadata": {
    "nbpresent": {
     "id": "83d17e74-5d6a-4f1a-a58d-349d082fb1df"
    }
   },
   "source": [
    "Finally construct the price processes, $$S_t := \\exp \\left\\{ \\int_0^t \\sqrt{ V_u } \\mathrm{d}B_u - \\frac{1}{2}\\int_0^t V_u \\mathrm{d}u \\right\\},\\quad S^1_t := \\exp \\left\\{ \\rho\\int_0^t \\sqrt{ V_u } \\mathrm{d}W^1_u - \\frac{\\rho^2}{2}\\int_0^t V_u \\mathrm{d}u \\right\\}$$"
   ]
  },
  {
   "cell_type": "code",
   "execution_count": 9,
   "metadata": {
    "collapsed": true,
    "nbpresent": {
     "id": "698f4b14-0398-46bb-88aa-c822fcff2ad1"
    }
   },
   "outputs": [],
   "source": [
    "S = rB.S(V, dB)\n",
    "S1 = rB.S1(V, dW1, rho = -0.9)"
   ]
  },
  {
   "cell_type": "markdown",
   "metadata": {},
   "source": [
    "Now set log-strikes, $k$"
   ]
  },
  {
   "cell_type": "code",
   "execution_count": 10,
   "metadata": {},
   "outputs": [],
   "source": [
    "k = np.array([-0.1787,0.0000,0.1041])\n",
    "K = np.exp(k)[np.newaxis,:]"
   ]
  },
  {
   "cell_type": "markdown",
   "metadata": {},
   "source": [
    "and known implied volatilities for this model specification"
   ]
  },
  {
   "cell_type": "code",
   "execution_count": 11,
   "metadata": {
    "collapsed": true
   },
   "outputs": [],
   "source": [
    "implied_vols = np.array([0.2961,0.2061,0.1576])[:,np.newaxis]"
   ]
  },
  {
   "cell_type": "markdown",
   "metadata": {},
   "source": [
    "Compute Base call payoffs, prices, and estimated volatilities,"
   ]
  },
  {
   "cell_type": "code",
   "execution_count": 12,
   "metadata": {},
   "outputs": [],
   "source": [
    "ST = S[:,-1][:,np.newaxis]\n",
    "base_payoffs = np.maximum(ST - K,0)\n",
    "base_prices = np.mean(base_payoffs, axis = 0)[:,np.newaxis]\n",
    "base_vols = vec_bsinv(base_prices, 1., np.transpose(K), rB.T)"
   ]
  },
  {
   "cell_type": "markdown",
   "metadata": {},
   "source": [
    "Do the same for the Mixed estimator, including the quadratic variation, $\\mathrm{QV} = \\int_0^t V_u \\mathrm{d}u$, and variation budget, $\\mathrm{Q}$"
   ]
  },
  {
   "cell_type": "code",
   "execution_count": 13,
   "metadata": {},
   "outputs": [],
   "source": [
    "QV = np.sum(V, axis = 1)[:,np.newaxis] * rB.dt\n",
    "Q = np.max(QV) + 1e-9 "
   ]
  },
  {
   "cell_type": "markdown",
   "metadata": {},
   "source": [
    "$$X = BS\\left((1 - \\rho^2)\\int_0^t V_u\\mathrm{d}u; S^1_t,k\\right),\\quad Y = BS\\left(\\rho^2\\left(Q - \\int_0^t V_u\\mathrm{d}u\\right); S^1_t,k\\right)$$"
   ]
  },
  {
   "cell_type": "code",
   "execution_count": 14,
   "metadata": {},
   "outputs": [],
   "source": [
    "S1T = S1[:,-1][:,np.newaxis]\n",
    "X = bs(S1T, K, (1 - rB.rho**2) * QV)\n",
    "Y = bs(S1T, K, rB.rho**2 * (Q - QV))\n",
    "eY = bs(1., K, rB.rho**2 * Q)\n",
    "\n",
    "# Asymptotically optimal weights\n",
    "c = np.zeros_like(k)[np.newaxis,:]\n",
    "for i in range(len(k)):\n",
    "    cov_mat = np.cov(X[:,i], Y[:,i])\n",
    "    c[0,i] = - cov_mat[0,1] / cov_mat[1,1]\n",
    "\n",
    "# Payoffs, prices and volatilities\n",
    "mixed_payoffs = X + c * (Y - eY)\n",
    "mixed_prices = np.mean(mixed_payoffs, axis = 0)[:,np.newaxis]\n",
    "mixed_vols = vec_bsinv(mixed_prices, 1., np.transpose(K), rB.T)"
   ]
  },
  {
   "cell_type": "markdown",
   "metadata": {},
   "source": [
    "Now plot implied volatilities against Base and Mixed estimators"
   ]
  },
  {
   "cell_type": "code",
   "execution_count": 15,
   "metadata": {},
   "outputs": [
    {
     "data": {
      "image/png": "[encoded data removed]",
      "text/plain": [
       "<matplotlib.figure.Figure at 0x10c5ec588>"
      ]
     },
     "metadata": {},
     "output_type": "display_data"
    }
   ],
   "source": [
    "plot,axes = plt.subplots()\n",
    "# Add Implied, Base and Mixed vols\n",
    "axes.plot(k, implied_vols, 'bo', fillstyle = 'none', ms = 10, mew = 2)\n",
    "axes.plot(k, base_vols, 'gx', ms = 7, mew = 2)\n",
    "axes.plot(k, mixed_vols, 'rx', ms = 7, mew = 2)\n",
    "# Label figure\n",
    "axes.set_xlabel(r'$k$',fontsize=16)\n",
    "axes.set_ylabel(r'$\\sigma_{BS}(k,t=%.2f)$'%rB.T,fontsize=16)\n",
    "title1 = r'$\\mathrm{Base\\ vs\\ Mixed\\ estimators}$'\n",
    "title2 = r'$\\xi=%.3f,\\ \\eta=%.2f,\\ \\rho=%.2f,\\ \\alpha=%.2f $'\n",
    "axes.set_title(title1+'\\n'+title2%(rB.xi,rB.eta,rB.rho,rB.a), fontsize=16)\n",
    "axes.legend([r'$\\mathrm{Implied}$',r'$\\mathrm{Base}$',r'$\\mathrm{Mixed}$'], fontsize=14)\n",
    "# Set scale to match paper\n",
    "set_scale = True\n",
    "if set_scale:\n",
    "    xmin,xmax = -0.25,0.15\n",
    "    ymin,ymax =  0.14,0.34\n",
    "    nticks = 5\n",
    "    plt.xlim([xmin,xmax])\n",
    "    plt.ylim([ymin,ymax])\n",
    "    axes.xaxis.set_ticks(np.linspace(xmin,xmax,nticks))\n",
    "    axes.yaxis.set_ticks(np.linspace(ymin,ymax,nticks))\n",
    "plt.grid(True)"
   ]
  },
  {
   "cell_type": "markdown",
   "metadata": {},
   "source": [
    "Please do not attempt to draw conclusions regarding the relative performance of the Base and Mixed estimators from just one (or several) simulation(s) / seed(s) !"
   ]
  }
 ],
 "metadata": {
  "anaconda-cloud": {},
  "kernelspec": {
   "display_name": "Python 3",
   "language": "python",
   "name": "python3"
  },
  "language_info": {
   "codemirror_mode": {
    "name": "ipython",
    "version": 3
   },
   "file_extension": ".py",
   "mimetype": "text/x-python",
   "name": "python",
   "nbconvert_exporter": "python",
   "pygments_lexer": "ipython3",
   "version": "3.6.5"
  }
 },
 "nbformat": 4,
 "nbformat_minor": 1
}
