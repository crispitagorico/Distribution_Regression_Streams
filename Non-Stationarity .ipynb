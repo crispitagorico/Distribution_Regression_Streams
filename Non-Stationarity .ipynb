{
 "cells": [
  {
   "cell_type": "markdown",
   "metadata": {
    "toc": true
   },
   "source": [
    "<h1>Table of Contents<span class=\"tocSkip\"></span></h1>\n",
    "<div class=\"toc\"><ul class=\"toc-item\"></ul></div>"
   ]
  },
  {
   "cell_type": "markdown",
   "metadata": {},
   "source": [
    "**Background**\n",
    "\n",
    "The RBF kernel is stationary (translation invariant) and isotropic\n",
    "\\begin{align*}\n",
    "k(\\mathbf{x},\\mathbf{y})=\\exp{\\Bigl(-\\frac{1}{2\\sigma^2}\\|\\mathbf{x}-\\mathbf{y}\\|^2\\Bigr)}\n",
    "\\end{align*}\n",
    "\n",
    "The RBF ARD kernel is stationary and anisotropic\n",
    "\\begin{align*}\n",
    "k(\\mathbf{x},\\mathbf{y})=\\exp{\\Bigl(-\\frac{1}{2}\\sum_{i=1}^d\\sigma_i^{-2}(\\mathbf{x}_i-\\mathbf{y}_i)^2\\Bigr)}\n",
    "\\end{align*}\n",
    "\n",
    "**Building an example for which a stationary kernel (RBF, ARD RBF) would be expected to fail**\n",
    "\n",
    "For a classical regression task from $\\mathbb{R}$ to $\\mathbb{R}$, we could sample a function from a non stationary stochastic process law. i.e. \n",
    "\\begin{align*}\n",
    "f\\sim\\mu && \\mathrm{Cov}\\{f(s),f(t)\\}=\\mathbb{E}_{\\mu_{s,t}}\\Bigl[(f(s)-\\mathbb{E}[f(s)])(f(t)-\\mathbb{E}[f(t)])\\Bigr]\\neq\\varphi(s-t)\n",
    "\\end{align*}\n",
    "And a GP-RBF regression on $\\mathcal{D}=\\{t_i,y_i\\}_{i=1}^N$ where $y_i=f(t_i)+\\epsilon_i$ would have a poor fit.\n",
    "\n",
    "\n",
    "For a distribution task from $\\mathcal{P}(\\mathcal{C}(\\mathbb{R^d}))$ to $\\mathbb{R}$ we are using a GP-Regression with kernel $$K(\\mu,\\nu)\\approx\\frac{1}{N}\\frac{1}{N'}\\sum\\sum k(\\mathbf{x}_i,\\mathbf{y}_j)=\\frac{1}{N}\\frac{1}{N'}\\sum\\sum \\exp{\\Bigl(-\\frac{1}{2\\sigma^2}\\|\\mathbf{x}_i-\\mathbf{y}_j\\|^2\\Bigr)}$$\n",
    "\n",
    "We need to generate pairs of $(\\mu_i,y_i)$ from a \"non stationary process\". This is not straightforward. "
   ]
  },
  {
   "cell_type": "code",
   "execution_count": null,
   "metadata": {},
   "outputs": [],
   "source": []
  }
 ],
 "metadata": {
  "kernelspec": {
   "display_name": "Python 3",
   "language": "python",
   "name": "python3"
  },
  "language_info": {
   "codemirror_mode": {
    "name": "ipython",
    "version": 3
   },
   "file_extension": ".py",
   "mimetype": "text/x-python",
   "name": "python",
   "nbconvert_exporter": "python",
   "pygments_lexer": "ipython3",
   "version": "3.7.4"
  },
  "latex_envs": {
   "LaTeX_envs_menu_present": true,
   "autoclose": false,
   "autocomplete": true,
   "bibliofile": "biblio.bib",
   "cite_by": "apalike",
   "current_citInitial": 1,
   "eqLabelWithNumbers": true,
   "eqNumInitial": 1,
   "hotkeys": {
    "equation": "Ctrl-E",
    "itemize": "Ctrl-I"
   },
   "labels_anchors": false,
   "latex_user_defs": false,
   "report_style_numbering": false,
   "user_envs_cfg": false
  },
  "toc": {
   "nav_menu": {},
   "number_sections": true,
   "sideBar": true,
   "skip_h1_title": false,
   "title_cell": "Table of Contents",
   "title_sidebar": "Contents",
   "toc_cell": true,
   "toc_position": {},
   "toc_section_display": true,
   "toc_window_display": true
  }
 },
 "nbformat": 4,
 "nbformat_minor": 2
}
