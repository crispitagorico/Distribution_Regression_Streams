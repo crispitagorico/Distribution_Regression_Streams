{
 "cells": [
  {
   "cell_type": "markdown",
   "metadata": {
    "toc": true
   },
   "source": [
    "<h1>Table of Contents<span class=\"tocSkip\"></span></h1>\n",
    "<div class=\"toc\"><ul class=\"toc-item\"></ul></div>"
   ]
  },
  {
   "cell_type": "code",
   "execution_count": 8,
   "metadata": {},
   "outputs": [],
   "source": [
    "import sys\n",
    "sys.path.append(\"Distribution_Regression_Streams/\")\n",
    "from importlib import reload\n",
    "import numpy as np\n",
    "import data_generators.ellipsis\n",
    "from data_generators import ellipsis\n",
    "import utils\n",
    "from utils import *\n",
    "import GP_models as GP_models\n",
    "from GP_models import GP_classic as GP_naive\n",
    "from GP_models import GP_sig_precomputed as GP_sig\n",
    "import experiments\n",
    "from experiments import * \n",
    "import signature_features\n",
    "from signature_features import *\n",
    "import experiment_script\n",
    "from experiment_script import exp1\n",
    "import data_generators.closed_form_SDEs\n",
    "from data_generators import closed_form_SDEs"
   ]
  },
  {
   "cell_type": "code",
   "execution_count": 25,
   "metadata": {},
   "outputs": [],
   "source": [
    "reload(ellipsis)\n",
    "N_bags =100\n",
    "N_items=10\n",
    "\n",
    "example = ellipsis.Ellipsis()\n",
    "example.generate_data(N_bags=N_bags, N_items=N_items)\n",
    "example.get_area()"
   ]
  },
  {
   "cell_type": "code",
   "execution_count": 27,
   "metadata": {},
   "outputs": [
    {
     "data": {
      "text/plain": [
       "array([[3.62486577],\n",
       "       [6.51169318],\n",
       "       [5.56528255],\n",
       "       [6.14957387],\n",
       "       [9.98066881]])"
      ]
     },
     "execution_count": 27,
     "metadata": {},
     "output_type": "execute_result"
    }
   ],
   "source": [
    "(np.pi*example.a*example.b)[:5]"
   ]
  },
  {
   "cell_type": "code",
   "execution_count": 28,
   "metadata": {},
   "outputs": [
    {
     "data": {
      "text/plain": [
       "array([[[1.81121638, 1.81121638, 1.81121638, 1.81121638, 1.81121638,\n",
       "         1.81121638, 1.81121638, 1.81121638, 1.81121638, 1.81121638]],\n",
       "\n",
       "       [[3.25366127, 3.25366127, 3.25366127, 3.25366127, 3.25366127,\n",
       "         3.25366127, 3.25366127, 3.25366127, 3.25366127, 3.25366127]],\n",
       "\n",
       "       [[2.78077357, 2.78077357, 2.78077357, 2.78077357, 2.78077357,\n",
       "         2.78077357, 2.78077357, 2.78077357, 2.78077357, 2.78077357]],\n",
       "\n",
       "       [[3.07272314, 3.07272314, 3.07272314, 3.07272314, 3.07272314,\n",
       "         3.07272314, 3.07272314, 3.07272314, 3.07272314, 3.07272314]],\n",
       "\n",
       "       [[4.9869849 , 4.9869849 , 4.9869849 , 4.9869849 , 4.9869849 ,\n",
       "         4.9869849 , 4.9869849 , 4.9869849 , 4.9869849 , 4.9869849 ]]])"
      ]
     },
     "execution_count": 28,
     "metadata": {},
     "output_type": "execute_result"
    }
   ],
   "source": [
    "0.5*example.labels[:5]"
   ]
  },
  {
   "cell_type": "code",
   "execution_count": 30,
   "metadata": {},
   "outputs": [
    {
     "ename": "NameError",
     "evalue": "name 'examples' is not defined",
     "output_type": "error",
     "traceback": [
      "\u001b[0;31m---------------------------------------------------------------------------\u001b[0m",
      "\u001b[0;31mNameError\u001b[0m                                 Traceback (most recent call last)",
      "\u001b[0;32m<ipython-input-30-37d3a025e780>\u001b[0m in \u001b[0;36m<module>\u001b[0;34m\u001b[0m\n\u001b[0;32m----> 1\u001b[0;31m \u001b[0mexamples\u001b[0m\u001b[0;34m.\u001b[0m\u001b[0ma\u001b[0m\u001b[0;34m.\u001b[0m\u001b[0mshape\u001b[0m\u001b[0;34m\u001b[0m\u001b[0;34m\u001b[0m\u001b[0m\n\u001b[0m",
      "\u001b[0;31mNameError\u001b[0m: name 'examples' is not defined"
     ]
    }
   ],
   "source": [
    "example.a.shape"
   ]
  },
  {
   "cell_type": "code",
   "execution_count": null,
   "metadata": {},
   "outputs": [],
   "source": []
  }
 ],
 "metadata": {
  "kernelspec": {
   "display_name": "Python 3",
   "language": "python",
   "name": "python3"
  },
  "language_info": {
   "codemirror_mode": {
    "name": "ipython",
    "version": 3
   },
   "file_extension": ".py",
   "mimetype": "text/x-python",
   "name": "python",
   "nbconvert_exporter": "python",
   "pygments_lexer": "ipython3",
   "version": "3.7.4"
  },
  "latex_envs": {
   "LaTeX_envs_menu_present": true,
   "autoclose": false,
   "autocomplete": true,
   "bibliofile": "biblio.bib",
   "cite_by": "apalike",
   "current_citInitial": 1,
   "eqLabelWithNumbers": true,
   "eqNumInitial": 1,
   "hotkeys": {
    "equation": "Ctrl-E",
    "itemize": "Ctrl-I"
   },
   "labels_anchors": false,
   "latex_user_defs": false,
   "report_style_numbering": false,
   "user_envs_cfg": false
  },
  "toc": {
   "nav_menu": {},
   "number_sections": true,
   "sideBar": true,
   "skip_h1_title": false,
   "title_cell": "Table of Contents",
   "title_sidebar": "Contents",
   "toc_cell": true,
   "toc_position": {},
   "toc_section_display": true,
   "toc_window_display": true
  }
 },
 "nbformat": 4,
 "nbformat_minor": 2
}
