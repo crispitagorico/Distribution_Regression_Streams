{
 "cells": [
  {
   "cell_type": "markdown",
   "metadata": {
    "toc": true
   },
   "source": [
    "<h1>Table of Contents<span class=\"tocSkip\"></span></h1>\n",
    "<div class=\"toc\"><ul class=\"toc-item\"></ul></div>"
   ]
  },
  {
   "cell_type": "code",
   "execution_count": 8,
   "metadata": {},
   "outputs": [],
   "source": [
    "import pandas as pd\n",
    "import matplotlib.pyplot as plt\n",
    "import seaborn as sns\n",
    "import pickle\n",
    "import iisignature\n",
    "import sys\n",
    "sys.path.append(\"../../\")\n",
    "from utils.addtime import AddTime, LeadLag\n",
    "from importlib import reload\n",
    "import utils.experiments as experiments\n",
    "from sklearn.model_selection import StratifiedKFold\n",
    "from importlib import reload\n",
    "import utils.experiments as experiments \n",
    "import GP_models.GP_sig_precomputed as GP_sig\n",
    "import utils.signature_features as signature_features\n",
    "import esig.tosig as esig\n",
    "from sklearn.preprocessing import StandardScaler\n",
    "import pandas as pd\n",
    "import numpy as np"
   ]
  },
  {
   "cell_type": "code",
   "execution_count": 9,
   "metadata": {},
   "outputs": [],
   "source": [
    "def get_sig_keys(ndims, sig_level):\n",
    "    keys = esig.sigkeys(ndims,sig_level).split(\"(\")\n",
    "    sig_keys = []\n",
    "\n",
    "    for i in range(2,len(keys)-1):\n",
    "        sig_keys.append(np.array(keys[i][:-2].split(',')))\n",
    "    sig_keys.append(np.array(keys[len(keys)-1][:-1].split(',')))\n",
    "    return sig_keys"
   ]
  },
  {
   "cell_type": "code",
   "execution_count": 10,
   "metadata": {},
   "outputs": [],
   "source": [
    "def get_e_sig(bags):\n",
    "    # signature spec\n",
    "    level_sig = 4\n",
    "    add_time_tf = AddTime()\n",
    "    lead_lag_tf = LeadLag([0])\n",
    "\n",
    "    expected_sigs = []\n",
    "\n",
    "    for bag in bags:\n",
    "        a = bag\n",
    "#         a = add_time_tf.fit_transform(a)\n",
    "#         a = np.array(a)\n",
    "        a = lead_lag_tf.fit_transform(a)\n",
    "        a = np.array(a)\n",
    "        expected_sig = np.mean(iisignature.sig(a, level_sig), axis=0)\n",
    "        expected_sigs.append(expected_sig)\n",
    "\n",
    "    return expected_sigs"
   ]
  },
  {
   "cell_type": "code",
   "execution_count": 11,
   "metadata": {},
   "outputs": [],
   "source": [
    "max_nb_items = 30\n",
    "nb_folds = 3\n",
    "\n",
    "# load the bags of time series\n",
    "input_list = pickle.load(open('/Users/maudlemercier/Desktop/Distribution_Regression_Streams/data/crops/bags.obj', 'rb'))\n",
    "y_ = pickle.load(open('/Users/maudlemercier/Desktop/Distribution_Regression_Streams/data/crops/labels.obj', 'rb'))\n",
    "\n",
    "# cap the number of items in each bag (for memory constraints of baselines methods)\n",
    "input_ = []\n",
    "for i in range(len(input_list)):\n",
    "    bag = input_list[i]\n",
    "    nb = min(max_nb_items, len(bag))\n",
    "    input_.append(bag[:nb])"
   ]
  },
  {
   "cell_type": "code",
   "execution_count": 12,
   "metadata": {},
   "outputs": [
    {
     "name": "stderr",
     "output_type": "stream",
     "text": [
      "/Users/maudlemercier/opt/anaconda3/envs/TEST/lib/python3.7/site-packages/sklearn/model_selection/_split.py:667: UserWarning: The least populated class in y has only 1 members, which is less than n_splits=3.\n",
      "  % (min_groups, self.n_splits)), UserWarning)\n"
     ]
    }
   ],
   "source": [
    "# create folds\n",
    "y = y_[:, 0]\n",
    "bins = np.linspace(-0.1 + min(y), max(y) + 0.1, 20)\n",
    "y_binned = np.digitize(y, bins)\n",
    "\n",
    "train_indices_list = []\n",
    "test_indices_list = []\n",
    "skf = StratifiedKFold(n_splits=nb_folds, shuffle=True, random_state=0)\n",
    "skf.get_n_splits(np.arange(len(y)), y_binned)\n",
    "for train_index, test_index in skf.split(np.arange(len(y)), y_binned):\n",
    "    train_indices_list.append(train_index)\n",
    "    test_indices_list.append(test_index)"
   ]
  },
  {
   "cell_type": "code",
   "execution_count": 13,
   "metadata": {},
   "outputs": [],
   "source": [
    "\n",
    "def fit_ard(train_indices_list, test_indices_list, input_, y_):\n",
    "    expected_sigs = get_e_sig(input_)\n",
    "\n",
    "    lengthscales = []\n",
    "\n",
    "    for fold in range(len(train_indices_list)):\n",
    "        \n",
    "#         train_indices = np.arange(220)\n",
    "#         test_indices = np.arange(220,242)\n",
    "        train_indices = train_indices_list[fold]\n",
    "        test_indices = test_indices_list[fold]\n",
    "\n",
    "        features = np.array(expected_sigs)[:, :]\n",
    "\n",
    "        # Scale the (expected) signature features\n",
    "        scaler = StandardScaler()\n",
    "        to_fit = [features[i] for i in train_indices]\n",
    "        scaler.fit(to_fit)\n",
    "        features = scaler.transform(features)\n",
    "\n",
    "        # Precompute the Gram matrix\n",
    "        K_precomputed = experiments.precompute_K(features)\n",
    "\n",
    "        rmse_train, r2_train, rmse_test, r2_test, l = experiments.experiment_ARD(features,y_,3,3,train_indices,test_indices,param_init=[0,50,0],RBF=True,plot=False,full=True)\n",
    "        lengthscales.append(l)\n",
    "\n",
    "    return lengthscales"
   ]
  },
  {
   "cell_type": "code",
   "execution_count": 14,
   "metadata": {},
   "outputs": [
    {
     "data": {
      "application/vnd.jupyter.widget-view+json": {
       "model_id": "66a13a0eb1e340d6b298a31812755d55",
       "version_major": 2,
       "version_minor": 0
      },
      "text/plain": [
       "HBox(children=(FloatProgress(value=0.0, max=5000.0), HTML(value='')))"
      ]
     },
     "metadata": {},
     "output_type": "display_data"
    },
    {
     "name": "stdout",
     "output_type": "stream",
     "text": [
      "\n"
     ]
    },
    {
     "data": {
      "application/vnd.jupyter.widget-view+json": {
       "model_id": "c47779622e064a9ca9e9357d352227c0",
       "version_major": 2,
       "version_minor": 0
      },
      "text/plain": [
       "HBox(children=(FloatProgress(value=0.0, max=5000.0), HTML(value='')))"
      ]
     },
     "metadata": {},
     "output_type": "display_data"
    },
    {
     "name": "stdout",
     "output_type": "stream",
     "text": [
      "\n"
     ]
    },
    {
     "data": {
      "application/vnd.jupyter.widget-view+json": {
       "model_id": "e30fb19178f84d49abe9004c5109521e",
       "version_major": 2,
       "version_minor": 0
      },
      "text/plain": [
       "HBox(children=(FloatProgress(value=0.0, max=5000.0), HTML(value='')))"
      ]
     },
     "metadata": {},
     "output_type": "display_data"
    },
    {
     "name": "stdout",
     "output_type": "stream",
     "text": [
      "\n"
     ]
    }
   ],
   "source": [
    "reload(experiments)\n",
    "lengthscales = fit_ard(train_indices_list, test_indices_list, input_, y_)"
   ]
  },
  {
   "cell_type": "code",
   "execution_count": 15,
   "metadata": {},
   "outputs": [
    {
     "name": "stdout",
     "output_type": "stream",
     "text": [
      "number of features:  120\n"
     ]
    }
   ],
   "source": [
    "\n",
    "keys = get_sig_keys(3, 4)\n",
    "\n",
    "#dico = {'1':'time','2':'nir','3':'red','4':'nir-lag'}#,'3':'red','4':'nir-lag'}\n",
    "dico = {'1':'NIR','2':'Red','3':'NIR-lag'}\n",
    "\n",
    "features_names = []\n",
    "for i in range(len(keys)):\n",
    "    separator = ','\n",
    "    name = separator.join([dico[e] for e in keys[i]])\n",
    "    features_names.append(str(i)+': '+'('+name+')')\n",
    "print('number of features: ',len(features_names))\n",
    "\n",
    "# fig, ax = plt.subplots(3,1,figsize=(20,15))\n",
    "# axs = ax.ravel()\n",
    "highest = []\n",
    "dataframes = []\n",
    "for i in range(3):\n",
    "    l = pd.DataFrame([1./e for e in lengthscales[i][:100]],columns=[str(i)])\n",
    "    l.index = features_names[:100]\n",
    "    #l.plot(kind='bar',ax=axs[i],rot=90)\n",
    "    dataframes.append(l)\n",
    "\n",
    "# plt.tight_layout()\n",
    "# plt.show()"
   ]
  },
  {
   "cell_type": "code",
   "execution_count": 16,
   "metadata": {},
   "outputs": [],
   "source": [
    "df = dataframes[0].join(dataframes[1]).join(dataframes[2])"
   ]
  },
  {
   "cell_type": "code",
   "execution_count": 17,
   "metadata": {},
   "outputs": [
    {
     "data": {
      "image/png": "[encoded data removed]",
      "text/plain": [
       "<Figure size 432x360 with 1 Axes>"
      ]
     },
     "metadata": {},
     "output_type": "display_data"
    }
   ],
   "source": [
    "def remove_number(x):\n",
    "    return x[3:]\n",
    "\n",
    "sns.set(style=\"white\")\n",
    "fig,ax = plt.subplots(1,figsize=(6,5))\n",
    "df['mean']=df.mean(axis=1)\n",
    "df_sorted = df.sort_values(['mean'])\n",
    "df_sorted.index = df_sorted.index.map(remove_number)\n",
    "bplot = df_sorted.iloc[-8:].T.boxplot(vert=False,ax=ax,color='royalblue',grid=True,patch_artist=True,return_type='dict',fontsize=14)\n",
    "colors = 8*['#B0E2FF']\n",
    "\n",
    "for patch, color in zip(bplot['boxes'], colors):\n",
    "    patch.set_facecolor(color)\n",
    "plt.xlabel('Inverse lengthscale',fontsize=16,labelpad=10)\n",
    "plt.tight_layout()\n",
    "#plt.savefig('interpretability.pdf')\n",
    "plt.show()"
   ]
  }
 ],
 "metadata": {
  "kernelspec": {
   "display_name": "Python (TEST)",
   "language": "python",
   "name": "test"
  },
  "language_info": {
   "codemirror_mode": {
    "name": "ipython",
    "version": 3
   },
   "file_extension": ".py",
   "mimetype": "text/x-python",
   "name": "python",
   "nbconvert_exporter": "python",
   "pygments_lexer": "ipython3",
   "version": "3.7.6"
  },
  "latex_envs": {
   "LaTeX_envs_menu_present": true,
   "autoclose": false,
   "autocomplete": true,
   "bibliofile": "biblio.bib",
   "cite_by": "apalike",
   "current_citInitial": 1,
   "eqLabelWithNumbers": true,
   "eqNumInitial": 1,
   "hotkeys": {
    "equation": "Ctrl-E",
    "itemize": "Ctrl-I"
   },
   "labels_anchors": false,
   "latex_user_defs": false,
   "report_style_numbering": false,
   "user_envs_cfg": false
  },
  "toc": {
   "nav_menu": {},
   "number_sections": true,
   "sideBar": true,
   "skip_h1_title": false,
   "title_cell": "Table of Contents",
   "title_sidebar": "Contents",
   "toc_cell": true,
   "toc_position": {},
   "toc_section_display": true,
   "toc_window_display": true
  }
 },
 "nbformat": 4,
 "nbformat_minor": 2
}
