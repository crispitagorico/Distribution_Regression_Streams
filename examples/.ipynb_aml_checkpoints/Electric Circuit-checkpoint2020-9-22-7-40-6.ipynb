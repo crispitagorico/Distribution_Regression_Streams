{
  "cells": [
    {
      "cell_type": "markdown",
      "source": [
        "<h1>Table of Contents<span class=\"tocSkip\"></span></h1>\n",
        "<div class=\"toc\"><ul class=\"toc-item\"></ul></div>"
      ],
      "metadata": {
        "toc": true
      }
    },
    {
      "cell_type": "code",
      "source": [
        "import sys\n",
        "sys.path.append('../src')\n",
        "\n",
        "import numpy as np\n",
        "import utils_circuit\n",
        "from importlib import reload\n",
        "import pandas as pd\n",
        "import seaborn as sns\n",
        "import matplotlib.pyplot as plt\n",
        "import pickle\n",
        "\n",
        "import DR_RBF\n",
        "import KES\n",
        "import SES\n",
        "import sklearn_transformers\n",
        "\n",
        "size = 22\n",
        "\n",
        "import matplotlib.pylab as pylab\n",
        "params = {'legend.fontsize': size,\n",
        "          'figure.figsize': (7, 5),\n",
        "          'axes.labelsize': size,\n",
        "          'axes.titlesize': size,\n",
        "          'xtick.labelsize':size,\n",
        "          'ytick.labelsize':size}\n",
        "pylab.rcParams.update(params)"
      ],
      "outputs": [],
      "execution_count": 3,
      "metadata": {}
    },
    {
      "cell_type": "markdown",
      "source": [
        "**Fixed parameters for the experiment**"
      ],
      "metadata": {}
    },
    {
      "cell_type": "code",
      "source": [
        "N_bags=50\n",
        "N_items=20\n",
        "nb_periods=20\n",
        "spec_param={'C':[1.,1.],'phi':[np.pi/8,np.pi/2],'em':[1,1],'omega':[5,5]}"
      ],
      "outputs": [],
      "execution_count": 60,
      "metadata": {}
    },
    {
      "cell_type": "markdown",
      "source": [
        "**What we will vary during the experiment**"
      ],
      "metadata": {}
    },
    {
      "cell_type": "code",
      "source": [
        "subsample = [25,24,23,21,18,15,12,9,6] "
      ],
      "outputs": [],
      "execution_count": 61,
      "metadata": {}
    },
    {
      "cell_type": "markdown",
      "source": [
        "**To store the results**"
      ],
      "metadata": {}
    },
    {
      "cell_type": "code",
      "source": [
        "df_RBF_m = pd.DataFrame(index=['mean_RBF_rmse'], columns=subsample)\n",
        "df_RBF_std = pd.DataFrame(index=['std_RBF_rmse'], columns=subsample)\n",
        "df_KES_m = pd.DataFrame(index=['mean_KES_rmse'], columns=subsample)\n",
        "df_KES_std = pd.DataFrame(index=['std_KES_rmse'], columns=subsample)\n",
        "df_SES_m = pd.DataFrame(index=['mean_SES_rmse'], columns=subsample)\n",
        "df_SES_std = pd.DataFrame(index=['std_SES_mse'], columns=subsample)"
      ],
      "outputs": [],
      "execution_count": 69,
      "metadata": {}
    },
    {
      "cell_type": "markdown",
      "source": [
        "**Run the experiment**"
      ],
      "metadata": {}
    },
    {
      "cell_type": "code",
      "source": [
        "cv=3\n",
        "reload(utils_circuit)\n",
        "for j,param in enumerate(subsample):\n",
        "    \n",
        "    print(j)\n",
        "        \n",
        "    ''' GENERATE DATA '''\n",
        "    t_span = np.linspace(0, nb_periods * 2 * np.pi / spec_param['omega'][0], nb_periods * 25)\n",
        "    \n",
        "    # this is what changes\n",
        "    nb_obs = nb_periods * param\n",
        "    \n",
        "    # generate new dataset\n",
        "    example = utils_circuit.Circuit(N_bags=N_bags, N_items=N_items, spec_param=spec_param, t_span=t_span, nb_obs=nb_obs)\n",
        "    example.generate_data()\n",
        "    example.get_phi()\n",
        "    \n",
        "    X = example.paths\n",
        "    y = example.labels[:,0]\n",
        "    \n",
        "    # SES model  \n",
        "    mean,std,_  = SES.model(depths1=[2], depth2=2, X=X, y=y, ll=None, at=False, NUM_TRIALS=5, cv=cv)\n",
        "    df_SES_m.iloc[0,j] = mean\n",
        "    df_SES_std.iloc[0,j] = std   \n",
        "    \n",
        "    # KES model\n",
        "    mean,std,_  = KES.model(X=X, y=y, ll=None, at=False, scales=[0.03], NUM_TRIALS=5, cv=cv)\n",
        "    df_KES_m.iloc[0,j] = mean\n",
        "    df_KES_std.iloc[0,j] = std\n",
        "    \n",
        "    # DR-RBF model\n",
        "    mean,std,_ = DR_RBF.model(X=X, y=y, NUM_TRIALS=5,cv=cv)\n",
        "    df_RBF_m.iloc[0,j] = mean\n",
        "    df_RBF_std.iloc[0,j] = std\n",
        "   "
      ],
      "outputs": [],
      "execution_count": 4,
      "metadata": {}
    },
    {
      "cell_type": "code",
      "source": [
        "m = pd.concat([df_RBF_m,df_SES_m,df_KES_m],join=\"inner\")\n",
        "stdv = pd.concat([df_RBF_std,df_SES_std,df_KES_std],join=\"inner\")"
      ],
      "outputs": [],
      "execution_count": 71,
      "metadata": {}
    },
    {
      "cell_type": "code",
      "source": [
        "fig,ax = plt.subplots(1,figsize=(10,7))\n",
        "\n",
        "labels = ['DR-RBF','SES','KES']\n",
        "colors = ['red','blue','green']\n",
        "markers = ['o','^', 'p']\n",
        "linestyles = ['dotted','solid', 'dashed']\n",
        "\n",
        "for i in [0,1,2]:\n",
        "\n",
        "    ax.plot([100-100*e/25 for e in subsample],m.iloc[i].ewm(alpha=0.1).mean().values.astype(float),color=colors[i],\n",
        "            label=labels[i],marker=markers[i],fillstyle='none',lw=3,markersize=10,linestyle=linestyles[i])\n",
        "    fact=1\n",
        "    \n",
        "    params = np.array([100-100*e/25 for e in subsample])\n",
        "    plus = m.iloc[i].ewm(alpha=0.1).mean().values.astype(float)  + fact*stdv.iloc[i].ewm(alpha=0.1).mean().values.astype(float)\n",
        "    minus = m.iloc[i].ewm(alpha=0.1).mean().values.astype(float) - fact*stdv.iloc[i].ewm(alpha=0.1).mean().values.astype(float).astype(float)\n",
        "\n",
        "    ax.fill_between(params, minus,plus,alpha=0.2,color=colors[i])\n",
        "\n",
        "\n",
        "legend = ax.legend(loc='upper left')\n",
        "ax.set_ylabel(r'Predictive MSE',labelpad=10)\n",
        "#ax.yaxis.set_ticks(np.arange(0.05, 0.50, 0.05))\n",
        "ax.set_xlabel(r'Subsampling rate (%)',labelpad=10)\n",
        "ax.grid(alpha=0.9, linestyle='dashed', linewidth=0.5)\n",
        "\n",
        "\n",
        "# plt.savefig('../pictures/circuit.pdf')\n",
        "plt.show()"
      ],
      "outputs": [],
      "execution_count": 5,
      "metadata": {}
    }
  ],
  "metadata": {
    "kernelspec": {
      "name": "python3",
      "language": "python",
      "display_name": "Python 3"
    },
    "language_info": {
      "name": "python",
      "version": "3.6.9",
      "mimetype": "text/x-python",
      "codemirror_mode": {
        "name": "ipython",
        "version": 3
      },
      "pygments_lexer": "ipython3",
      "nbconvert_exporter": "python",
      "file_extension": ".py"
    },
    "latex_envs": {
      "report_style_numbering": false,
      "hotkeys": {
        "equation": "Ctrl-E",
        "itemize": "Ctrl-I"
      },
      "LaTeX_envs_menu_present": true,
      "autocomplete": true,
      "autoclose": false,
      "eqNumInitial": 1,
      "bibliofile": "biblio.bib",
      "latex_user_defs": false,
      "current_citInitial": 1,
      "eqLabelWithNumbers": true,
      "labels_anchors": false,
      "cite_by": "apalike",
      "user_envs_cfg": false
    },
    "toc": {
      "toc_position": {},
      "skip_h1_title": false,
      "number_sections": true,
      "title_cell": "Table of Contents",
      "toc_window_display": true,
      "toc_section_display": true,
      "title_sidebar": "Contents",
      "toc_cell": true,
      "nav_menu": {},
      "sideBar": true
    },
    "kernel_info": {
      "name": "python3"
    },
    "nteract": {
      "version": "nteract-front-end@1.0.0"
    }
  },
  "nbformat": 4,
  "nbformat_minor": 4
}