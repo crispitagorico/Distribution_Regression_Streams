{
  "cells": [
    {
      "cell_type": "markdown",
      "source": [
        "<h1>Table of Contents<span class=\"tocSkip\"></span></h1>\n",
        "<div class=\"toc\"><ul class=\"toc-item\"><li><span><a href=\"#Multi-spectral-dataset-(11-years)\" data-toc-modified-id=\"Multi-spectral-dataset-(11-years)-1\"><span class=\"toc-item-num\">1&nbsp;&nbsp;</span>Multi-spectral dataset (11 years)</a></span><ul class=\"toc-item\"><li><span><a href=\"#Un-filtered-data\" data-toc-modified-id=\"Un-filtered-data-1.1\"><span class=\"toc-item-num\">1.1&nbsp;&nbsp;</span>Un-filtered data</a></span></li><li><span><a href=\"#Filtered-data\" data-toc-modified-id=\"Filtered-data-1.2\"><span class=\"toc-item-num\">1.2&nbsp;&nbsp;</span>Filtered data</a></span></li><li><span><a href=\"#Feature-selection-with-the-Lasso\" data-toc-modified-id=\"Feature-selection-with-the-Lasso-1.3\"><span class=\"toc-item-num\">1.3&nbsp;&nbsp;</span>Feature selection with the Lasso</a></span></li></ul></li><li><span><a href=\"#Climatic-dataset-(3-years)\" data-toc-modified-id=\"Climatic-dataset-(3-years)-2\"><span class=\"toc-item-num\">2&nbsp;&nbsp;</span>Climatic dataset (3 years)</a></span><ul class=\"toc-item\"><li><ul class=\"toc-item\"><li><span><a href=\"#3-hourly\" data-toc-modified-id=\"3-hourly-2.0.1\"><span class=\"toc-item-num\">2.0.1&nbsp;&nbsp;</span>3-hourly</a></span></li><li><span><a href=\"#daily-averages\" data-toc-modified-id=\"daily-averages-2.0.2\"><span class=\"toc-item-num\">2.0.2&nbsp;&nbsp;</span>daily averages</a></span></li></ul></li></ul></li><li><span><a href=\"#Crop-yield-prediction\" data-toc-modified-id=\"Crop-yield-prediction-3\"><span class=\"toc-item-num\">3&nbsp;&nbsp;</span>Crop yield prediction</a></span><ul class=\"toc-item\"><li><span><a href=\"#RBF-RBF\" data-toc-modified-id=\"RBF-RBF-3.1\"><span class=\"toc-item-num\">3.1&nbsp;&nbsp;</span>RBF-RBF</a></span></li><li><span><a href=\"#kerES\" data-toc-modified-id=\"kerES-3.2\"><span class=\"toc-item-num\">3.2&nbsp;&nbsp;</span>kerES</a></span></li><li><span><a href=\"#linSES\" data-toc-modified-id=\"linSES-3.3\"><span class=\"toc-item-num\">3.3&nbsp;&nbsp;</span>linSES</a></span></li></ul></li></ul></div>"
      ],
      "metadata": {
        "toc": true
      }
    },
    {
      "cell_type": "code",
      "source": [
        "!pip install esig\n",
        "!pip install iisignature"
      ],
      "outputs": [
        {
          "output_type": "stream",
          "name": "stdout",
          "text": [
            "Requirement already satisfied: esig in /anaconda/envs/azureml_py36/lib/python3.6/site-packages (0.8.0)\n",
            "Requirement already satisfied: numpy>=1.7 in /anaconda/envs/azureml_py36/lib/python3.6/site-packages (from esig) (1.16.6)\n",
            "Requirement already satisfied: iisignature in /anaconda/envs/azureml_py36/lib/python3.6/site-packages (0.24)\n",
            "Requirement already satisfied: numpy>1.7 in /anaconda/envs/azureml_py36/lib/python3.6/site-packages (from iisignature) (1.16.6)\n"
          ]
        }
      ],
      "execution_count": 3,
      "metadata": {}
    },
    {
      "cell_type": "code",
      "source": [
        "import sys\n",
        "sys.path.append('../src')\n",
        "import warnings\n",
        "warnings.filterwarnings('ignore')\n",
        "\n",
        "import pickle\n",
        "import numpy as np\n",
        "import matplotlib.pyplot as plt\n",
        "from importlib import reload\n",
        "from tqdm import tqdm\n",
        "import pandas as pd\n",
        "\n",
        "import utils_crops\n",
        "import esig.tosig as esig\n",
        "\n",
        "import RBF_RBF\n",
        "import RBF_TKA\n",
        "import RBF_Matern\n",
        "import kerES\n",
        "import KES\n",
        "import linSES\n",
        "import sklearn_transformers\n",
        "import deep_sets\n",
        "\n",
        "import sklearn_transformers\n",
        "import iisignature\n",
        "from sklearn.linear_model import LassoCV\n",
        "\n",
        "import matplotlib.pylab as pylab\n",
        "params = {'legend.fontsize': 'x-large',\n",
        "          'figure.figsize': (5, 5),\n",
        "          'axes.labelsize': 'x-large',\n",
        "          'axes.titlesize':'x-large',\n",
        "          'xtick.labelsize':'x-large',\n",
        "          'ytick.labelsize':'x-large'}\n",
        "pylab.rcParams.update(params)"
      ],
      "outputs": [
        {
          "output_type": "error",
          "ename": "ModuleNotFoundError",
          "evalue": "No module named 'iisignature'",
          "traceback": [
            "\u001b[0;31m---------------------------------------------------------------------------\u001b[0m",
            "\u001b[0;31mModuleNotFoundError\u001b[0m                       Traceback (most recent call last)",
            "\u001b[0;32m<ipython-input-2-8490f81aa45d>\u001b[0m in \u001b[0;36m<module>\u001b[0;34m\u001b[0m\n\u001b[1;32m     11\u001b[0m \u001b[0;32mimport\u001b[0m \u001b[0mpandas\u001b[0m \u001b[0;32mas\u001b[0m \u001b[0mpd\u001b[0m\u001b[0;34m\u001b[0m\u001b[0;34m\u001b[0m\u001b[0m\n\u001b[1;32m     12\u001b[0m \u001b[0;34m\u001b[0m\u001b[0m\n\u001b[0;32m---> 13\u001b[0;31m \u001b[0;32mimport\u001b[0m \u001b[0mutils_crops\u001b[0m\u001b[0;34m\u001b[0m\u001b[0;34m\u001b[0m\u001b[0m\n\u001b[0m\u001b[1;32m     14\u001b[0m \u001b[0;32mimport\u001b[0m \u001b[0mesig\u001b[0m\u001b[0;34m.\u001b[0m\u001b[0mtosig\u001b[0m \u001b[0;32mas\u001b[0m \u001b[0mesig\u001b[0m\u001b[0;34m\u001b[0m\u001b[0;34m\u001b[0m\u001b[0m\n\u001b[1;32m     15\u001b[0m \u001b[0;34m\u001b[0m\u001b[0m\n",
            "\u001b[0;32m/mnt/batch/tasks/shared/LS_root/mounts/clusters/vm-1cores-3gb-ml/code/users/mlemercier/examples/DR/Distribution_Regression_Streams/src/utils_crops.py\u001b[0m in \u001b[0;36m<module>\u001b[0;34m\u001b[0m\n\u001b[1;32m      3\u001b[0m \u001b[0;32mimport\u001b[0m \u001b[0mpickle\u001b[0m\u001b[0;34m\u001b[0m\u001b[0;34m\u001b[0m\u001b[0m\n\u001b[1;32m      4\u001b[0m \u001b[0;32mfrom\u001b[0m \u001b[0mesig\u001b[0m \u001b[0;32mimport\u001b[0m \u001b[0mtosig\u001b[0m \u001b[0;32mas\u001b[0m \u001b[0mesig\u001b[0m\u001b[0;34m\u001b[0m\u001b[0;34m\u001b[0m\u001b[0m\n\u001b[0;32m----> 5\u001b[0;31m \u001b[0;32mfrom\u001b[0m \u001b[0msklearn_transformers\u001b[0m \u001b[0;32mimport\u001b[0m \u001b[0mAddTime\u001b[0m\u001b[0;34m\u001b[0m\u001b[0;34m\u001b[0m\u001b[0m\n\u001b[0m\u001b[1;32m      6\u001b[0m \u001b[0;34m\u001b[0m\u001b[0m\n\u001b[1;32m      7\u001b[0m \u001b[0;32mdef\u001b[0m \u001b[0mget_sig_keys\u001b[0m\u001b[0;34m(\u001b[0m\u001b[0mdico\u001b[0m\u001b[0;34m,\u001b[0m\u001b[0msig_level\u001b[0m\u001b[0;34m)\u001b[0m\u001b[0;34m:\u001b[0m\u001b[0;34m\u001b[0m\u001b[0;34m\u001b[0m\u001b[0m\n",
            "\u001b[0;32m/mnt/batch/tasks/shared/LS_root/mounts/clusters/vm-1cores-3gb-ml/code/users/mlemercier/examples/DR/Distribution_Regression_Streams/src/sklearn_transformers.py\u001b[0m in \u001b[0;36m<module>\u001b[0;34m\u001b[0m\n\u001b[1;32m      3\u001b[0m \u001b[0;32mimport\u001b[0m \u001b[0mrandom\u001b[0m\u001b[0;34m\u001b[0m\u001b[0;34m\u001b[0m\u001b[0m\n\u001b[1;32m      4\u001b[0m \u001b[0;32mimport\u001b[0m \u001b[0mdoctest\u001b[0m\u001b[0;34m\u001b[0m\u001b[0;34m\u001b[0m\u001b[0m\n\u001b[0;32m----> 5\u001b[0;31m \u001b[0;32mimport\u001b[0m \u001b[0miisignature\u001b[0m\u001b[0;34m\u001b[0m\u001b[0;34m\u001b[0m\u001b[0m\n\u001b[0m\u001b[1;32m      6\u001b[0m \u001b[0;32mimport\u001b[0m \u001b[0mwarnings\u001b[0m\u001b[0;34m\u001b[0m\u001b[0;34m\u001b[0m\u001b[0m\n\u001b[1;32m      7\u001b[0m \u001b[0;32mfrom\u001b[0m \u001b[0mjoblib\u001b[0m \u001b[0;32mimport\u001b[0m \u001b[0mParallel\u001b[0m\u001b[0;34m,\u001b[0m \u001b[0mdelayed\u001b[0m\u001b[0;34m\u001b[0m\u001b[0;34m\u001b[0m\u001b[0m\n",
            "\u001b[0;31mModuleNotFoundError\u001b[0m: No module named 'iisignature'"
          ]
        }
      ],
      "execution_count": 2,
      "metadata": {}
    },
    {
      "cell_type": "markdown",
      "source": [
        "# Multi-spectral dataset (11 years)"
      ],
      "metadata": {}
    },
    {
      "cell_type": "code",
      "source": [
        "targets_dico = pickle.load(open('../data/labels_ndvi_dico.obj', 'rb')) # dictionary containing the yields\n",
        "y = list(targets_dico.values()) # yield targets"
      ],
      "outputs": [],
      "execution_count": 23,
      "metadata": {}
    },
    {
      "cell_type": "markdown",
      "source": [
        "## Un-filtered data"
      ],
      "metadata": {}
    },
    {
      "cell_type": "code",
      "source": [
        "X = pickle.load(open('../data/bags_ndvi.obj','rb'))"
      ],
      "outputs": [],
      "execution_count": 24,
      "metadata": {}
    },
    {
      "cell_type": "markdown",
      "source": [
        "## Filtered data\n"
      ],
      "metadata": {}
    },
    {
      "cell_type": "code",
      "source": [
        "# X, target_dico_filter = utils_crops.filter_ndvi_data(X,targets_dico)\n",
        "# y = list(target_dico_filter.values())"
      ],
      "outputs": [],
      "execution_count": 20,
      "metadata": {}
    },
    {
      "cell_type": "markdown",
      "source": [
        "## Feature selection with the Lasso"
      ],
      "metadata": {}
    },
    {
      "cell_type": "code",
      "source": [
        "# to possibly augment the state space of the time-series\n",
        "ll = None\n",
        "at = False\n",
        "\n",
        "# signature truncation levels \n",
        "depth1 = 2\n",
        "depth2 = 2\n",
        " \n",
        "# possibly augment the state space of the time-series\n",
        "if ll is not None:\n",
        "    X = sklearn_transformers.LeadLag(ll).fit_transform(X)\n",
        "if at:\n",
        "    X = sklearn_transformers.AddTime().fit_transform(X)\n",
        "\n",
        "pwES =  sklearn_transformers.pathwiseExpectedSignatureTransform(order=depth1).fit_transform(X)\n",
        "SpwES = sklearn_transformers.SignatureTransform(order=depth2).fit_transform(pwES)\n"
      ],
      "outputs": [],
      "execution_count": 25,
      "metadata": {}
    },
    {
      "cell_type": "code",
      "source": [
        "clf = LassoCV(cv=20, normalize=True).fit(SpwES, y)\n",
        "importance = np.abs(clf.coef_)"
      ],
      "outputs": [],
      "execution_count": 26,
      "metadata": {}
    },
    {
      "cell_type": "code",
      "source": [
        "dico = {1:'nR',2:'R'}\n",
        "dico = utils_crops.get_sig_keys(utils_crops.get_sig_keys(dico,2),2)\n",
        "interpretability = {sig_term:val for sig_term,val in zip(dico.values(),importance)}"
      ],
      "outputs": [],
      "execution_count": 27,
      "metadata": {}
    },
    {
      "cell_type": "code",
      "source": [
        "df = pd.DataFrame.from_dict(interpretability, orient='index').sort_values(0, ascending=True).iloc[25:,:]\n",
        "df.columns = ['feature importance']"
      ],
      "outputs": [],
      "execution_count": 30,
      "metadata": {
        "scrolled": false
      }
    },
    {
      "cell_type": "code",
      "source": [
        "fig, ax = plt.subplots()\n",
        "df.plot(kind='barh', color='blue', ax=ax, grid=False)\n",
        "ax.legend(loc='lower right')\n",
        "# ax.set_xlabel('amplitude')\n",
        "plt.xticks([])\n",
        "#plt.savefig('../pictures/feature_importance.png')\n",
        "plt.show()"
      ],
      "outputs": [
        {
          "output_type": "display_data",
          "data": {
            "image/png": "[encoded data removed]",
            "text/plain": "<Figure size 360x360 with 1 Axes>"
          },
          "metadata": {
            "needs_background": "light"
          }
        }
      ],
      "execution_count": 31,
      "metadata": {}
    },
    {
      "cell_type": "markdown",
      "source": [
        "# Climatic dataset (3 years)"
      ],
      "metadata": {}
    },
    {
      "cell_type": "code",
      "source": [
        "targets_dico = pickle.load(open('../data/clim_labels.obj', 'rb'))\n",
        "y = list(targets_dico.values())"
      ],
      "outputs": [],
      "execution_count": 2,
      "metadata": {}
    },
    {
      "cell_type": "markdown",
      "source": [
        "### 3-hourly "
      ],
      "metadata": {}
    },
    {
      "cell_type": "code",
      "source": [
        "reload(utils_crops)\n",
        "input1 = pickle.load(open('../data/clim_bags_1.obj', 'rb'))\n",
        "input2 = pickle.load(open('../data/clim_bags_2.obj', 'rb'))\n",
        "X = input1 + input2"
      ],
      "outputs": [],
      "execution_count": 3,
      "metadata": {}
    },
    {
      "cell_type": "code",
      "source": [
        "X = [[item[::2,:] for item in bag] for bag in X]"
      ],
      "outputs": [],
      "execution_count": 4,
      "metadata": {}
    },
    {
      "cell_type": "code",
      "source": [
        "# possibly subsample the data\n",
        "subsamping_rate = 0.5 # fraction of observations to drop\n",
        "X = utils_crops.subsample(input_=X,p=subsamping_rate,N_items=30,time=False)"
      ],
      "outputs": [],
      "execution_count": 5,
      "metadata": {}
    },
    {
      "cell_type": "markdown",
      "source": [
        "###  daily averages"
      ],
      "metadata": {}
    },
    {
      "cell_type": "code",
      "source": [
        "# X = pickle.load(open('crops/clim_summary_bags.obj', 'rb'))"
      ],
      "outputs": [],
      "execution_count": 8,
      "metadata": {}
    },
    {
      "cell_type": "markdown",
      "source": [
        "# Crop yield prediction"
      ],
      "metadata": {}
    },
    {
      "cell_type": "markdown",
      "source": [
        "## RBF-RBF"
      ],
      "metadata": {}
    },
    {
      "cell_type": "code",
      "source": [
        "m_mse,std_rmse,results_RBF = RBF_RBF.model(X=X, y=y, ll=None, at=False, mode='krr', NUM_TRIALS=5,  cv=3)"
      ],
      "outputs": [
        {
          "output_type": "stream",
          "name": "stderr",
          "text": [
            "100%|██████████| 5/5 [02:19<00:00, 27.93s/it]\n"
          ]
        }
      ],
      "execution_count": 8,
      "metadata": {}
    },
    {
      "cell_type": "code",
      "source": [
        "print(mse(results_RBF))\n",
        "print(mape(results_RBF))"
      ],
      "outputs": [
        {
          "output_type": "stream",
          "name": "stdout",
          "text": [
            "(0.8774499662495663, 0.30604904139551115)\n",
            "(14.04241359181151, 2.8408122818619113)\n"
          ]
        }
      ],
      "execution_count": 10,
      "metadata": {}
    },
    {
      "cell_type": "markdown",
      "source": [
        "## RBF-Matern"
      ],
      "metadata": {}
    },
    {
      "cell_type": "code",
      "source": [
        "m_mse,std_rmse,results_Matern = RBF_Matern.model(X=X, y=y, ll=None, at=False, mode='krr', NUM_TRIALS=5,  cv=3)"
      ],
      "outputs": [
        {
          "output_type": "stream",
          "name": "stderr",
          "text": [
            "100%|██████████| 5/5 [02:20<00:00, 28.15s/it]\n"
          ]
        }
      ],
      "execution_count": 13,
      "metadata": {}
    },
    {
      "cell_type": "code",
      "source": [
        "print(mse(results_Matern))\n",
        "print(mape(results_Matern))"
      ],
      "outputs": [
        {
          "output_type": "stream",
          "name": "stdout",
          "text": [
            "(0.8506657673057927, 0.27845203439396343)\n",
            "(13.855261821389712, 2.805139519239346)\n"
          ]
        }
      ],
      "execution_count": 14,
      "metadata": {}
    },
    {
      "cell_type": "markdown",
      "source": [
        "## RBF-GA"
      ],
      "metadata": {}
    },
    {
      "cell_type": "code",
      "source": [
        "m_mse,std_rmse,results_GA = RBF_TKA.model(X=X, y=y, ll=None, at=False, lambdas=[0.001], mode='krr', NUM_TRIALS=5,  cv=3)"
      ],
      "outputs": [
        {
          "output_type": "stream",
          "name": "stderr",
          "text": [
            "[Parallel(n_jobs=-1)]: Using backend LokyBackend with 128 concurrent workers.\n",
            "[Parallel(n_jobs=-1)]: Done  32 tasks      | elapsed:   26.3s\n",
            "[Parallel(n_jobs=-1)]: Done 256 tasks      | elapsed:   56.6s\n",
            "[Parallel(n_jobs=-1)]: Done 544 tasks      | elapsed:  1.7min\n",
            "[Parallel(n_jobs=-1)]: Done 896 tasks      | elapsed:  2.7min\n",
            "[Parallel(n_jobs=-1)]: Done 1312 tasks      | elapsed:  3.7min\n",
            "[Parallel(n_jobs=-1)]: Done 1792 tasks      | elapsed:  5.0min\n",
            "[Parallel(n_jobs=-1)]: Done 2211 out of 2211 | elapsed:  6.0min finished\n"
          ]
        },
        {
          "output_type": "stream",
          "name": "stdout",
          "text": [
            "best sigma (cv on the train set):  0.001\n",
            "best sigma (cv on the train set):  0.001\n",
            "best sigma (cv on the train set):  0.001\n",
            "best sigma (cv on the train set):  0.001\n",
            "best sigma (cv on the train set):  0.001\n"
          ]
        }
      ],
      "execution_count": 15,
      "metadata": {}
    },
    {
      "cell_type": "code",
      "source": [
        "print(mse(results_GA))\n",
        "print(mape(results_GA))"
      ],
      "outputs": [
        {
          "output_type": "stream",
          "name": "stdout",
          "text": [
            "(0.6963953478866836, 0.2012842334564594)\n",
            "(12.335624703304738, 2.000392799121177)\n"
          ]
        }
      ],
      "execution_count": 16,
      "metadata": {}
    },
    {
      "cell_type": "markdown",
      "source": [
        "## KES"
      ],
      "metadata": {}
    },
    {
      "cell_type": "code",
      "source": [
        "reload(KES)\n",
        "m_mse,std_rmse,results_KES = KES.model(X, y,ll=None, at=False, scales=[0.06],mode='krr', NUM_TRIALS=5,  cv=3)"
      ],
      "outputs": [
        {
          "output_type": "stream",
          "name": "stderr",
          "text": [
            "\r  0%|          | 0/1 [00:00<?, ?it/s]"
          ]
        },
        {
          "output_type": "stream",
          "name": "stdout",
          "text": [
            "(424, 3)\n"
          ]
        },
        {
          "output_type": "stream",
          "name": "stderr",
          "text": [
            "[Parallel(n_jobs=-1)]: Using backend LokyBackend with 128 concurrent workers.\n",
            "  0%|          | 0/1 [00:07<?, ?it/s]\n"
          ]
        },
        {
          "output_type": "error",
          "ename": "KeyboardInterrupt",
          "evalue": "",
          "traceback": [
            "\u001b[0;31m---------------------------------------------------------------------------\u001b[0m",
            "\u001b[0;31mKeyboardInterrupt\u001b[0m                         Traceback (most recent call last)",
            "\u001b[0;32m/anaconda/envs/azureml_py36/lib/python3.6/site-packages/joblib/parallel.py\u001b[0m in \u001b[0;36mretrieve\u001b[0;34m(self)\u001b[0m\n\u001b[1;32m    908\u001b[0m                 \u001b[0;32mif\u001b[0m \u001b[0mgetattr\u001b[0m\u001b[0;34m(\u001b[0m\u001b[0mself\u001b[0m\u001b[0;34m.\u001b[0m\u001b[0m_backend\u001b[0m\u001b[0;34m,\u001b[0m \u001b[0;34m'supports_timeout'\u001b[0m\u001b[0;34m,\u001b[0m \u001b[0;32mFalse\u001b[0m\u001b[0;34m)\u001b[0m\u001b[0;34m:\u001b[0m\u001b[0;34m\u001b[0m\u001b[0;34m\u001b[0m\u001b[0m\n\u001b[0;32m--> 909\u001b[0;31m                     \u001b[0mself\u001b[0m\u001b[0;34m.\u001b[0m\u001b[0m_output\u001b[0m\u001b[0;34m.\u001b[0m\u001b[0mextend\u001b[0m\u001b[0;34m(\u001b[0m\u001b[0mjob\u001b[0m\u001b[0;34m.\u001b[0m\u001b[0mget\u001b[0m\u001b[0;34m(\u001b[0m\u001b[0mtimeout\u001b[0m\u001b[0;34m=\u001b[0m\u001b[0mself\u001b[0m\u001b[0;34m.\u001b[0m\u001b[0mtimeout\u001b[0m\u001b[0;34m)\u001b[0m\u001b[0;34m)\u001b[0m\u001b[0;34m\u001b[0m\u001b[0;34m\u001b[0m\u001b[0m\n\u001b[0m\u001b[1;32m    910\u001b[0m                 \u001b[0;32melse\u001b[0m\u001b[0;34m:\u001b[0m\u001b[0;34m\u001b[0m\u001b[0;34m\u001b[0m\u001b[0m\n",
            "\u001b[0;32m/anaconda/envs/azureml_py36/lib/python3.6/site-packages/joblib/_parallel_backends.py\u001b[0m in \u001b[0;36mwrap_future_result\u001b[0;34m(future, timeout)\u001b[0m\n\u001b[1;32m    561\u001b[0m         \u001b[0;32mtry\u001b[0m\u001b[0;34m:\u001b[0m\u001b[0;34m\u001b[0m\u001b[0;34m\u001b[0m\u001b[0m\n\u001b[0;32m--> 562\u001b[0;31m             \u001b[0;32mreturn\u001b[0m \u001b[0mfuture\u001b[0m\u001b[0;34m.\u001b[0m\u001b[0mresult\u001b[0m\u001b[0;34m(\u001b[0m\u001b[0mtimeout\u001b[0m\u001b[0;34m=\u001b[0m\u001b[0mtimeout\u001b[0m\u001b[0;34m)\u001b[0m\u001b[0;34m\u001b[0m\u001b[0;34m\u001b[0m\u001b[0m\n\u001b[0m\u001b[1;32m    563\u001b[0m         \u001b[0;32mexcept\u001b[0m \u001b[0mLokyTimeoutError\u001b[0m\u001b[0;34m:\u001b[0m\u001b[0;34m\u001b[0m\u001b[0;34m\u001b[0m\u001b[0m\n",
            "\u001b[0;32m/anaconda/envs/azureml_py36/lib/python3.6/concurrent/futures/_base.py\u001b[0m in \u001b[0;36mresult\u001b[0;34m(self, timeout)\u001b[0m\n\u001b[1;32m    426\u001b[0m \u001b[0;34m\u001b[0m\u001b[0m\n\u001b[0;32m--> 427\u001b[0;31m             \u001b[0mself\u001b[0m\u001b[0;34m.\u001b[0m\u001b[0m_condition\u001b[0m\u001b[0;34m.\u001b[0m\u001b[0mwait\u001b[0m\u001b[0;34m(\u001b[0m\u001b[0mtimeout\u001b[0m\u001b[0;34m)\u001b[0m\u001b[0;34m\u001b[0m\u001b[0;34m\u001b[0m\u001b[0m\n\u001b[0m\u001b[1;32m    428\u001b[0m \u001b[0;34m\u001b[0m\u001b[0m\n",
            "\u001b[0;32m/anaconda/envs/azureml_py36/lib/python3.6/threading.py\u001b[0m in \u001b[0;36mwait\u001b[0;34m(self, timeout)\u001b[0m\n\u001b[1;32m    294\u001b[0m             \u001b[0;32mif\u001b[0m \u001b[0mtimeout\u001b[0m \u001b[0;32mis\u001b[0m \u001b[0;32mNone\u001b[0m\u001b[0;34m:\u001b[0m\u001b[0;34m\u001b[0m\u001b[0;34m\u001b[0m\u001b[0m\n\u001b[0;32m--> 295\u001b[0;31m                 \u001b[0mwaiter\u001b[0m\u001b[0;34m.\u001b[0m\u001b[0macquire\u001b[0m\u001b[0;34m(\u001b[0m\u001b[0;34m)\u001b[0m\u001b[0;34m\u001b[0m\u001b[0;34m\u001b[0m\u001b[0m\n\u001b[0m\u001b[1;32m    296\u001b[0m                 \u001b[0mgotit\u001b[0m \u001b[0;34m=\u001b[0m \u001b[0;32mTrue\u001b[0m\u001b[0;34m\u001b[0m\u001b[0;34m\u001b[0m\u001b[0m\n",
            "\u001b[0;31mKeyboardInterrupt\u001b[0m: ",
            "\nDuring handling of the above exception, another exception occurred:\n",
            "\u001b[0;31mKeyboardInterrupt\u001b[0m                         Traceback (most recent call last)",
            "\u001b[0;32m<ipython-input-17-3d0e1f89c4f9>\u001b[0m in \u001b[0;36m<module>\u001b[0;34m\u001b[0m\n\u001b[1;32m      1\u001b[0m \u001b[0mreload\u001b[0m\u001b[0;34m(\u001b[0m\u001b[0mKES\u001b[0m\u001b[0;34m)\u001b[0m\u001b[0;34m\u001b[0m\u001b[0;34m\u001b[0m\u001b[0m\n\u001b[0;32m----> 2\u001b[0;31m \u001b[0mm_mse\u001b[0m\u001b[0;34m,\u001b[0m\u001b[0mstd_rmse\u001b[0m\u001b[0;34m,\u001b[0m\u001b[0mresults_KES\u001b[0m \u001b[0;34m=\u001b[0m \u001b[0mKES\u001b[0m\u001b[0;34m.\u001b[0m\u001b[0mmodel\u001b[0m\u001b[0;34m(\u001b[0m\u001b[0mX\u001b[0m\u001b[0;34m,\u001b[0m \u001b[0my\u001b[0m\u001b[0;34m,\u001b[0m\u001b[0mll\u001b[0m\u001b[0;34m=\u001b[0m\u001b[0;32mNone\u001b[0m\u001b[0;34m,\u001b[0m \u001b[0mat\u001b[0m\u001b[0;34m=\u001b[0m\u001b[0;32mFalse\u001b[0m\u001b[0;34m,\u001b[0m \u001b[0mscales\u001b[0m\u001b[0;34m=\u001b[0m\u001b[0;34m[\u001b[0m\u001b[0;36m0.06\u001b[0m\u001b[0;34m]\u001b[0m\u001b[0;34m,\u001b[0m\u001b[0mmode\u001b[0m\u001b[0;34m=\u001b[0m\u001b[0;34m'krr'\u001b[0m\u001b[0;34m,\u001b[0m \u001b[0mNUM_TRIALS\u001b[0m\u001b[0;34m=\u001b[0m\u001b[0;36m5\u001b[0m\u001b[0;34m,\u001b[0m  \u001b[0mcv\u001b[0m\u001b[0;34m=\u001b[0m\u001b[0;36m3\u001b[0m\u001b[0;34m)\u001b[0m\u001b[0;34m\u001b[0m\u001b[0;34m\u001b[0m\u001b[0m\n\u001b[0m",
            "\u001b[0;32m/mnt/batch/tasks/shared/LS_root/mounts/clusters/vm-128cores-2000gb-ml/code/users/mlemercier/examples/DR/Distribution_Regression_Streams/src/KES.py\u001b[0m in \u001b[0;36mmodel\u001b[0;34m(X, y, scales, ll, at, mode, NUM_TRIALS, cv, grid)\u001b[0m\n\u001b[1;32m     96\u001b[0m         K_full[indices] = Parallel(n_jobs=-1,verbose=3)(\n\u001b[1;32m     97\u001b[0m             \u001b[0mdelayed\u001b[0m\u001b[0;34m(\u001b[0m\u001b[0mExpectedKernel\u001b[0m\u001b[0;34m)\u001b[0m\u001b[0;34m(\u001b[0m\u001b[0mX\u001b[0m\u001b[0;34m[\u001b[0m\u001b[0mi\u001b[0m\u001b[0;34m]\u001b[0m\u001b[0;34m,\u001b[0m\u001b[0mX\u001b[0m\u001b[0;34m[\u001b[0m\u001b[0mj\u001b[0m\u001b[0;34m]\u001b[0m\u001b[0;34m,\u001b[0m\u001b[0msym\u001b[0m\u001b[0;34m=\u001b[0m\u001b[0;32mFalse\u001b[0m\u001b[0;34m,\u001b[0m\u001b[0mscale\u001b[0m\u001b[0;34m=\u001b[0m\u001b[0mscale\u001b[0m\u001b[0;34m,\u001b[0m\u001b[0mn\u001b[0m\u001b[0;34m=\u001b[0m\u001b[0;36m0\u001b[0m\u001b[0;34m)\u001b[0m\u001b[0;34m\u001b[0m\u001b[0;34m\u001b[0m\u001b[0m\n\u001b[0;32m---> 98\u001b[0;31m             \u001b[0;32mfor\u001b[0m \u001b[0mi\u001b[0m \u001b[0;32min\u001b[0m \u001b[0mrange\u001b[0m\u001b[0;34m(\u001b[0m\u001b[0mlen\u001b[0m\u001b[0;34m(\u001b[0m\u001b[0mX\u001b[0m\u001b[0;34m)\u001b[0m\u001b[0;34m)\u001b[0m\u001b[0;34m\u001b[0m\u001b[0;34m\u001b[0m\u001b[0m\n\u001b[0m\u001b[1;32m     99\u001b[0m             \u001b[0;32mfor\u001b[0m \u001b[0mj\u001b[0m \u001b[0;32min\u001b[0m \u001b[0mrange\u001b[0m\u001b[0;34m(\u001b[0m\u001b[0mi\u001b[0m\u001b[0;34m,\u001b[0m\u001b[0mlen\u001b[0m\u001b[0;34m(\u001b[0m\u001b[0mX\u001b[0m\u001b[0;34m)\u001b[0m\u001b[0;34m)\u001b[0m\u001b[0;34m\u001b[0m\u001b[0;34m\u001b[0m\u001b[0m\n\u001b[1;32m    100\u001b[0m         ) \n",
            "\u001b[0;32m/anaconda/envs/azureml_py36/lib/python3.6/site-packages/joblib/parallel.py\u001b[0m in \u001b[0;36m__call__\u001b[0;34m(self, iterable)\u001b[0m\n\u001b[1;32m   1015\u001b[0m \u001b[0;34m\u001b[0m\u001b[0m\n\u001b[1;32m   1016\u001b[0m             \u001b[0;32mwith\u001b[0m \u001b[0mself\u001b[0m\u001b[0;34m.\u001b[0m\u001b[0m_backend\u001b[0m\u001b[0;34m.\u001b[0m\u001b[0mretrieval_context\u001b[0m\u001b[0;34m(\u001b[0m\u001b[0;34m)\u001b[0m\u001b[0;34m:\u001b[0m\u001b[0;34m\u001b[0m\u001b[0;34m\u001b[0m\u001b[0m\n\u001b[0;32m-> 1017\u001b[0;31m                 \u001b[0mself\u001b[0m\u001b[0;34m.\u001b[0m\u001b[0mretrieve\u001b[0m\u001b[0;34m(\u001b[0m\u001b[0;34m)\u001b[0m\u001b[0;34m\u001b[0m\u001b[0;34m\u001b[0m\u001b[0m\n\u001b[0m\u001b[1;32m   1018\u001b[0m             \u001b[0;31m# Make sure that we get a last message telling us we are done\u001b[0m\u001b[0;34m\u001b[0m\u001b[0;34m\u001b[0m\u001b[0;34m\u001b[0m\u001b[0m\n\u001b[1;32m   1019\u001b[0m             \u001b[0melapsed_time\u001b[0m \u001b[0;34m=\u001b[0m \u001b[0mtime\u001b[0m\u001b[0;34m.\u001b[0m\u001b[0mtime\u001b[0m\u001b[0;34m(\u001b[0m\u001b[0;34m)\u001b[0m \u001b[0;34m-\u001b[0m \u001b[0mself\u001b[0m\u001b[0;34m.\u001b[0m\u001b[0m_start_time\u001b[0m\u001b[0;34m\u001b[0m\u001b[0;34m\u001b[0m\u001b[0m\n",
            "\u001b[0;32m/anaconda/envs/azureml_py36/lib/python3.6/site-packages/joblib/parallel.py\u001b[0m in \u001b[0;36mretrieve\u001b[0;34m(self)\u001b[0m\n\u001b[1;32m    929\u001b[0m                     \u001b[0;31m# scheduling.\u001b[0m\u001b[0;34m\u001b[0m\u001b[0;34m\u001b[0m\u001b[0;34m\u001b[0m\u001b[0m\n\u001b[1;32m    930\u001b[0m                     \u001b[0mensure_ready\u001b[0m \u001b[0;34m=\u001b[0m \u001b[0mself\u001b[0m\u001b[0;34m.\u001b[0m\u001b[0m_managed_backend\u001b[0m\u001b[0;34m\u001b[0m\u001b[0;34m\u001b[0m\u001b[0m\n\u001b[0;32m--> 931\u001b[0;31m                     \u001b[0mbackend\u001b[0m\u001b[0;34m.\u001b[0m\u001b[0mabort_everything\u001b[0m\u001b[0;34m(\u001b[0m\u001b[0mensure_ready\u001b[0m\u001b[0;34m=\u001b[0m\u001b[0mensure_ready\u001b[0m\u001b[0;34m)\u001b[0m\u001b[0;34m\u001b[0m\u001b[0;34m\u001b[0m\u001b[0m\n\u001b[0m\u001b[1;32m    932\u001b[0m \u001b[0;34m\u001b[0m\u001b[0m\n\u001b[1;32m    933\u001b[0m                 \u001b[0;32mif\u001b[0m \u001b[0misinstance\u001b[0m\u001b[0;34m(\u001b[0m\u001b[0mexception\u001b[0m\u001b[0;34m,\u001b[0m \u001b[0mTransportableException\u001b[0m\u001b[0;34m)\u001b[0m\u001b[0;34m:\u001b[0m\u001b[0;34m\u001b[0m\u001b[0;34m\u001b[0m\u001b[0m\n",
            "\u001b[0;32m/anaconda/envs/azureml_py36/lib/python3.6/site-packages/joblib/_parallel_backends.py\u001b[0m in \u001b[0;36mabort_everything\u001b[0;34m(self, ensure_ready)\u001b[0m\n\u001b[1;32m    577\u001b[0m         \"\"\"Shutdown the workers and restart a new one with the same parameters\n\u001b[1;32m    578\u001b[0m         \"\"\"\n\u001b[0;32m--> 579\u001b[0;31m         \u001b[0mself\u001b[0m\u001b[0;34m.\u001b[0m\u001b[0m_workers\u001b[0m\u001b[0;34m.\u001b[0m\u001b[0mshutdown\u001b[0m\u001b[0;34m(\u001b[0m\u001b[0mkill_workers\u001b[0m\u001b[0;34m=\u001b[0m\u001b[0;32mTrue\u001b[0m\u001b[0;34m)\u001b[0m\u001b[0;34m\u001b[0m\u001b[0;34m\u001b[0m\u001b[0m\n\u001b[0m\u001b[1;32m    580\u001b[0m         \u001b[0mdelete_folder\u001b[0m\u001b[0;34m(\u001b[0m\u001b[0mself\u001b[0m\u001b[0;34m.\u001b[0m\u001b[0m_workers\u001b[0m\u001b[0;34m.\u001b[0m\u001b[0m_temp_folder\u001b[0m\u001b[0;34m)\u001b[0m\u001b[0;34m\u001b[0m\u001b[0;34m\u001b[0m\u001b[0m\n\u001b[1;32m    581\u001b[0m         \u001b[0mself\u001b[0m\u001b[0;34m.\u001b[0m\u001b[0m_workers\u001b[0m \u001b[0;34m=\u001b[0m \u001b[0;32mNone\u001b[0m\u001b[0;34m\u001b[0m\u001b[0;34m\u001b[0m\u001b[0m\n",
            "\u001b[0;32m/anaconda/envs/azureml_py36/lib/python3.6/site-packages/joblib/externals/loky/process_executor.py\u001b[0m in \u001b[0;36mshutdown\u001b[0;34m(self, wait, kill_workers)\u001b[0m\n\u001b[1;32m   1099\u001b[0m                     \u001b[0;32mpass\u001b[0m\u001b[0;34m\u001b[0m\u001b[0;34m\u001b[0m\u001b[0m\n\u001b[1;32m   1100\u001b[0m             \u001b[0;32mif\u001b[0m \u001b[0mwait\u001b[0m\u001b[0;34m:\u001b[0m\u001b[0;34m\u001b[0m\u001b[0;34m\u001b[0m\u001b[0m\n\u001b[0;32m-> 1101\u001b[0;31m                 \u001b[0mqmt\u001b[0m\u001b[0;34m.\u001b[0m\u001b[0mjoin\u001b[0m\u001b[0;34m(\u001b[0m\u001b[0;34m)\u001b[0m\u001b[0;34m\u001b[0m\u001b[0;34m\u001b[0m\u001b[0m\n\u001b[0m\u001b[1;32m   1102\u001b[0m \u001b[0;34m\u001b[0m\u001b[0m\n\u001b[1;32m   1103\u001b[0m         \u001b[0mcq\u001b[0m \u001b[0;34m=\u001b[0m \u001b[0mself\u001b[0m\u001b[0;34m.\u001b[0m\u001b[0m_call_queue\u001b[0m\u001b[0;34m\u001b[0m\u001b[0;34m\u001b[0m\u001b[0m\n",
            "\u001b[0;32m/anaconda/envs/azureml_py36/lib/python3.6/threading.py\u001b[0m in \u001b[0;36mjoin\u001b[0;34m(self, timeout)\u001b[0m\n\u001b[1;32m   1054\u001b[0m \u001b[0;34m\u001b[0m\u001b[0m\n\u001b[1;32m   1055\u001b[0m         \u001b[0;32mif\u001b[0m \u001b[0mtimeout\u001b[0m \u001b[0;32mis\u001b[0m \u001b[0;32mNone\u001b[0m\u001b[0;34m:\u001b[0m\u001b[0;34m\u001b[0m\u001b[0;34m\u001b[0m\u001b[0m\n\u001b[0;32m-> 1056\u001b[0;31m             \u001b[0mself\u001b[0m\u001b[0;34m.\u001b[0m\u001b[0m_wait_for_tstate_lock\u001b[0m\u001b[0;34m(\u001b[0m\u001b[0;34m)\u001b[0m\u001b[0;34m\u001b[0m\u001b[0;34m\u001b[0m\u001b[0m\n\u001b[0m\u001b[1;32m   1057\u001b[0m         \u001b[0;32melse\u001b[0m\u001b[0;34m:\u001b[0m\u001b[0;34m\u001b[0m\u001b[0;34m\u001b[0m\u001b[0m\n\u001b[1;32m   1058\u001b[0m             \u001b[0;31m# the behavior of a negative timeout isn't documented, but\u001b[0m\u001b[0;34m\u001b[0m\u001b[0;34m\u001b[0m\u001b[0;34m\u001b[0m\u001b[0m\n",
            "\u001b[0;32m/anaconda/envs/azureml_py36/lib/python3.6/threading.py\u001b[0m in \u001b[0;36m_wait_for_tstate_lock\u001b[0;34m(self, block, timeout)\u001b[0m\n\u001b[1;32m   1070\u001b[0m         \u001b[0;32mif\u001b[0m \u001b[0mlock\u001b[0m \u001b[0;32mis\u001b[0m \u001b[0;32mNone\u001b[0m\u001b[0;34m:\u001b[0m  \u001b[0;31m# already determined that the C code is done\u001b[0m\u001b[0;34m\u001b[0m\u001b[0;34m\u001b[0m\u001b[0m\n\u001b[1;32m   1071\u001b[0m             \u001b[0;32massert\u001b[0m \u001b[0mself\u001b[0m\u001b[0;34m.\u001b[0m\u001b[0m_is_stopped\u001b[0m\u001b[0;34m\u001b[0m\u001b[0;34m\u001b[0m\u001b[0m\n\u001b[0;32m-> 1072\u001b[0;31m         \u001b[0;32melif\u001b[0m \u001b[0mlock\u001b[0m\u001b[0;34m.\u001b[0m\u001b[0macquire\u001b[0m\u001b[0;34m(\u001b[0m\u001b[0mblock\u001b[0m\u001b[0;34m,\u001b[0m \u001b[0mtimeout\u001b[0m\u001b[0;34m)\u001b[0m\u001b[0;34m:\u001b[0m\u001b[0;34m\u001b[0m\u001b[0;34m\u001b[0m\u001b[0m\n\u001b[0m\u001b[1;32m   1073\u001b[0m             \u001b[0mlock\u001b[0m\u001b[0;34m.\u001b[0m\u001b[0mrelease\u001b[0m\u001b[0;34m(\u001b[0m\u001b[0;34m)\u001b[0m\u001b[0;34m\u001b[0m\u001b[0;34m\u001b[0m\u001b[0m\n\u001b[1;32m   1074\u001b[0m             \u001b[0mself\u001b[0m\u001b[0;34m.\u001b[0m\u001b[0m_stop\u001b[0m\u001b[0;34m(\u001b[0m\u001b[0;34m)\u001b[0m\u001b[0;34m\u001b[0m\u001b[0;34m\u001b[0m\u001b[0m\n",
            "\u001b[0;31mKeyboardInterrupt\u001b[0m: "
          ]
        }
      ],
      "execution_count": 17,
      "metadata": {}
    },
    {
      "cell_type": "code",
      "source": [
        "print(mse(results_KES)) \n",
        "print(mape(results_KES))"
      ],
      "outputs": [
        {
          "output_type": "stream",
          "name": "stdout",
          "text": [
            "(0.7711400625203998, 0.08727561057347544)\n",
            "(13.658909741028978, 1.6363235790594541)\n"
          ]
        }
      ],
      "execution_count": 24,
      "metadata": {}
    },
    {
      "cell_type": "markdown",
      "source": [
        "## linSES"
      ],
      "metadata": {}
    },
    {
      "cell_type": "code",
      "source": [
        "print(len(X[0][0]))"
      ],
      "outputs": [
        {
          "output_type": "stream",
          "name": "stdout",
          "text": [
            "254\n"
          ]
        }
      ],
      "execution_count": 219,
      "metadata": {}
    },
    {
      "cell_type": "code",
      "source": [
        "reload(linSES)\n",
        "reload(sklearn_transformers)\n",
        "m_mse,std_rmse,results_SES = linSES.model(X, y, depths1=[2,3], depth2=1, ll=[0,1], at=True, NUM_TRIALS=5,  cv=3)\n"
      ],
      "outputs": [
        {
          "output_type": "stream",
          "name": "stderr",
          "text": [
            " 20%|██        | 1/5 [00:06<00:25,  6.50s/it]"
          ]
        },
        {
          "output_type": "stream",
          "name": "stdout",
          "text": [
            "best truncation level (cv on train set):  3\n"
          ]
        },
        {
          "output_type": "stream",
          "name": "stderr",
          "text": [
            "\r 40%|████      | 2/5 [00:10<00:17,  5.84s/it]"
          ]
        },
        {
          "output_type": "stream",
          "name": "stdout",
          "text": [
            "best truncation level (cv on train set):  3\n"
          ]
        },
        {
          "output_type": "stream",
          "name": "stderr",
          "text": [
            "\r 60%|██████    | 3/5 [00:14<00:10,  5.34s/it]"
          ]
        },
        {
          "output_type": "stream",
          "name": "stdout",
          "text": [
            "best truncation level (cv on train set):  3\n"
          ]
        },
        {
          "output_type": "stream",
          "name": "stderr",
          "text": [
            "\r 80%|████████  | 4/5 [00:19<00:04,  4.98s/it]"
          ]
        },
        {
          "output_type": "stream",
          "name": "stdout",
          "text": [
            "best truncation level (cv on train set):  3\n"
          ]
        },
        {
          "output_type": "stream",
          "name": "stderr",
          "text": [
            "100%|██████████| 5/5 [00:23<00:00,  4.66s/it]"
          ]
        },
        {
          "output_type": "stream",
          "name": "stdout",
          "text": [
            "best truncation level (cv on train set):  3\n"
          ]
        },
        {
          "output_type": "stream",
          "name": "stderr",
          "text": [
            "\n"
          ]
        }
      ],
      "execution_count": 28,
      "metadata": {}
    },
    {
      "cell_type": "code",
      "source": [
        "print(mse(results_SES)) # 30 %\n",
        "print(mape(results_SES))"
      ],
      "outputs": [
        {
          "output_type": "stream",
          "name": "stdout",
          "text": [
            "(0.6911982409537598, 0.17720411296647087)\n",
            "(11.507106569871326, 2.6926418654168773)\n"
          ]
        }
      ],
      "execution_count": 29,
      "metadata": {}
    },
    {
      "cell_type": "code",
      "source": [
        "def mse(results):\n",
        "    mse_vec = np.zeros(len(results))\n",
        " \n",
        "    for i in range(len(results)):\n",
        "        pred = results[i]['pred']\n",
        "        true = results[i]['true']\n",
        "        mse_vec[i]=np.mean((pred-true)**2)\n",
        "    return np.mean(mse_vec), np.std(mse_vec)\n",
        "\n",
        "def mape(results):\n",
        "    mape_vec = np.zeros(len(results))\n",
        " \n",
        "    for i in range(len(results)):\n",
        "        pred = results[i]['pred']\n",
        "        true = results[i]['true']\n",
        "        mape_vec[i]=np.mean(np.abs((true - pred) / true))*100 \n",
        "    return np.mean(mape_vec), np.std(mape_vec)"
      ],
      "outputs": [],
      "execution_count": 9,
      "metadata": {}
    },
    {
      "cell_type": "code",
      "source": [
        "reload(deep_sets)\n",
        "from sklearn.model_selection import train_test_split\n",
        "import torch\n",
        "batch_size = 50\n",
        "nb_epoch = 500\n",
        "reload(deep_sets)\n",
        "data = X.copy() \n",
        "ll= None\n",
        "at = False\n",
        "from sklearn_transformers import AddTime, LeadLag\n",
        "if ll is not None:\n",
        "    data = LeadLag(ll).fit_transform(data)\n",
        "if at:\n",
        "    data = AddTime().fit_transform(data)"
      ],
      "outputs": [],
      "execution_count": 18,
      "metadata": {}
    },
    {
      "cell_type": "code",
      "source": [
        "MSEs = []\n",
        "results = [] \n",
        "import time \n",
        "start = time.time()\n",
        "for j in range(5):\n",
        "    \n",
        "    X_train, X_test, y_train, y_test = train_test_split([[x.reshape(-1) for x in xx[:14]] for xx in data], y, test_size=0.2, random_state=j)\n",
        "\n",
        "    train = deep_sets.DataIterator(torch.Tensor(X_train), torch.Tensor(y_train), len(X_train), shuffle=True)\n",
        "    test  = deep_sets.DataIterator(torch.Tensor(X_test), torch.Tensor(y_test), 1)\n",
        "\n",
        "    model = deep_sets.DeepSet\n",
        "    \n",
        "    t = deep_sets.Trainer(train.d, model, nb_epoch)\n",
        "    res = t.evaluate(test)\n",
        "    print('initial test', np.mean(res))\n",
        "    t.fit(train,test)\n",
        "    res = t.evaluate(test)\n",
        "    MSEs.append(res)\n",
        "    res_full = t.evaluate(test,return_all=True)\n",
        "    results.append(res_full)\n",
        "    print('final test', np.mean(res))\n",
        "end = time.time()\n",
        "print(end-start)\n",
        "print(np.mean(MSEs), np.std(MSEs))"
      ],
      "outputs": [
        {
          "output_type": "stream",
          "name": "stdout",
          "text": [
            "initial test 37.269398484911235\n",
            "Train loss: 38.394222\n",
            "Train loss: 0.120012\n",
            "Train loss: 0.008707\n",
            "Train loss: 0.000455\n",
            "Train loss: 0.000003\n",
            "Train loss: 0.000000\n",
            "Train loss: 0.000000\n",
            "Train loss: 0.000000\n",
            "Train loss: 0.000000\n",
            "Train loss: 0.000000\n"
          ]
        },
        {
          "output_type": "display_data",
          "data": {
            "image/png": "[encoded data removed]",
            "text/plain": "<Figure size 360x360 with 1 Axes>"
          },
          "metadata": {
            "needs_background": "light"
          }
        },
        {
          "output_type": "stream",
          "name": "stdout",
          "text": [
            "final test 1.7422959958868367\n",
            "initial test 38.04781014578683\n",
            "Train loss: 43.789677\n",
            "Train loss: 0.016178\n",
            "Train loss: 0.003582\n",
            "Train loss: 0.000842\n",
            "Train loss: 0.000127\n",
            "Train loss: 0.000011\n",
            "Train loss: 0.000001\n",
            "Train loss: 0.000000\n",
            "Train loss: 0.000000\n",
            "Train loss: 0.000000\n"
          ]
        },
        {
          "output_type": "display_data",
          "data": {
            "image/png": "[encoded data removed]",
            "text/plain": "<Figure size 360x360 with 1 Axes>"
          },
          "metadata": {
            "needs_background": "light"
          }
        },
        {
          "output_type": "stream",
          "name": "stdout",
          "text": [
            "final test 2.344744556450418\n",
            "initial test 40.733011381966726\n",
            "Train loss: 40.139481\n",
            "Train loss: 0.120969\n",
            "Train loss: 0.004293\n",
            "Train loss: 0.000026\n",
            "Train loss: 0.000000\n",
            "Train loss: 0.000000\n",
            "Train loss: 0.000000\n",
            "Train loss: 0.000000\n",
            "Train loss: 0.000000\n",
            "Train loss: 0.000000\n"
          ]
        },
        {
          "output_type": "display_data",
          "data": {
            "image/png": "[encoded data removed]",
            "text/plain": "<Figure size 360x360 with 1 Axes>"
          },
          "metadata": {
            "needs_background": "light"
          }
        },
        {
          "output_type": "stream",
          "name": "stdout",
          "text": [
            "final test 3.172501739239254\n",
            "initial test 36.99200282778059\n",
            "Train loss: 36.829662\n",
            "Train loss: 0.102796\n",
            "Train loss: 0.003350\n",
            "Train loss: 0.000481\n",
            "Train loss: 0.000033\n",
            "Train loss: 0.000001\n",
            "Train loss: 0.000000\n",
            "Train loss: 0.000000\n"
          ]
        }
      ],
      "execution_count": null,
      "metadata": {}
    },
    {
      "cell_type": "code",
      "source": [
        "for i in range(len(results)):\n",
        "    results[i]['pred']=np.array([e.cpu().numpy()[0][0] for e in results[i]['pred']])\n",
        "    results[i]['true']=np.array([e.cpu().numpy()[0] for e in results[i]['true']])\n",
        "\n",
        "print(mape(results))\n",
        "print(mse(results))"
      ],
      "outputs": [
        {
          "output_type": "stream",
          "name": "stdout",
          "text": [
            "(23.128157556056976, 8.262600714832166)\n",
            "(2.4083415031433106, 1.2341692005475928)\n"
          ]
        }
      ],
      "execution_count": 116,
      "metadata": {}
    },
    {
      "cell_type": "code",
      "source": [],
      "outputs": [],
      "execution_count": null,
      "metadata": {}
    }
  ],
  "metadata": {
    "kernel_info": {
      "name": "python3"
    },
    "kernelspec": {
      "name": "python3",
      "language": "python",
      "display_name": "Python 3"
    },
    "language_info": {
      "name": "python",
      "version": "3.6.9",
      "mimetype": "text/x-python",
      "codemirror_mode": {
        "name": "ipython",
        "version": 3
      },
      "pygments_lexer": "ipython3",
      "nbconvert_exporter": "python",
      "file_extension": ".py"
    },
    "latex_envs": {
      "report_style_numbering": false,
      "hotkeys": {
        "equation": "Ctrl-E",
        "itemize": "Ctrl-I"
      },
      "LaTeX_envs_menu_present": true,
      "autocomplete": true,
      "autoclose": false,
      "eqNumInitial": 1,
      "bibliofile": "biblio.bib",
      "latex_user_defs": false,
      "current_citInitial": 1,
      "eqLabelWithNumbers": true,
      "labels_anchors": false,
      "cite_by": "apalike",
      "user_envs_cfg": false
    },
    "nteract": {
      "version": "nteract-front-end@1.0.0"
    },
    "toc": {
      "toc_position": {},
      "skip_h1_title": false,
      "number_sections": true,
      "title_cell": "Table of Contents",
      "toc_window_display": true,
      "toc_section_display": true,
      "title_sidebar": "Contents",
      "toc_cell": true,
      "nav_menu": {},
      "sideBar": true
    }
  },
  "nbformat": 4,
  "nbformat_minor": 2
}