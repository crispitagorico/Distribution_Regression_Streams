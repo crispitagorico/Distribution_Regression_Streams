{
 "cells": [
  {
   "cell_type": "markdown",
   "metadata": {
    "toc": true
   },
   "source": [
    "<h1>Table of Contents<span class=\"tocSkip\"></span></h1>\n",
    "<div class=\"toc\"><ul class=\"toc-item\"><li><span><a href=\"#Multi-spectral-dataset-(11-years)\" data-toc-modified-id=\"Multi-spectral-dataset-(11-years)-1\"><span class=\"toc-item-num\">1&nbsp;&nbsp;</span>Multi-spectral dataset (11 years)</a></span><ul class=\"toc-item\"><li><span><a href=\"#Un-filtered-data\" data-toc-modified-id=\"Un-filtered-data-1.1\"><span class=\"toc-item-num\">1.1&nbsp;&nbsp;</span>Un-filtered data</a></span></li><li><span><a href=\"#Filtered-data\" data-toc-modified-id=\"Filtered-data-1.2\"><span class=\"toc-item-num\">1.2&nbsp;&nbsp;</span>Filtered data</a></span></li><li><span><a href=\"#Feature-selection-with-the-Lasso\" data-toc-modified-id=\"Feature-selection-with-the-Lasso-1.3\"><span class=\"toc-item-num\">1.3&nbsp;&nbsp;</span>Feature selection with the Lasso</a></span></li></ul></li><li><span><a href=\"#GLDAS/Eurostat-dataset\" data-toc-modified-id=\"GLDAS/Eurostat-dataset-2\"><span class=\"toc-item-num\">2&nbsp;&nbsp;</span>GLDAS/Eurostat dataset</a></span></li><li><span><a href=\"#Crop-yield-prediction-with-the-GLDAS/EUROSTAT-dataset\" data-toc-modified-id=\"Crop-yield-prediction-with-the-GLDAS/EUROSTAT-dataset-3\"><span class=\"toc-item-num\">3&nbsp;&nbsp;</span>Crop yield prediction with the GLDAS/EUROSTAT dataset</a></span><ul class=\"toc-item\"><li><span><a href=\"#DR-RBF\" data-toc-modified-id=\"DR-RBF-3.1\"><span class=\"toc-item-num\">3.1&nbsp;&nbsp;</span>DR-RBF</a></span></li><li><span><a href=\"#DR-Matern\" data-toc-modified-id=\"DR-Matern-3.2\"><span class=\"toc-item-num\">3.2&nbsp;&nbsp;</span>DR-Matern</a></span></li><li><span><a href=\"#DR-GA\" data-toc-modified-id=\"DR-GA-3.3\"><span class=\"toc-item-num\">3.3&nbsp;&nbsp;</span>DR-GA</a></span></li><li><span><a href=\"#KES\" data-toc-modified-id=\"KES-3.4\"><span class=\"toc-item-num\">3.4&nbsp;&nbsp;</span>KES</a></span></li><li><span><a href=\"#SES\" data-toc-modified-id=\"SES-3.5\"><span class=\"toc-item-num\">3.5&nbsp;&nbsp;</span>SES</a></span></li><li><span><a href=\"#DeepSets\" data-toc-modified-id=\"DeepSets-3.6\"><span class=\"toc-item-num\">3.6&nbsp;&nbsp;</span>DeepSets</a></span></li><li><span><a href=\"#Results\" data-toc-modified-id=\"Results-3.7\"><span class=\"toc-item-num\">3.7&nbsp;&nbsp;</span>Results</a></span></li></ul></li></ul></div>"
   ]
  },
  {
   "cell_type": "code",
   "execution_count": 1,
   "metadata": {},
   "outputs": [],
   "source": [
    "import sys\n",
    "sys.path.append('../src')\n",
    "import warnings\n",
    "warnings.filterwarnings('ignore')\n",
    "import time \n",
    "\n",
    "import pickle\n",
    "import numpy as np\n",
    "import matplotlib.pyplot as plt\n",
    "from importlib import reload\n",
    "from tqdm import tqdm\n",
    "import pandas as pd\n",
    "\n",
    "import utils_crops\n",
    "import esig.tosig as esig\n",
    "\n",
    "import DR_RBF\n",
    "import DR_GA\n",
    "import DR_Matern\n",
    "import KES\n",
    "import SES\n",
    "import sklearn_transformers\n",
    "import deep_sets\n",
    "\n",
    "import sklearn_transformers\n",
    "import iisignature\n",
    "from sklearn.linear_model import LassoCV\n",
    "\n",
    "import matplotlib.pylab as pylab\n",
    "params = {'legend.fontsize': 'x-large',\n",
    "          'figure.figsize': (5, 5),\n",
    "          'axes.labelsize': 'x-large',\n",
    "          'axes.titlesize':'x-large',\n",
    "          'xtick.labelsize':'x-large',\n",
    "          'ytick.labelsize':'x-large'}\n",
    "pylab.rcParams.update(params)"
   ]
  },
  {
   "cell_type": "markdown",
   "metadata": {},
   "source": [
    "# Multi-spectral dataset (11 years)"
   ]
  },
  {
   "cell_type": "code",
   "execution_count": 23,
   "metadata": {},
   "outputs": [],
   "source": [
    "targets_dico = pickle.load(open('../data/labels_ndvi_dico.obj', 'rb')) # dictionary containing the yields\n",
    "y = list(targets_dico.values()) # yield targets"
   ]
  },
  {
   "cell_type": "markdown",
   "metadata": {},
   "source": [
    "## Un-filtered data"
   ]
  },
  {
   "cell_type": "code",
   "execution_count": 24,
   "metadata": {},
   "outputs": [],
   "source": [
    "X = pickle.load(open('../data/bags_ndvi.obj','rb'))"
   ]
  },
  {
   "cell_type": "markdown",
   "metadata": {},
   "source": [
    "## Filtered data\n"
   ]
  },
  {
   "cell_type": "code",
   "execution_count": 20,
   "metadata": {},
   "outputs": [],
   "source": [
    "# X, target_dico_filter = utils_crops.filter_ndvi_data(X,targets_dico)\n",
    "# y = list(target_dico_filter.values())"
   ]
  },
  {
   "cell_type": "markdown",
   "metadata": {},
   "source": [
    "## Feature selection with the Lasso"
   ]
  },
  {
   "cell_type": "code",
   "execution_count": 25,
   "metadata": {},
   "outputs": [],
   "source": [
    "# to possibly augment the state space of the time-series\n",
    "ll = None\n",
    "at = False\n",
    "\n",
    "# signature truncation levels \n",
    "depth1 = 2\n",
    "depth2 = 2\n",
    " \n",
    "# possibly augment the state space of the time-series\n",
    "if ll is not None:\n",
    "    X = sklearn_transformers.LeadLag(ll).fit_transform(X)\n",
    "if at:\n",
    "    X = sklearn_transformers.AddTime().fit_transform(X)\n",
    "\n",
    "pwES =  sklearn_transformers.pathwiseExpectedSignatureTransform(order=depth1).fit_transform(X)\n",
    "SpwES = sklearn_transformers.SignatureTransform(order=depth2).fit_transform(pwES)\n"
   ]
  },
  {
   "cell_type": "code",
   "execution_count": 26,
   "metadata": {},
   "outputs": [],
   "source": [
    "clf = LassoCV(cv=20, normalize=True).fit(SpwES, y)\n",
    "importance = np.abs(clf.coef_)"
   ]
  },
  {
   "cell_type": "code",
   "execution_count": 27,
   "metadata": {},
   "outputs": [],
   "source": [
    "dico = {1:'nR',2:'R'}\n",
    "dico = utils_crops.get_sig_keys(utils_crops.get_sig_keys(dico,2),2)\n",
    "interpretability = {sig_term:val for sig_term,val in zip(dico.values(),importance)}"
   ]
  },
  {
   "cell_type": "code",
   "execution_count": 30,
   "metadata": {
    "scrolled": false
   },
   "outputs": [],
   "source": [
    "df = pd.DataFrame.from_dict(interpretability, orient='index').sort_values(0, ascending=True).iloc[25:,:]\n",
    "df.columns = ['feature importance']"
   ]
  },
  {
   "cell_type": "code",
   "execution_count": 31,
   "metadata": {},
   "outputs": [
    {
     "data": {
      "image/png": "[encoded data removed]",
      "text/plain": [
       "<Figure size 360x360 with 1 Axes>"
      ]
     },
     "metadata": {
      "needs_background": "light"
     },
     "output_type": "display_data"
    }
   ],
   "source": [
    "fig, ax = plt.subplots()\n",
    "df.plot(kind='barh', color='blue', ax=ax, grid=False)\n",
    "ax.legend(loc='lower right')\n",
    "plt.xticks([])\n",
    "#plt.savefig('../pictures/feature_importance.png')\n",
    "plt.show()"
   ]
  },
  {
   "cell_type": "markdown",
   "metadata": {},
   "source": [
    "# GLDAS/Eurostat dataset"
   ]
  },
  {
   "cell_type": "markdown",
   "metadata": {},
   "source": [
    "**load the yield data (Eurostat)**"
   ]
  },
  {
   "cell_type": "code",
   "execution_count": 2,
   "metadata": {},
   "outputs": [],
   "source": [
    "targets_dico = pickle.load(open('../data/clim_labels.obj', 'rb'))\n",
    "y = list(targets_dico.values())"
   ]
  },
  {
   "cell_type": "markdown",
   "metadata": {},
   "source": [
    "**load the 6-hourly climatic data (GLDAS)**"
   ]
  },
  {
   "cell_type": "code",
   "execution_count": 3,
   "metadata": {},
   "outputs": [],
   "source": [
    "input1 = pickle.load(open('../data/clim_bags_1.obj', 'rb'))\n",
    "input2 = pickle.load(open('../data/clim_bags_2.obj', 'rb'))\n",
    "X = input1 + input2"
   ]
  },
  {
   "cell_type": "code",
   "execution_count": 4,
   "metadata": {},
   "outputs": [],
   "source": [
    "# Subsample the data for the experiment\n",
    "reload(utils_crops)\n",
    "subsamping_rate = 0.5 # fraction of observations to drop\n",
    "X = utils_crops.subsample(input_=X,p=subsamping_rate,N_items=30,time=False)"
   ]
  },
  {
   "cell_type": "markdown",
   "metadata": {},
   "source": [
    "# Crop yield prediction with the GLDAS/EUROSTAT dataset"
   ]
  },
  {
   "cell_type": "markdown",
   "metadata": {},
   "source": [
    "## DR-RBF"
   ]
  },
  {
   "cell_type": "code",
   "execution_count": 5,
   "metadata": {},
   "outputs": [
    {
     "name": "stderr",
     "output_type": "stream",
     "text": [
      "100%|██████████| 5/5 [02:17<00:00, 27.54s/it]\n"
     ]
    }
   ],
   "source": [
    "m_mse,std_mse,results_RBF = DR_RBF.model(X=X, y=y, ll=None, at=False, mode='krr', NUM_TRIALS=5,  cv=3)"
   ]
  },
  {
   "cell_type": "markdown",
   "metadata": {},
   "source": [
    "## DR-Matern"
   ]
  },
  {
   "cell_type": "code",
   "execution_count": 8,
   "metadata": {},
   "outputs": [
    {
     "name": "stderr",
     "output_type": "stream",
     "text": [
      "100%|██████████| 5/5 [02:18<00:00, 27.70s/it]\n"
     ]
    }
   ],
   "source": [
    "m_mse,std_mse,results_Matern = DR_Matern.model(X=X, y=y, ll=None, at=False, mode='krr', NUM_TRIALS=5,  cv=3)"
   ]
  },
  {
   "cell_type": "markdown",
   "metadata": {},
   "source": [
    "## DR-GA"
   ]
  },
  {
   "cell_type": "code",
   "execution_count": 10,
   "metadata": {},
   "outputs": [
    {
     "name": "stderr",
     "output_type": "stream",
     "text": [
      "[Parallel(n_jobs=-1)]: Using backend LokyBackend with 128 concurrent workers.\n",
      "[Parallel(n_jobs=-1)]: Done  32 tasks      | elapsed:   24.9s\n",
      "[Parallel(n_jobs=-1)]: Done 256 tasks      | elapsed:   55.4s\n",
      "[Parallel(n_jobs=-1)]: Done 544 tasks      | elapsed:  1.7min\n",
      "[Parallel(n_jobs=-1)]: Done 896 tasks      | elapsed:  2.6min\n",
      "[Parallel(n_jobs=-1)]: Done 1312 tasks      | elapsed:  3.6min\n",
      "[Parallel(n_jobs=-1)]: Done 1792 tasks      | elapsed:  4.9min\n",
      "[Parallel(n_jobs=-1)]: Done 2211 out of 2211 | elapsed:  6.0min finished\n"
     ]
    },
    {
     "name": "stdout",
     "output_type": "stream",
     "text": [
      "best lambda (cv on the train set):  0.001\n",
      "best lambda (cv on the train set):  0.001\n",
      "best lambda (cv on the train set):  0.001\n",
      "best lambda (cv on the train set):  0.001\n",
      "best lambda (cv on the train set):  0.001\n"
     ]
    }
   ],
   "source": [
    "m_mse,std_mse,results_GA = DR_GA.model(X=X, y=y, ll=None, at=False, lambdas=[0.001], mode='krr', NUM_TRIALS=5,  cv=3)"
   ]
  },
  {
   "cell_type": "markdown",
   "metadata": {},
   "source": [
    "## KES"
   ]
  },
  {
   "cell_type": "code",
   "execution_count": 16,
   "metadata": {},
   "outputs": [
    {
     "name": "stderr",
     "output_type": "stream",
     "text": [
      "  0%|          | 0/1 [00:00<?, ?it/s][Parallel(n_jobs=-1)]: Using backend LokyBackend with 128 concurrent workers.\n",
      "[Parallel(n_jobs=-1)]: Done  32 tasks      | elapsed:    7.4s\n",
      "[Parallel(n_jobs=-1)]: Done 256 tasks      | elapsed:   19.1s\n",
      "[Parallel(n_jobs=-1)]: Done 544 tasks      | elapsed:   37.6s\n",
      "[Parallel(n_jobs=-1)]: Done 896 tasks      | elapsed:  1.0min\n",
      "[Parallel(n_jobs=-1)]: Done 1312 tasks      | elapsed:  1.4min\n",
      "[Parallel(n_jobs=-1)]: Done 1792 tasks      | elapsed:  1.9min\n",
      "[Parallel(n_jobs=-1)]: Done 2211 out of 2211 | elapsed:  2.3min finished\n",
      "100%|██████████| 1/1 [02:19<00:00, 139.57s/it]\n",
      " 20%|██        | 1/5 [00:00<00:01,  2.24it/s]"
     ]
    },
    {
     "name": "stdout",
     "output_type": "stream",
     "text": [
      "best scaling parameter (cv on the train set):  0.06\n"
     ]
    },
    {
     "name": "stderr",
     "output_type": "stream",
     "text": [
      "\r",
      " 40%|████      | 2/5 [00:00<00:01,  2.54it/s]"
     ]
    },
    {
     "name": "stdout",
     "output_type": "stream",
     "text": [
      "best scaling parameter (cv on the train set):  0.06\n"
     ]
    },
    {
     "name": "stderr",
     "output_type": "stream",
     "text": [
      "\r",
      " 60%|██████    | 3/5 [00:01<00:00,  2.75it/s]"
     ]
    },
    {
     "name": "stdout",
     "output_type": "stream",
     "text": [
      "best scaling parameter (cv on the train set):  0.06\n"
     ]
    },
    {
     "name": "stderr",
     "output_type": "stream",
     "text": [
      "\r",
      " 80%|████████  | 4/5 [00:01<00:00,  2.95it/s]"
     ]
    },
    {
     "name": "stdout",
     "output_type": "stream",
     "text": [
      "best scaling parameter (cv on the train set):  0.06\n"
     ]
    },
    {
     "name": "stderr",
     "output_type": "stream",
     "text": [
      "100%|██████████| 5/5 [00:01<00:00,  3.21it/s]"
     ]
    },
    {
     "name": "stdout",
     "output_type": "stream",
     "text": [
      "best scaling parameter (cv on the train set):  0.06\n"
     ]
    },
    {
     "name": "stderr",
     "output_type": "stream",
     "text": [
      "\n"
     ]
    }
   ],
   "source": [
    "m_mse,std_mse,results_KES = KES.model(X, y,ll=None, at=False, scales=[0.06],mode='krr', NUM_TRIALS=5,  cv=3)"
   ]
  },
  {
   "cell_type": "markdown",
   "metadata": {},
   "source": [
    "## SES"
   ]
  },
  {
   "cell_type": "code",
   "execution_count": 14,
   "metadata": {},
   "outputs": [
    {
     "name": "stderr",
     "output_type": "stream",
     "text": [
      " 20%|██        | 1/5 [00:04<00:17,  4.27s/it]"
     ]
    },
    {
     "name": "stdout",
     "output_type": "stream",
     "text": [
      "best truncation level (cv on train set):  3\n"
     ]
    },
    {
     "name": "stderr",
     "output_type": "stream",
     "text": [
      "\r",
      " 40%|████      | 2/5 [00:08<00:12,  4.24s/it]"
     ]
    },
    {
     "name": "stdout",
     "output_type": "stream",
     "text": [
      "best truncation level (cv on train set):  3\n"
     ]
    },
    {
     "name": "stderr",
     "output_type": "stream",
     "text": [
      "\r",
      " 60%|██████    | 3/5 [00:12<00:08,  4.22s/it]"
     ]
    },
    {
     "name": "stdout",
     "output_type": "stream",
     "text": [
      "best truncation level (cv on train set):  3\n"
     ]
    },
    {
     "name": "stderr",
     "output_type": "stream",
     "text": [
      "\r",
      " 80%|████████  | 4/5 [00:16<00:04,  4.17s/it]"
     ]
    },
    {
     "name": "stdout",
     "output_type": "stream",
     "text": [
      "best truncation level (cv on train set):  3\n"
     ]
    },
    {
     "name": "stderr",
     "output_type": "stream",
     "text": [
      "100%|██████████| 5/5 [00:20<00:00,  4.15s/it]"
     ]
    },
    {
     "name": "stdout",
     "output_type": "stream",
     "text": [
      "best truncation level (cv on train set):  3\n"
     ]
    },
    {
     "name": "stderr",
     "output_type": "stream",
     "text": [
      "\n"
     ]
    }
   ],
   "source": [
    "m_mse,std_mse,results_SES = SES.model(X, y, depths1=[2,3], depth2=1, ll=[0,1], at=True, NUM_TRIALS=5,  cv=3)"
   ]
  },
  {
   "cell_type": "markdown",
   "metadata": {},
   "source": [
    "## DeepSets"
   ]
  },
  {
   "cell_type": "code",
   "execution_count": 19,
   "metadata": {},
   "outputs": [],
   "source": [
    "reload(deep_sets)\n",
    "from sklearn.model_selection import train_test_split\n",
    "from sklearn_transformers import AddTime, LeadLag\n",
    "import torch\n",
    "import torch.optim as optim\n",
    "\n",
    "batch_size = 50\n",
    "nb_epoch = 500\n",
    "\n",
    "data = X.copy() \n",
    "ll= None\n",
    "at = False\n",
    "\n",
    "if ll is not None:\n",
    "    data = LeadLag(ll).fit_transform(data)\n",
    "if at:\n",
    "    data = AddTime().fit_transform(data)"
   ]
  },
  {
   "cell_type": "code",
   "execution_count": null,
   "metadata": {},
   "outputs": [],
   "source": [
    "MSEs = []\n",
    "results_deepsets = [] \n",
    "\n",
    "start = time.time()\n",
    "for j in range(5):\n",
    "    \n",
    "    X_train, X_test, y_train, y_test = train_test_split([[x.reshape(-1) for x in xx[:14]] for xx in data], y, test_size=0.2, random_state=j)\n",
    "\n",
    "    train = deep_sets.DataIterator(torch.Tensor(X_train), torch.Tensor(y_train), len(X_train), shuffle=True)\n",
    "    test  = deep_sets.DataIterator(torch.Tensor(X_test), torch.Tensor(y_test), 1)\n",
    "\n",
    "    model = deep_sets.DeepSet\n",
    "    \n",
    "    t = deep_sets.Trainer(train.d, model, nb_epoch)\n",
    "    t.optim = optim.Adam(t.model.parameters(), lr=1e-3)\n",
    "    t.fit(train,test)\n",
    "    \n",
    "    res = t.evaluate(test)\n",
    "    MSEs.append(res)\n",
    "    \n",
    "    res_full = t.evaluate(test,return_all=True)\n",
    "    results_deepsets.append(res_full)\n",
    "\n",
    "\n",
    "end = time.time()\n",
    "\n",
    "print('time', end-start)\n",
    "\n",
    "print(np.mean(MSEs), np.std(MSEs))\n",
    "\n",
    "\n",
    "for i in range(len(results_deepsets)):\n",
    "    results_deepsets[i]['pred']=np.array([e.cpu().numpy()[0][0] for e in results_deepsets[i]['pred']])\n",
    "    results_deepsets[i]['true']=np.array([e.cpu().numpy()[0] for e in results_deepsets[i]['true']])\n",
    "\n"
   ]
  },
  {
   "cell_type": "markdown",
   "metadata": {},
   "source": [
    "## Results"
   ]
  },
  {
   "cell_type": "code",
   "execution_count": 36,
   "metadata": {},
   "outputs": [],
   "source": [
    "from utils import mape as mape\n",
    "from utils import mse as mse"
   ]
  },
  {
   "cell_type": "code",
   "execution_count": 39,
   "metadata": {},
   "outputs": [],
   "source": [
    "print('DR-RBF', mape(results_RBF))\n",
    "print('DR-Matern', mape(results_Matern))\n",
    "print('DR-GA',mape(results_GA))\n",
    "print('KES',mape(results_KES))\n",
    "print('SES',mape(results_SES))\n",
    "print('DeepSets',mape(results_deepsets))"
   ]
  }
 ],
 "metadata": {
  "kernel_info": {
   "name": "python3"
  },
  "kernelspec": {
   "display_name": "Python 3",
   "language": "python",
   "name": "python3"
  },
  "language_info": {
   "codemirror_mode": {
    "name": "ipython",
    "version": 3
   },
   "file_extension": ".py",
   "mimetype": "text/x-python",
   "name": "python",
   "nbconvert_exporter": "python",
   "pygments_lexer": "ipython3",
   "version": "3.6.9"
  },
  "latex_envs": {
   "LaTeX_envs_menu_present": true,
   "autoclose": false,
   "autocomplete": true,
   "bibliofile": "biblio.bib",
   "cite_by": "apalike",
   "current_citInitial": 1,
   "eqLabelWithNumbers": true,
   "eqNumInitial": 1,
   "hotkeys": {
    "equation": "Ctrl-E",
    "itemize": "Ctrl-I"
   },
   "labels_anchors": false,
   "latex_user_defs": false,
   "report_style_numbering": false,
   "user_envs_cfg": false
  },
  "nteract": {
   "version": "nteract-front-end@1.0.0"
  },
  "toc": {
   "nav_menu": {},
   "number_sections": true,
   "sideBar": true,
   "skip_h1_title": false,
   "title_cell": "Table of Contents",
   "title_sidebar": "Contents",
   "toc_cell": true,
   "toc_position": {},
   "toc_section_display": true,
   "toc_window_display": true
  }
 },
 "nbformat": 4,
 "nbformat_minor": 2
}
