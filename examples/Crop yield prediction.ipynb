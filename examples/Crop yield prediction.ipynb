{
 "cells": [
  {
   "cell_type": "markdown",
   "metadata": {
    "toc": true
   },
   "source": [
    "<h1>Table of Contents<span class=\"tocSkip\"></span></h1>\n",
    "<div class=\"toc\"><ul class=\"toc-item\"></ul></div>"
   ]
  },
  {
   "cell_type": "code",
   "execution_count": 282,
   "metadata": {},
   "outputs": [],
   "source": [
    "import sys\n",
    "sys.path.append('../src')\n",
    "import warnings\n",
    "warnings.filterwarnings('ignore')\n",
    "\n",
    "import pickle\n",
    "import numpy as np\n",
    "import matplotlib.pyplot as plt\n",
    "from importlib import reload\n",
    "from tqdm import tqdm\n",
    "import pandas as pd\n",
    "import seaborn as sns\n",
    "\n",
    "import utils_crops\n",
    "import esig.tosig as esig\n",
    "\n",
    "import RBF_RBF\n",
    "import ESig_RBF\n",
    "import LinSigESig\n",
    "import deep_sets\n",
    "\n",
    "from utils import AddTime, LeadLag\n",
    "import iisignature\n",
    "from sklearn.linear_model import LassoCV\n",
    "\n",
    "import matplotlib.pylab as pylab\n",
    "params = {'legend.fontsize': 'x-large',\n",
    "          'figure.figsize': (8, 8),\n",
    "          'font.size': 10,\n",
    "          'axes.labelsize': 'x-large',\n",
    "          'axes.titlesize':'x-large',\n",
    "          'xtick.labelsize':'x-large',\n",
    "          'ytick.labelsize':'x-large'}\n",
    "pylab.rcParams.update(params)"
   ]
  },
  {
   "cell_type": "markdown",
   "metadata": {},
   "source": [
    "# Climatic dataset (3 years)"
   ]
  },
  {
   "cell_type": "code",
   "execution_count": 195,
   "metadata": {},
   "outputs": [],
   "source": [
    "targets_dico = pickle.load(open('../data/clim_labels.obj', 'rb'))\n",
    "y = list(targets_dico.values())"
   ]
  },
  {
   "cell_type": "markdown",
   "metadata": {},
   "source": [
    "### 3-hourly "
   ]
  },
  {
   "cell_type": "code",
   "execution_count": 252,
   "metadata": {},
   "outputs": [],
   "source": [
    "reload(utils_crops)\n",
    "input1 = pickle.load(open('../data/clim_bags_1.obj', 'rb'))\n",
    "input2 = pickle.load(open('../data/clim_bags_2.obj', 'rb'))\n",
    "X = input1 + input2"
   ]
  },
  {
   "cell_type": "code",
   "execution_count": 4,
   "metadata": {},
   "outputs": [],
   "source": [
    "# possibly subsample the data\n",
    "subsamping_rate = 0.4 # fraction of observations to drop\n",
    "X = utils_crops.subsample(X,subsamping_rate)"
   ]
  },
  {
   "cell_type": "markdown",
   "metadata": {},
   "source": [
    "###  daily averages"
   ]
  },
  {
   "cell_type": "code",
   "execution_count": 183,
   "metadata": {},
   "outputs": [],
   "source": [
    "X = pickle.load(open('../data/clim_summary_bags.obj', 'rb'))"
   ]
  },
  {
   "cell_type": "markdown",
   "metadata": {},
   "source": [
    "**Cross validation type**"
   ]
  },
  {
   "cell_type": "code",
   "execution_count": 6,
   "metadata": {},
   "outputs": [
    {
     "data": {
      "text/plain": [
       "<module 'utils_crops' from '../src\\\\utils_crops.py'>"
      ]
     },
     "execution_count": 6,
     "metadata": {},
     "output_type": "execute_result"
    }
   ],
   "source": [
    "reload(utils_crops)"
   ]
  },
  {
   "cell_type": "code",
   "execution_count": 7,
   "metadata": {},
   "outputs": [],
   "source": [
    "# cv = utils_crops.temporal_CV(targets_dico)\n",
    "# cv = utils_crops.spatial_CV(5, targets_dico)"
   ]
  },
  {
   "cell_type": "markdown",
   "metadata": {},
   "source": [
    "**Fit the models**"
   ]
  },
  {
   "cell_type": "code",
   "execution_count": 8,
   "metadata": {},
   "outputs": [
    {
     "data": {
      "text/plain": [
       "<module 'RBF_RBF' from '../src\\\\RBF_RBF.py'>"
      ]
     },
     "execution_count": 8,
     "metadata": {},
     "output_type": "execute_result"
    }
   ],
   "source": [
    "reload(RBF_RBF)"
   ]
  },
  {
   "cell_type": "code",
   "execution_count": null,
   "metadata": {},
   "outputs": [
    {
     "name": "stderr",
     "output_type": "stream",
     "text": [
      "\r",
      "  0%|                                                                                            | 0/5 [00:00<?, ?it/s]"
     ]
    }
   ],
   "source": [
    "RBF_RBF.model(X=X, y=y, ll=None, at=False, mode='krr', NUM_TRIALS=5,  cv=3)"
   ]
  },
  {
   "cell_type": "code",
   "execution_count": null,
   "metadata": {},
   "outputs": [
    {
     "name": "stderr",
     "output_type": "stream",
     "text": [
      "\r",
      "  0%|          | 0/66 [00:00<?, ?it/s]"
     ]
    }
   ],
   "source": [
    "ESig_RBF.model(X, y, 3, ll=[0,1], at=True, ss=True, mode='krr', NUM_TRIALS=5,  cv=3)"
   ]
  },
  {
   "cell_type": "code",
   "execution_count": 9,
   "metadata": {},
   "outputs": [
    {
     "name": "stderr",
     "output_type": "stream",
     "text": [
      "100%|██████████| 66/66 [00:48<00:00,  1.27s/it]\n",
      "100%|██████████| 5/5 [03:49<00:00, 44.52s/it]\n"
     ]
    },
    {
     "data": {
      "text/plain": [
       "(0.7111547231758913, 0.03671297198586066)"
      ]
     },
     "execution_count": 9,
     "metadata": {},
     "output_type": "execute_result"
    }
   ],
   "source": [
    "LinSigESig.model(X, y, 2, 2, ll=None, at=True, ss=True, NUM_TRIALS=5,  cv=3)"
   ]
  },
  {
   "cell_type": "code",
   "execution_count": null,
   "metadata": {},
   "outputs": [],
   "source": []
  },
  {
   "cell_type": "markdown",
   "metadata": {},
   "source": [
    "# Interpretability: multi-spectral dataset (11 years)"
   ]
  },
  {
   "cell_type": "code",
   "execution_count": 296,
   "metadata": {},
   "outputs": [],
   "source": [
    "# targets_dico = pickle.load(open('../data/labels_2006_2018_daily.obj', 'rb'))\n",
    "# y = list(targets_dico[:,0])"
   ]
  },
  {
   "cell_type": "code",
   "execution_count": 315,
   "metadata": {},
   "outputs": [],
   "source": [
    "# X = pickle.load(open('../data/clim_2006_2018_daily.obj', 'rb'))"
   ]
  },
  {
   "cell_type": "code",
   "execution_count": 324,
   "metadata": {},
   "outputs": [],
   "source": [
    "# ll = None\n",
    "# at = False\n",
    "# depth1 = 2\n",
    "# depth2 = 2\n",
    "\n",
    "# X_sigEsig = []\n",
    "    \n",
    "# # take sigEsig feature map\n",
    "# for bag in tqdm(X):\n",
    "#     intermediate = []\n",
    "#     for path in bag:\n",
    "#         if ll is not None:\n",
    "#             path = LeadLag(ll).fit_transform([path])[0]\n",
    "#         if at:\n",
    "#             path = AddTime().fit_transform([path])[0]\n",
    "#         sig_path = iisignature.sig(path, depth1, 2) \n",
    "#         intermediate.append(sig_path)\n",
    "\n",
    "#     try:\n",
    "#         intermediate = iisignature.sig(intermediate, depth2)\n",
    "#     except:\n",
    "#         intermediate_intermediate = []\n",
    "#         for p in intermediate:\n",
    "#             try:\n",
    "#                 intermediate_intermediate.append(iisignature.sig(p, depth2))\n",
    "#             except:\n",
    "#                 pass\n",
    "#         intermediate = np.array(intermediate_intermediate)\n",
    "\n",
    "#     X_sigEsig.append(intermediate.mean(0))\n",
    "# X_sigEsig = np.array(X_sigEsig)"
   ]
  },
  {
   "cell_type": "code",
   "execution_count": 299,
   "metadata": {},
   "outputs": [],
   "source": [
    "#cv = utils_crops.temporal_CV(targets_dico)\n",
    "#cv = utils_crops.spatial_CV(7, targets_dico)"
   ]
  },
  {
   "cell_type": "code",
   "execution_count": 325,
   "metadata": {},
   "outputs": [],
   "source": [
    "# clf = LassoCV(cv=20, normalize=False).fit(X_sigEsig, y)\n",
    "# importance = np.abs(clf.coef_)"
   ]
  },
  {
   "cell_type": "code",
   "execution_count": 326,
   "metadata": {},
   "outputs": [],
   "source": [
    "# dico = {1:'Temp', 2:'Hum', 3:'Rain'}\n",
    "# dico = utils_crops.get_sig_keys(utils_crops.get_sig_keys(dico,2),2)\n",
    "# interpretability = {sig_term:val for sig_term,val in zip(dico.values(),importance)}"
   ]
  },
  {
   "cell_type": "code",
   "execution_count": 310,
   "metadata": {
    "scrolled": false
   },
   "outputs": [],
   "source": [
    "# df = pd.DataFrame.from_dict(interpretability, orient='index').sort_values(0, ascending=False).iloc[:10,:]\n",
    "# df.columns = ['feature importance']"
   ]
  },
  {
   "cell_type": "code",
   "execution_count": 327,
   "metadata": {},
   "outputs": [],
   "source": [
    "# # fig, ax = plt.subplots()\n",
    "\n",
    "# df['colors'] = 'blue'\n",
    "# df.loc[df['feature importance']>=0,'colors'] = 'blue'\n",
    "\n",
    "# # df.plot(kind='bar', color=df.colors, ax=ax, grid=False, fontsize=20)\n",
    "# plt.bar(df.index, df['feature importance'], color=df.colors, alpha=0.6)\n",
    "# plt.legend(['feature importance'], loc='upper right', fontsize=18)\n",
    "# # plt.xticks([])\n",
    "# plt.yticks([])\n",
    "# # ax.axis('off')\n",
    "# plt.xticks(rotation=45)\n",
    "# plt.tight_layout()\n",
    "# plt.savefig('../pictures/feature_importance.png')\n",
    "# plt.show()"
   ]
  },
  {
   "cell_type": "code",
   "execution_count": null,
   "metadata": {},
   "outputs": [],
   "source": []
  }
 ],
 "metadata": {
  "kernelspec": {
   "display_name": "Python 3",
   "language": "python",
   "name": "python3"
  },
  "language_info": {
   "codemirror_mode": {
    "name": "ipython",
    "version": 3
   },
   "file_extension": ".py",
   "mimetype": "text/x-python",
   "name": "python",
   "nbconvert_exporter": "python",
   "pygments_lexer": "ipython3",
   "version": "3.6.5"
  },
  "latex_envs": {
   "LaTeX_envs_menu_present": true,
   "autoclose": false,
   "autocomplete": true,
   "bibliofile": "biblio.bib",
   "cite_by": "apalike",
   "current_citInitial": 1,
   "eqLabelWithNumbers": true,
   "eqNumInitial": 1,
   "hotkeys": {
    "equation": "Ctrl-E",
    "itemize": "Ctrl-I"
   },
   "labels_anchors": false,
   "latex_user_defs": false,
   "report_style_numbering": false,
   "user_envs_cfg": false
  },
  "toc": {
   "nav_menu": {},
   "number_sections": true,
   "sideBar": true,
   "skip_h1_title": false,
   "title_cell": "Table of Contents",
   "title_sidebar": "Contents",
   "toc_cell": true,
   "toc_position": {},
   "toc_section_display": true,
   "toc_window_display": true
  }
 },
 "nbformat": 4,
 "nbformat_minor": 2
}
