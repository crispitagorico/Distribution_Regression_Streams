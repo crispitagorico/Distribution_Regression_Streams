{
 "cells": [
  {
   "cell_type": "markdown",
   "metadata": {
    "toc": true
   },
   "source": [
    "<h1>Table of Contents<span class=\"tocSkip\"></span></h1>\n",
    "<div class=\"toc\"><ul class=\"toc-item\"><li><span><a href=\"#Interpretability:-multi-spectral-dataset-(11-years)\" data-toc-modified-id=\"Interpretability:-multi-spectral-dataset-(11-years)-1\"><span class=\"toc-item-num\">1&nbsp;&nbsp;</span>Interpretability: multi-spectral dataset (11 years)</a></span><ul class=\"toc-item\"><li><ul class=\"toc-item\"><li><span><a href=\"#Un-filtered-data\" data-toc-modified-id=\"Un-filtered-data-1.0.1\"><span class=\"toc-item-num\">1.0.1&nbsp;&nbsp;</span>Un-filtered data</a></span></li><li><span><a href=\"#Filtered-data\" data-toc-modified-id=\"Filtered-data-1.0.2\"><span class=\"toc-item-num\">1.0.2&nbsp;&nbsp;</span>Filtered data</a></span></li></ul></li></ul></li><li><span><a href=\"#Climatic-dataset-(3-years)\" data-toc-modified-id=\"Climatic-dataset-(3-years)-2\"><span class=\"toc-item-num\">2&nbsp;&nbsp;</span>Climatic dataset (3 years)</a></span><ul class=\"toc-item\"><li><ul class=\"toc-item\"><li><span><a href=\"#3-hourly\" data-toc-modified-id=\"3-hourly-2.0.1\"><span class=\"toc-item-num\">2.0.1&nbsp;&nbsp;</span>3-hourly</a></span></li><li><span><a href=\"#daily-averages\" data-toc-modified-id=\"daily-averages-2.0.2\"><span class=\"toc-item-num\">2.0.2&nbsp;&nbsp;</span>daily averages</a></span></li></ul></li></ul></li></ul></div>"
   ]
  },
  {
   "cell_type": "code",
   "execution_count": 1,
   "metadata": {},
   "outputs": [],
   "source": [
    "import sys\n",
    "sys.path.append('../src')\n",
    "import warnings\n",
    "warnings.filterwarnings('ignore')\n",
    "\n",
    "import pickle\n",
    "import numpy as np\n",
    "import matplotlib.pyplot as plt\n",
    "from importlib import reload\n",
    "from tqdm import tqdm\n",
    "import pandas as pd\n",
    "import seaborn as sns\n",
    "\n",
    "import utils_crops\n",
    "import esig.tosig as esig\n",
    "\n",
    "import RBF_RBF\n",
    "import kerES\n",
    "import linSES\n",
    "import sklearn_transformers\n",
    "\n",
    "import iisignature\n",
    "from sklearn.linear_model import LassoCV\n",
    "\n",
    "import matplotlib.pylab as pylab\n",
    "params = {'legend.fontsize': 'x-large',\n",
    "          'figure.figsize': (5, 5),\n",
    "          'axes.labelsize': 'x-large',\n",
    "          'axes.titlesize':'x-large',\n",
    "          'xtick.labelsize':'x-large',\n",
    "          'ytick.labelsize':'x-large'}\n",
    "pylab.rcParams.update(params)"
   ]
  },
  {
   "cell_type": "markdown",
   "metadata": {},
   "source": [
    "# Interpretability: multi-spectral dataset (11 years)"
   ]
  },
  {
   "cell_type": "code",
   "execution_count": 3,
   "metadata": {},
   "outputs": [],
   "source": [
    "targets_dico = pickle.load(open('../data/labels_ndvi_dico.obj', 'rb'))\n",
    "y = list(targets_dico.values())"
   ]
  },
  {
   "cell_type": "markdown",
   "metadata": {},
   "source": [
    "### Un-filtered data"
   ]
  },
  {
   "cell_type": "code",
   "execution_count": 4,
   "metadata": {},
   "outputs": [],
   "source": [
    "X = pickle.load(open('../data/bags_ndvi.obj','rb'))"
   ]
  },
  {
   "cell_type": "markdown",
   "metadata": {},
   "source": [
    "### Filtered data"
   ]
  },
  {
   "cell_type": "code",
   "execution_count": 5,
   "metadata": {},
   "outputs": [],
   "source": [
    "X_filter, target_dico_filter = utils_crops.filter_ndvi_data(X,targets_dico)\n",
    "y_filter = list(target_dico_filter.values())"
   ]
  },
  {
   "cell_type": "code",
   "execution_count": 6,
   "metadata": {},
   "outputs": [
    {
     "name": "stderr",
     "output_type": "stream",
     "text": [
      "100%|██████████| 168/168 [00:00<00:00, 716.80it/s]\n"
     ]
    }
   ],
   "source": [
    "ll = None\n",
    "at = False\n",
    "depth1 = 2\n",
    "depth2 = 2\n",
    "\n",
    "X_sigEsig = []\n",
    "    \n",
    "# take sigEsig feature map\n",
    "for bag in tqdm(X_filter):\n",
    "    intermediate = []\n",
    "    for path in bag:\n",
    "        if ll is not None:\n",
    "            path = LeadLag(ll).fit_transform([path])[0]\n",
    "        if at:\n",
    "            path = AddTime().fit_transform([path])[0]\n",
    "        sig_path = iisignature.sig(path, depth1, 2) \n",
    "        intermediate.append(sig_path)\n",
    "\n",
    "    try:\n",
    "        intermediate = iisignature.sig(intermediate, depth2)\n",
    "    except:\n",
    "        intermediate_intermediate = []\n",
    "        for p in intermediate:\n",
    "            try:\n",
    "                intermediate_intermediate.append(iisignature.sig(p, depth2))\n",
    "            except:\n",
    "                pass\n",
    "        intermediate = np.array(intermediate_intermediate)\n",
    "\n",
    "    X_sigEsig.append(intermediate.mean(0))\n",
    "X_sigEsig = np.array(X_sigEsig)"
   ]
  },
  {
   "cell_type": "code",
   "execution_count": 7,
   "metadata": {},
   "outputs": [],
   "source": [
    "clf = LassoCV(cv=20, normalize=True).fit(X_sigEsig, y_filter)\n",
    "importance = np.abs(clf.coef_)"
   ]
  },
  {
   "cell_type": "code",
   "execution_count": 8,
   "metadata": {},
   "outputs": [],
   "source": [
    "dico = {1:'nR',2:'R'}#,3:'niRedLag',4:'RedLag'}\n",
    "dico = utils_crops.get_sig_keys(utils_crops.get_sig_keys(dico,2),2)\n",
    "interpretability = {sig_term:val for sig_term,val in zip(dico.values(),importance)}"
   ]
  },
  {
   "cell_type": "code",
   "execution_count": 9,
   "metadata": {
    "scrolled": false
   },
   "outputs": [],
   "source": [
    "df = pd.DataFrame.from_dict(interpretability, orient='index').sort_values(0, ascending=True).iloc[24:,:]\n",
    "df.columns = ['feature importance']"
   ]
  },
  {
   "cell_type": "code",
   "execution_count": 10,
   "metadata": {},
   "outputs": [
    {
     "data": {
      "image/png": "[encoded data removed]",
      "text/plain": [
       "<matplotlib.figure.Figure at 0x7fa1456e26a0>"
      ]
     },
     "metadata": {},
     "output_type": "display_data"
    }
   ],
   "source": [
    "fig, ax = plt.subplots()\n",
    "df.plot(kind='barh', color='blue', ax=ax, grid=False)\n",
    "ax.legend(loc='lower right')\n",
    "# ax.set_xlabel('amplitude')\n",
    "plt.xticks([])\n",
    "plt.savefig('../pictures/feature_importance.png')\n",
    "plt.show()"
   ]
  },
  {
   "cell_type": "markdown",
   "metadata": {},
   "source": [
    "# Climatic dataset (3 years)"
   ]
  },
  {
   "cell_type": "code",
   "execution_count": 2,
   "metadata": {},
   "outputs": [],
   "source": [
    "targets_dico = pickle.load(open('../data/clim_labels.obj', 'rb'))\n",
    "y = list(targets_dico.values())"
   ]
  },
  {
   "cell_type": "markdown",
   "metadata": {},
   "source": [
    "### 3-hourly "
   ]
  },
  {
   "cell_type": "code",
   "execution_count": 3,
   "metadata": {},
   "outputs": [],
   "source": [
    "reload(utils_crops)\n",
    "input1 = pickle.load(open('../data/clim_bags_1.obj', 'rb'))\n",
    "input2 = pickle.load(open('../data/clim_bags_2.obj', 'rb'))\n",
    "X = input1 + input2"
   ]
  },
  {
   "cell_type": "code",
   "execution_count": 4,
   "metadata": {},
   "outputs": [],
   "source": [
    "# possibly subsample the data\n",
    "subsamping_rate = 0 # fraction of observations to drop\n",
    "X = utils_crops.subsample(X,subsamping_rate)"
   ]
  },
  {
   "cell_type": "markdown",
   "metadata": {},
   "source": [
    "###  daily averages"
   ]
  },
  {
   "cell_type": "code",
   "execution_count": 8,
   "metadata": {},
   "outputs": [],
   "source": [
    "# X = pickle.load(open('crops/clim_summary_bags.obj', 'rb'))"
   ]
  },
  {
   "cell_type": "code",
   "execution_count": 4,
   "metadata": {},
   "outputs": [
    {
     "data": {
      "text/plain": [
       "<module 'utils_crops' from '../src/utils_crops.py'>"
      ]
     },
     "execution_count": 4,
     "metadata": {},
     "output_type": "execute_result"
    }
   ],
   "source": [
    "reload(utils_crops)"
   ]
  },
  {
   "cell_type": "markdown",
   "metadata": {},
   "source": [
    "**Fit the models**"
   ]
  },
  {
   "cell_type": "code",
   "execution_count": 32,
   "metadata": {},
   "outputs": [
    {
     "data": {
      "text/plain": [
       "<module 'RBF_RBF' from '../src/RBF_RBF.py'>"
      ]
     },
     "execution_count": 32,
     "metadata": {},
     "output_type": "execute_result"
    }
   ],
   "source": [
    "reload(RBF_RBF)"
   ]
  },
  {
   "cell_type": "code",
   "execution_count": 34,
   "metadata": {},
   "outputs": [],
   "source": [
    "RBF_RBF.model(X=X, y=y, ll=None, at=False, mode='krr', NUM_TRIALS=5,  cv=3)"
   ]
  },
  {
   "cell_type": "code",
   "execution_count": 35,
   "metadata": {},
   "outputs": [
    {
     "data": {
      "text/plain": [
       "<module 'kerES' from '../src/kerES.py'>"
      ]
     },
     "execution_count": 35,
     "metadata": {},
     "output_type": "execute_result"
    }
   ],
   "source": [
    "reload(kerES)"
   ]
  },
  {
   "cell_type": "code",
   "execution_count": 39,
   "metadata": {},
   "outputs": [
    {
     "name": "stderr",
     "output_type": "stream",
     "text": [
      " 20%|██        | 1/5 [00:33<02:14, 33.57s/it]"
     ]
    },
    {
     "name": "stdout",
     "output_type": "stream",
     "text": [
      "best truncation level:  4\n"
     ]
    },
    {
     "name": "stderr",
     "output_type": "stream",
     "text": [
      "\r",
      " 40%|████      | 2/5 [01:07<01:40, 33.66s/it]"
     ]
    },
    {
     "name": "stdout",
     "output_type": "stream",
     "text": [
      "best truncation level:  4\n"
     ]
    },
    {
     "name": "stderr",
     "output_type": "stream",
     "text": [
      "\r",
      " 60%|██████    | 3/5 [01:41<01:07, 33.73s/it]"
     ]
    },
    {
     "name": "stdout",
     "output_type": "stream",
     "text": [
      "best truncation level:  4\n"
     ]
    },
    {
     "name": "stderr",
     "output_type": "stream",
     "text": [
      "\r",
      " 80%|████████  | 4/5 [02:15<00:33, 33.79s/it]"
     ]
    },
    {
     "name": "stdout",
     "output_type": "stream",
     "text": [
      "best truncation level:  4\n"
     ]
    },
    {
     "name": "stderr",
     "output_type": "stream",
     "text": [
      "\r",
      "100%|██████████| 5/5 [02:48<00:00, 33.66s/it]"
     ]
    },
    {
     "name": "stdout",
     "output_type": "stream",
     "text": [
      "best truncation level:  4\n"
     ]
    },
    {
     "name": "stderr",
     "output_type": "stream",
     "text": [
      "\n"
     ]
    },
    {
     "data": {
      "text/plain": [
       "(0.4775907537095049, 0.12958888726848877)"
      ]
     },
     "execution_count": 39,
     "metadata": {},
     "output_type": "execute_result"
    }
   ],
   "source": [
    "kerES.model(X, y, depths=[2,3,4],ll=[0], at=True, mode='krr', NUM_TRIALS=5,  cv=3)"
   ]
  },
  {
   "cell_type": "code",
   "execution_count": 5,
   "metadata": {},
   "outputs": [
    {
     "data": {
      "text/plain": [
       "<module 'linSES' from '../src/linSES.py'>"
      ]
     },
     "execution_count": 5,
     "metadata": {},
     "output_type": "execute_result"
    }
   ],
   "source": [
    "reload(linSES)"
   ]
  },
  {
   "cell_type": "code",
   "execution_count": 2,
   "metadata": {},
   "outputs": [],
   "source": [
    "linSES.model(X, y, depths1=[3], depth2=2, ll=[0,1,2], at=True, NUM_TRIALS=5,  cv=3)"
   ]
  }
 ],
 "metadata": {
  "kernelspec": {
   "display_name": "Python 3",
   "language": "python",
   "name": "python3"
  },
  "language_info": {
   "codemirror_mode": {
    "name": "ipython",
    "version": 3
   },
   "file_extension": ".py",
   "mimetype": "text/x-python",
   "name": "python",
   "nbconvert_exporter": "python",
   "pygments_lexer": "ipython3",
   "version": "3.7.4"
  },
  "latex_envs": {
   "LaTeX_envs_menu_present": true,
   "autoclose": false,
   "autocomplete": true,
   "bibliofile": "biblio.bib",
   "cite_by": "apalike",
   "current_citInitial": 1,
   "eqLabelWithNumbers": true,
   "eqNumInitial": 1,
   "hotkeys": {
    "equation": "Ctrl-E",
    "itemize": "Ctrl-I"
   },
   "labels_anchors": false,
   "latex_user_defs": false,
   "report_style_numbering": false,
   "user_envs_cfg": false
  },
  "toc": {
   "nav_menu": {},
   "number_sections": true,
   "sideBar": true,
   "skip_h1_title": false,
   "title_cell": "Table of Contents",
   "title_sidebar": "Contents",
   "toc_cell": true,
   "toc_position": {},
   "toc_section_display": true,
   "toc_window_display": true
  }
 },
 "nbformat": 4,
 "nbformat_minor": 2
}
