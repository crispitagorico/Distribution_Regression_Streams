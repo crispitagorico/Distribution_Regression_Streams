{
 "cells": [
  {
   "cell_type": "markdown",
   "metadata": {
    "toc": true
   },
   "source": [
    "<h1>Table of Contents<span class=\"tocSkip\"></span></h1>\n",
    "<div class=\"toc\"><ul class=\"toc-item\"></ul></div>"
   ]
  },
  {
   "cell_type": "code",
   "execution_count": 2,
   "metadata": {},
   "outputs": [],
   "source": [
    "from importlib import reload\n",
    "import pandas as pd\n",
    "import numpy as np\n",
    "from matplotlib import pyplot as plt\n",
    "from sklearn.model_selection import train_test_split\n",
    "import utils_covid\n",
    "from utils_covid import *\n",
    "from GP_models import GP_classic as GP_naive\n",
    "from GP_models import GP_sig_precomputed as GP_sig\n",
    "import experiments\n",
    "from experiments import * \n",
    "import signature_features_covid\n",
    "from signature_features_covid import *"
   ]
  },
  {
   "cell_type": "code",
   "execution_count": 3,
   "metadata": {},
   "outputs": [],
   "source": [
    "data_covid = pd.read_csv('covid_data/us-counties.csv')\n",
    "pop_state = pd.read_csv('covid_data/SCPRC-EST2019-18+POP-RES.csv')\n",
    "pop_county = pd.read_csv('covid_data/co-est2019-alldata.csv',encoding = \"ISO-8859-1\")"
   ]
  },
  {
   "cell_type": "code",
   "execution_count": 4,
   "metadata": {},
   "outputs": [],
   "source": [
    "pop_county['CTYNAME'] = pop_county['CTYNAME'].apply(lambda x: x.split(' County')[0])\n",
    "pop_county['CTYNAME'] = pop_county['CTYNAME'].apply(lambda x: x.split(' Parish')[0])\n",
    "pop_county['CTYNAME'] = pop_county['CTYNAME'].apply(lambda x: x.split(' Municipality')[0])\n",
    "pop_county['CTYNAME'] = pop_county['CTYNAME'].apply(lambda x: x.split(' City')[0])"
   ]
  },
  {
   "cell_type": "code",
   "execution_count": 5,
   "metadata": {},
   "outputs": [],
   "source": [
    "data_covid['county'] = data_covid['county'].apply(lambda x: x.split(' City')[0])\n",
    "data_covid['county'] = data_covid['county'].apply(lambda x: x.split(' City')[0])"
   ]
  },
  {
   "cell_type": "markdown",
   "metadata": {},
   "source": [
    "Change the data into the format compatible with our code.\\\\\n",
    "\n",
    "N_bags x N_items x time x dim <-> N_states x N_counties x time x 2\n",
    "\n",
    "However, we won't have the same number of counties per state, hence need to adapt the code base\n",
    "\n",
    "Also, the times are not the same for each county"
   ]
  },
  {
   "cell_type": "code",
   "execution_count": 6,
   "metadata": {},
   "outputs": [
    {
     "name": "stdout",
     "output_type": "stream",
     "text": [
      "Puerto Rico\n",
      "Northern Mariana Islands\n",
      "Guam\n",
      "Virgin Islands\n"
     ]
    }
   ],
   "source": [
    "data_covid['county']\n",
    "states = list(set(data_covid.state.values))\n",
    "states_pop = list(set(pop_state.NAME.values))\n",
    "N_states = len(states)\n",
    "\n",
    "for state in states:\n",
    "    if not state in states_pop:\n",
    "        print(state)\n",
    "        "
   ]
  },
  {
   "cell_type": "code",
   "execution_count": 408,
   "metadata": {},
   "outputs": [
    {
     "name": "stdout",
     "output_type": "stream",
     "text": [
      "1416\n"
     ]
    }
   ],
   "source": [
    "bags = []\n",
    "labels = []\n",
    "weigthed_labels = []\n",
    "count=0\n",
    "last_day = []\n",
    "pop = []\n",
    "weights = []\n",
    "list_df = {}\n",
    "\n",
    "for state in states_pop:\n",
    "\n",
    "    bag = []\n",
    "    label = []\n",
    "    weight = []\n",
    "    \n",
    "    state_data = data_covid[data_covid['state']==state]\n",
    "    counties_state = list(set(state_data.county.values))\n",
    "    \n",
    "    df = pd.DataFrame(columns=['date','county','cases','death'])\n",
    "    \n",
    "    for county in counties_state:\n",
    "        \n",
    "        \n",
    "        \n",
    "        item = state_data[state_data['county']==county]\n",
    "        \n",
    "        item = item[item['date']<'2020-03-31']\n",
    "        np_item = item[['cases','deaths']].to_numpy()\n",
    "        \n",
    "        if len(np_item)<10 or county=='Unknown':\n",
    "            count+=1\n",
    "        else:\n",
    "          \n",
    "            #tot_pop = pop_state[pop_state['NAME']==state]['POPESTIMATE2019'].values[0]\n",
    "            county_pop = pop_county[pop_county['CTYNAME']==county]['POPESTIMATE2019'].values[0]\n",
    "            df.append(item)\n",
    "            bag.append(np_item[:-7,:])\n",
    "            label.append(np_item[-7,-1])\n",
    "            #bag.append(100*np_item[:-1,:]/population)\n",
    "            #label.append(100.*np_item[-1,-1]/population)\n",
    "            last_day.append(item['date'].values[-1])\n",
    "            weight.append(county_pop)\n",
    "    if len(bag)>=1:\n",
    "        list_df[state]=df\n",
    "        name_states.append(state)\n",
    "        if True:#sum(label)<1000:\n",
    "            bags.append(bag)\n",
    "            labels.append(label)\n",
    "            #pop.append(population)\n",
    "            weights.append(weight)\n",
    "\n",
    "print(count)"
   ]
  },
  {
   "cell_type": "code",
   "execution_count": 409,
   "metadata": {},
   "outputs": [
    {
     "name": "stdout",
     "output_type": "stream",
     "text": [
      "50\n",
      "50\n",
      "226\n"
     ]
    }
   ],
   "source": [
    "print(len(list_df))\n",
    "print(len(labels))\n",
    "print(max([sum(e) for e in labels]))"
   ]
  },
  {
   "cell_type": "code",
   "execution_count": 410,
   "metadata": {},
   "outputs": [],
   "source": [
    "weights_ = [[np.float64(county)/np.float64(sum(state)) for county in state] for state in weights]"
   ]
  },
  {
   "cell_type": "markdown",
   "metadata": {},
   "source": [
    "Train test split"
   ]
  },
  {
   "cell_type": "code",
   "execution_count": 411,
   "metadata": {},
   "outputs": [],
   "source": [
    "y_weighted = [np.sum([np.array(weights_[i])*np.array(labels[i])]) for i,e in enumerate(labels)]\n",
    "#y_weighted = [1000*np.sum(np.array(labels[i]))/np.sum(np.array(weights[i])) for i,e in enumerate(labels)]\n",
    "y_weighted = np.array(y_weighted)[:,None]\n",
    "y = [np.mean(e) for i,e in enumerate(labels)]\n",
    "y = np.array(y)[:,None]"
   ]
  },
  {
   "cell_type": "code",
   "execution_count": 412,
   "metadata": {},
   "outputs": [],
   "source": [
    "reload(utils_covid)\n",
    "data_aug = []\n",
    "for i in range(len(bags)):\n",
    "    data_aug.append(utils_covid.add_dimension2(bags[i],add_time=True,lead_lag=[1]))\n",
    "    \n",
    "#data_aug = [e.copy() for e in bags]"
   ]
  },
  {
   "cell_type": "code",
   "execution_count": 413,
   "metadata": {},
   "outputs": [
    {
     "name": "stdout",
     "output_type": "stream",
     "text": [
      "40\n",
      "10\n"
     ]
    },
    {
     "data": {
      "image/png": "[encoded data removed]",
      "text/plain": [
       "<Figure size 432x288 with 1 Axes>"
      ]
     },
     "metadata": {
      "needs_background": "light"
     },
     "output_type": "display_data"
    },
    {
     "name": "stdout",
     "output_type": "stream",
     "text": [
      "(11, 4)\n"
     ]
    },
    {
     "data": {
      "image/png": "[encoded data removed]",
      "text/plain": [
       "<Figure size 432x288 with 1 Axes>"
      ]
     },
     "metadata": {
      "needs_background": "light"
     },
     "output_type": "display_data"
    }
   ],
   "source": [
    "reload(utils_covid)\n",
    "data_scaled, y_scaled, train_index, test_index = utils_covid.split_standardize(y_weighted,data_aug,standardized_input=True, standardized_label=False,method='standard',random_state=1)\n",
    "\n",
    "print(len(train_index))\n",
    "print(len(test_index))\n",
    "plt.hist(y_scaled[train_index,:])\n",
    "plt.show()\n",
    "print(data_scaled[0][0].shape)\n",
    "plt.plot(data_scaled[5][0])\n",
    "plt.show()\n"
   ]
  },
  {
   "cell_type": "code",
   "execution_count": 414,
   "metadata": {},
   "outputs": [
    {
     "name": "stdout",
     "output_type": "stream",
     "text": [
      "maxi 40000.0\n"
     ]
    }
   ],
   "source": [
    "# # specs for expected sig \n",
    "reload(signature_features_covid)\n",
    "reload(experiments)\n",
    "reload(GP_sig)\n",
    "sig_level1 = 2\n",
    "M = 20000\n",
    "\n",
    "results = []\n",
    "\n",
    "\n",
    "\n",
    "# pathwise expected sig  \n",
    "#expected_pathwise_sig,bags_before,bags_after = signature_features_covid.scaled_expected_sig([e.copy() for e in data_scaled],sig_level1,M=M,a=1,ilya_rescale=True,return_norms=True)\n",
    "expected_pathwise_sig = signature_features_covid.scaled_expected_sig([e.copy() for e in data_scaled],sig_level1,M=M,a=1,ilya_rescale=False,return_norms=False,weights=weights_)\n"
   ]
  },
  {
   "cell_type": "code",
   "execution_count": 415,
   "metadata": {},
   "outputs": [],
   "source": [
    "# fig,ax = plt.subplots(1,2,figsize=(15,5))\n",
    "# ax[0].hist(bags_before)\n",
    "# ax[1].hist(bags_after)\n",
    "# plt.show()"
   ]
  },
  {
   "cell_type": "code",
   "execution_count": 416,
   "metadata": {},
   "outputs": [
    {
     "name": "stdout",
     "output_type": "stream",
     "text": [
      "(50, 20)\n"
     ]
    }
   ],
   "source": [
    "pop_scaled=pop\n",
    "#print(pop_scaled)\n",
    "#features = []\n",
    "#for i in range(len(expected_pathwise_sig)):\n",
    " #   features.append(np.insert(expected_pathwise_sig[i],0,pop_scaled[i]))\n",
    "#features = np.array(features)\n",
    "#print(features.shape)\n",
    "features = expected_pathwise_sig\n",
    "\n",
    "scaler = StandardScaler()\n",
    "to_fit = [features[i] for i in train_index]\n",
    "scaler.fit(to_fit)\n",
    "features = scaler.transform(features)\n",
    "print(features.shape)"
   ]
  },
  {
   "cell_type": "code",
   "execution_count": 417,
   "metadata": {},
   "outputs": [
    {
     "data": {
      "application/vnd.jupyter.widget-view+json": {
       "model_id": "1e54ae66db4349e789f09c0a8dda70aa",
       "version_major": 2,
       "version_minor": 0
      },
      "text/plain": [
       "HBox(children=(FloatProgress(value=0.0, max=20000.0), HTML(value='')))"
      ]
     },
     "metadata": {},
     "output_type": "display_data"
    },
    {
     "data": {
      "image/png": "[encoded data removed]",
      "text/plain": [
       "<Figure size 432x288 with 1 Axes>"
      ]
     },
     "metadata": {
      "needs_background": "light"
     },
     "output_type": "display_data"
    },
    {
     "data": {
      "image/png": "[encoded data removed]",
      "text/plain": [
       "<Figure size 1800x504 with 2 Axes>"
      ]
     },
     "metadata": {
      "needs_background": "light"
     },
     "output_type": "display_data"
    }
   ],
   "source": [
    "\n",
    "K_precomputed = experiments.precompute_K(features)\n",
    "RMSE_train, R2_train, RMSE_test, R2_test = experiments.experiment_precomputed(K_precomputed, y_scaled,train_index,test_index,param_init=[0,0,0],RBF=False,plot=True)\n"
   ]
  },
  {
   "cell_type": "code",
   "execution_count": 1042,
   "metadata": {},
   "outputs": [],
   "source": [
    "# # specs for pathwise expected sig\n",
    "# reload(signature_features_covid)\n",
    "# reload(experiments)\n",
    "# reload(GP_sig)\n",
    "# sig_level1 = 2\n",
    "# M1 = 10\n",
    "# M2 = 10\n",
    "# window = 0\n",
    "\n",
    "# # specs for signature\n",
    "# sig_level2 = 2\n",
    "\n",
    "\n",
    "# results = []\n",
    "\n",
    "\n",
    "# # pathwise expected sig  \n",
    "# expected_pathwise_sig = signature_features_covid.scaled_pathwise_expected_iisignature([e.copy() for e in data_scaled],sig_level1,M=M1,a=1,ilya_rescale=True,return_norms=False)\n",
    "# # final features \n",
    "# #signatures = signatory.signature(torch.tensor(expected_pathwise_sig),sig_level2)\n",
    "# signatures = signature_features_covid.scale_path_ilya(expected_pathwise_sig,sig_level2,M=M2,a=1, return_norms=False)\n",
    "# K_precomputed = experiments.precompute_K(signatures)\n",
    "# RMSE_train, R2_train, RMSE_test, R2_test = experiments.experiment_precomputed(K_precomputed, y_scaled,train_index,test_index, param_init=[0,5,0],RBF=False,plot=True)\n",
    "# results.append(R2_test)\n",
    "\n",
    "# print(np.mean(results))\n",
    "      "
   ]
  }
 ],
 "metadata": {
  "kernelspec": {
   "display_name": "Python 3",
   "language": "python",
   "name": "python3"
  },
  "language_info": {
   "codemirror_mode": {
    "name": "ipython",
    "version": 3
   },
   "file_extension": ".py",
   "mimetype": "text/x-python",
   "name": "python",
   "nbconvert_exporter": "python",
   "pygments_lexer": "ipython3",
   "version": "3.7.4"
  },
  "latex_envs": {
   "LaTeX_envs_menu_present": true,
   "autoclose": false,
   "autocomplete": true,
   "bibliofile": "biblio.bib",
   "cite_by": "apalike",
   "current_citInitial": 1,
   "eqLabelWithNumbers": true,
   "eqNumInitial": 1,
   "hotkeys": {
    "equation": "Ctrl-E",
    "itemize": "Ctrl-I"
   },
   "labels_anchors": false,
   "latex_user_defs": false,
   "report_style_numbering": false,
   "user_envs_cfg": false
  },
  "toc": {
   "nav_menu": {},
   "number_sections": true,
   "sideBar": true,
   "skip_h1_title": false,
   "title_cell": "Table of Contents",
   "title_sidebar": "Contents",
   "toc_cell": true,
   "toc_position": {},
   "toc_section_display": true,
   "toc_window_display": true
  }
 },
 "nbformat": 4,
 "nbformat_minor": 2
}
